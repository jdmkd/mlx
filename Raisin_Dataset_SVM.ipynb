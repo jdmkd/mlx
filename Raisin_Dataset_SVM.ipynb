{
 "cells": [
  {
   "cell_type": "code",
   "execution_count": 1,
   "id": "d2c27905",
   "metadata": {},
   "outputs": [],
   "source": [
    "import pandas as pd"
   ]
  },
  {
   "cell_type": "code",
   "execution_count": 2,
   "id": "00fe443a",
   "metadata": {
    "scrolled": true
   },
   "outputs": [
    {
     "data": {
      "text/html": [
       "<div>\n",
       "<style scoped>\n",
       "    .dataframe tbody tr th:only-of-type {\n",
       "        vertical-align: middle;\n",
       "    }\n",
       "\n",
       "    .dataframe tbody tr th {\n",
       "        vertical-align: top;\n",
       "    }\n",
       "\n",
       "    .dataframe thead th {\n",
       "        text-align: right;\n",
       "    }\n",
       "</style>\n",
       "<table border=\"1\" class=\"dataframe\">\n",
       "  <thead>\n",
       "    <tr style=\"text-align: right;\">\n",
       "      <th></th>\n",
       "      <th>Area</th>\n",
       "      <th>MajorAxisLength</th>\n",
       "      <th>MinorAxisLength</th>\n",
       "      <th>Eccentricity</th>\n",
       "      <th>ConvexArea</th>\n",
       "      <th>Extent</th>\n",
       "      <th>Perimeter</th>\n",
       "      <th>Class</th>\n",
       "    </tr>\n",
       "  </thead>\n",
       "  <tbody>\n",
       "    <tr>\n",
       "      <th>0</th>\n",
       "      <td>87524</td>\n",
       "      <td>442.246011</td>\n",
       "      <td>253.291155</td>\n",
       "      <td>0.819738</td>\n",
       "      <td>90546</td>\n",
       "      <td>0.758651</td>\n",
       "      <td>1184.040</td>\n",
       "      <td>Kecimen</td>\n",
       "    </tr>\n",
       "    <tr>\n",
       "      <th>1</th>\n",
       "      <td>75166</td>\n",
       "      <td>406.690687</td>\n",
       "      <td>243.032436</td>\n",
       "      <td>0.801805</td>\n",
       "      <td>78789</td>\n",
       "      <td>0.684130</td>\n",
       "      <td>1121.786</td>\n",
       "      <td>Kecimen</td>\n",
       "    </tr>\n",
       "    <tr>\n",
       "      <th>2</th>\n",
       "      <td>90856</td>\n",
       "      <td>442.267048</td>\n",
       "      <td>266.328318</td>\n",
       "      <td>0.798354</td>\n",
       "      <td>93717</td>\n",
       "      <td>0.637613</td>\n",
       "      <td>1208.575</td>\n",
       "      <td>Kecimen</td>\n",
       "    </tr>\n",
       "    <tr>\n",
       "      <th>3</th>\n",
       "      <td>45928</td>\n",
       "      <td>286.540559</td>\n",
       "      <td>208.760042</td>\n",
       "      <td>0.684989</td>\n",
       "      <td>47336</td>\n",
       "      <td>0.699599</td>\n",
       "      <td>844.162</td>\n",
       "      <td>Kecimen</td>\n",
       "    </tr>\n",
       "    <tr>\n",
       "      <th>4</th>\n",
       "      <td>79408</td>\n",
       "      <td>352.190770</td>\n",
       "      <td>290.827533</td>\n",
       "      <td>0.564011</td>\n",
       "      <td>81463</td>\n",
       "      <td>0.792772</td>\n",
       "      <td>1073.251</td>\n",
       "      <td>Kecimen</td>\n",
       "    </tr>\n",
       "    <tr>\n",
       "      <th>...</th>\n",
       "      <td>...</td>\n",
       "      <td>...</td>\n",
       "      <td>...</td>\n",
       "      <td>...</td>\n",
       "      <td>...</td>\n",
       "      <td>...</td>\n",
       "      <td>...</td>\n",
       "      <td>...</td>\n",
       "    </tr>\n",
       "    <tr>\n",
       "      <th>895</th>\n",
       "      <td>83248</td>\n",
       "      <td>430.077308</td>\n",
       "      <td>247.838695</td>\n",
       "      <td>0.817263</td>\n",
       "      <td>85839</td>\n",
       "      <td>0.668793</td>\n",
       "      <td>1129.072</td>\n",
       "      <td>Besni</td>\n",
       "    </tr>\n",
       "    <tr>\n",
       "      <th>896</th>\n",
       "      <td>87350</td>\n",
       "      <td>440.735698</td>\n",
       "      <td>259.293149</td>\n",
       "      <td>0.808629</td>\n",
       "      <td>90899</td>\n",
       "      <td>0.636476</td>\n",
       "      <td>1214.252</td>\n",
       "      <td>Besni</td>\n",
       "    </tr>\n",
       "    <tr>\n",
       "      <th>897</th>\n",
       "      <td>99657</td>\n",
       "      <td>431.706981</td>\n",
       "      <td>298.837323</td>\n",
       "      <td>0.721684</td>\n",
       "      <td>106264</td>\n",
       "      <td>0.741099</td>\n",
       "      <td>1292.828</td>\n",
       "      <td>Besni</td>\n",
       "    </tr>\n",
       "    <tr>\n",
       "      <th>898</th>\n",
       "      <td>93523</td>\n",
       "      <td>476.344094</td>\n",
       "      <td>254.176054</td>\n",
       "      <td>0.845739</td>\n",
       "      <td>97653</td>\n",
       "      <td>0.658798</td>\n",
       "      <td>1258.548</td>\n",
       "      <td>Besni</td>\n",
       "    </tr>\n",
       "    <tr>\n",
       "      <th>899</th>\n",
       "      <td>85609</td>\n",
       "      <td>512.081774</td>\n",
       "      <td>215.271976</td>\n",
       "      <td>0.907345</td>\n",
       "      <td>89197</td>\n",
       "      <td>0.632020</td>\n",
       "      <td>1272.862</td>\n",
       "      <td>Besni</td>\n",
       "    </tr>\n",
       "  </tbody>\n",
       "</table>\n",
       "<p>900 rows × 8 columns</p>\n",
       "</div>"
      ],
      "text/plain": [
       "      Area  MajorAxisLength  MinorAxisLength  Eccentricity  ConvexArea  \\\n",
       "0    87524       442.246011       253.291155      0.819738       90546   \n",
       "1    75166       406.690687       243.032436      0.801805       78789   \n",
       "2    90856       442.267048       266.328318      0.798354       93717   \n",
       "3    45928       286.540559       208.760042      0.684989       47336   \n",
       "4    79408       352.190770       290.827533      0.564011       81463   \n",
       "..     ...              ...              ...           ...         ...   \n",
       "895  83248       430.077308       247.838695      0.817263       85839   \n",
       "896  87350       440.735698       259.293149      0.808629       90899   \n",
       "897  99657       431.706981       298.837323      0.721684      106264   \n",
       "898  93523       476.344094       254.176054      0.845739       97653   \n",
       "899  85609       512.081774       215.271976      0.907345       89197   \n",
       "\n",
       "       Extent  Perimeter    Class  \n",
       "0    0.758651   1184.040  Kecimen  \n",
       "1    0.684130   1121.786  Kecimen  \n",
       "2    0.637613   1208.575  Kecimen  \n",
       "3    0.699599    844.162  Kecimen  \n",
       "4    0.792772   1073.251  Kecimen  \n",
       "..        ...        ...      ...  \n",
       "895  0.668793   1129.072    Besni  \n",
       "896  0.636476   1214.252    Besni  \n",
       "897  0.741099   1292.828    Besni  \n",
       "898  0.658798   1258.548    Besni  \n",
       "899  0.632020   1272.862    Besni  \n",
       "\n",
       "[900 rows x 8 columns]"
      ]
     },
     "execution_count": 2,
     "metadata": {},
     "output_type": "execute_result"
    }
   ],
   "source": [
    "df = pd.read_csv(\"Raisin_Dataset.csv\")\n",
    "df"
   ]
  },
  {
   "cell_type": "code",
   "execution_count": 3,
   "id": "4f42f1dd",
   "metadata": {},
   "outputs": [
    {
     "data": {
      "text/plain": [
       "array([[8.75240000e+04, 4.42246011e+02, 2.53291155e+02, 8.19738392e-01],\n",
       "       [7.51660000e+04, 4.06690687e+02, 2.43032436e+02, 8.01805234e-01],\n",
       "       [9.08560000e+04, 4.42267048e+02, 2.66328318e+02, 7.98353619e-01],\n",
       "       ...,\n",
       "       [9.96570000e+04, 4.31706981e+02, 2.98837323e+02, 7.21684066e-01],\n",
       "       [9.35230000e+04, 4.76344094e+02, 2.54176054e+02, 8.45738510e-01],\n",
       "       [8.56090000e+04, 5.12081774e+02, 2.15271976e+02, 9.07345395e-01]])"
      ]
     },
     "execution_count": 3,
     "metadata": {},
     "output_type": "execute_result"
    }
   ],
   "source": [
    "x=df.iloc[:,[0,1,2,3]].values\n",
    "x"
   ]
  },
  {
   "cell_type": "code",
   "execution_count": 4,
   "id": "a4d73259",
   "metadata": {},
   "outputs": [
    {
     "data": {
      "text/plain": [
       "array(['Kecimen', 'Kecimen', 'Kecimen', 'Kecimen', 'Kecimen', 'Kecimen',\n",
       "       'Kecimen', 'Kecimen', 'Kecimen', 'Kecimen', 'Kecimen', 'Kecimen',\n",
       "       'Kecimen', 'Kecimen', 'Kecimen', 'Kecimen', 'Kecimen', 'Kecimen',\n",
       "       'Kecimen', 'Kecimen', 'Kecimen', 'Kecimen', 'Kecimen', 'Kecimen',\n",
       "       'Kecimen', 'Kecimen', 'Kecimen', 'Kecimen', 'Kecimen', 'Kecimen',\n",
       "       'Kecimen', 'Kecimen', 'Kecimen', 'Kecimen', 'Kecimen', 'Kecimen',\n",
       "       'Kecimen', 'Kecimen', 'Kecimen', 'Kecimen', 'Kecimen', 'Kecimen',\n",
       "       'Kecimen', 'Kecimen', 'Kecimen', 'Kecimen', 'Kecimen', 'Kecimen',\n",
       "       'Kecimen', 'Kecimen', 'Kecimen', 'Kecimen', 'Kecimen', 'Kecimen',\n",
       "       'Kecimen', 'Kecimen', 'Kecimen', 'Kecimen', 'Kecimen', 'Kecimen',\n",
       "       'Kecimen', 'Kecimen', 'Kecimen', 'Kecimen', 'Kecimen', 'Kecimen',\n",
       "       'Kecimen', 'Kecimen', 'Kecimen', 'Kecimen', 'Kecimen', 'Kecimen',\n",
       "       'Kecimen', 'Kecimen', 'Kecimen', 'Kecimen', 'Kecimen', 'Kecimen',\n",
       "       'Kecimen', 'Kecimen', 'Kecimen', 'Kecimen', 'Kecimen', 'Kecimen',\n",
       "       'Kecimen', 'Kecimen', 'Kecimen', 'Kecimen', 'Kecimen', 'Kecimen',\n",
       "       'Kecimen', 'Kecimen', 'Kecimen', 'Kecimen', 'Kecimen', 'Kecimen',\n",
       "       'Kecimen', 'Kecimen', 'Kecimen', 'Kecimen', 'Kecimen', 'Kecimen',\n",
       "       'Kecimen', 'Kecimen', 'Kecimen', 'Kecimen', 'Kecimen', 'Kecimen',\n",
       "       'Kecimen', 'Kecimen', 'Kecimen', 'Kecimen', 'Kecimen', 'Kecimen',\n",
       "       'Kecimen', 'Kecimen', 'Kecimen', 'Kecimen', 'Kecimen', 'Kecimen',\n",
       "       'Kecimen', 'Kecimen', 'Kecimen', 'Kecimen', 'Kecimen', 'Kecimen',\n",
       "       'Kecimen', 'Kecimen', 'Kecimen', 'Kecimen', 'Kecimen', 'Kecimen',\n",
       "       'Kecimen', 'Kecimen', 'Kecimen', 'Kecimen', 'Kecimen', 'Kecimen',\n",
       "       'Kecimen', 'Kecimen', 'Kecimen', 'Kecimen', 'Kecimen', 'Kecimen',\n",
       "       'Kecimen', 'Kecimen', 'Kecimen', 'Kecimen', 'Kecimen', 'Kecimen',\n",
       "       'Kecimen', 'Kecimen', 'Kecimen', 'Kecimen', 'Kecimen', 'Kecimen',\n",
       "       'Kecimen', 'Kecimen', 'Kecimen', 'Kecimen', 'Kecimen', 'Kecimen',\n",
       "       'Kecimen', 'Kecimen', 'Kecimen', 'Kecimen', 'Kecimen', 'Kecimen',\n",
       "       'Kecimen', 'Kecimen', 'Kecimen', 'Kecimen', 'Kecimen', 'Kecimen',\n",
       "       'Kecimen', 'Kecimen', 'Kecimen', 'Kecimen', 'Kecimen', 'Kecimen',\n",
       "       'Kecimen', 'Kecimen', 'Kecimen', 'Kecimen', 'Kecimen', 'Kecimen',\n",
       "       'Kecimen', 'Kecimen', 'Kecimen', 'Kecimen', 'Kecimen', 'Kecimen',\n",
       "       'Kecimen', 'Kecimen', 'Kecimen', 'Kecimen', 'Kecimen', 'Kecimen',\n",
       "       'Kecimen', 'Kecimen', 'Kecimen', 'Kecimen', 'Kecimen', 'Kecimen',\n",
       "       'Kecimen', 'Kecimen', 'Kecimen', 'Kecimen', 'Kecimen', 'Kecimen',\n",
       "       'Kecimen', 'Kecimen', 'Kecimen', 'Kecimen', 'Kecimen', 'Kecimen',\n",
       "       'Kecimen', 'Kecimen', 'Kecimen', 'Kecimen', 'Kecimen', 'Kecimen',\n",
       "       'Kecimen', 'Kecimen', 'Kecimen', 'Kecimen', 'Kecimen', 'Kecimen',\n",
       "       'Kecimen', 'Kecimen', 'Kecimen', 'Kecimen', 'Kecimen', 'Kecimen',\n",
       "       'Kecimen', 'Kecimen', 'Kecimen', 'Kecimen', 'Kecimen', 'Kecimen',\n",
       "       'Kecimen', 'Kecimen', 'Kecimen', 'Kecimen', 'Kecimen', 'Kecimen',\n",
       "       'Kecimen', 'Kecimen', 'Kecimen', 'Kecimen', 'Kecimen', 'Kecimen',\n",
       "       'Kecimen', 'Kecimen', 'Kecimen', 'Kecimen', 'Kecimen', 'Kecimen',\n",
       "       'Kecimen', 'Kecimen', 'Kecimen', 'Kecimen', 'Kecimen', 'Kecimen',\n",
       "       'Kecimen', 'Kecimen', 'Kecimen', 'Kecimen', 'Kecimen', 'Kecimen',\n",
       "       'Kecimen', 'Kecimen', 'Kecimen', 'Kecimen', 'Kecimen', 'Kecimen',\n",
       "       'Kecimen', 'Kecimen', 'Kecimen', 'Kecimen', 'Kecimen', 'Kecimen',\n",
       "       'Kecimen', 'Kecimen', 'Kecimen', 'Kecimen', 'Kecimen', 'Kecimen',\n",
       "       'Kecimen', 'Kecimen', 'Kecimen', 'Kecimen', 'Kecimen', 'Kecimen',\n",
       "       'Kecimen', 'Kecimen', 'Kecimen', 'Kecimen', 'Kecimen', 'Kecimen',\n",
       "       'Kecimen', 'Kecimen', 'Kecimen', 'Kecimen', 'Kecimen', 'Kecimen',\n",
       "       'Kecimen', 'Kecimen', 'Kecimen', 'Kecimen', 'Kecimen', 'Kecimen',\n",
       "       'Kecimen', 'Kecimen', 'Kecimen', 'Kecimen', 'Kecimen', 'Kecimen',\n",
       "       'Kecimen', 'Kecimen', 'Kecimen', 'Kecimen', 'Kecimen', 'Kecimen',\n",
       "       'Kecimen', 'Kecimen', 'Kecimen', 'Kecimen', 'Kecimen', 'Kecimen',\n",
       "       'Kecimen', 'Kecimen', 'Kecimen', 'Kecimen', 'Kecimen', 'Kecimen',\n",
       "       'Kecimen', 'Kecimen', 'Kecimen', 'Kecimen', 'Kecimen', 'Kecimen',\n",
       "       'Kecimen', 'Kecimen', 'Kecimen', 'Kecimen', 'Kecimen', 'Kecimen',\n",
       "       'Kecimen', 'Kecimen', 'Kecimen', 'Kecimen', 'Kecimen', 'Kecimen',\n",
       "       'Kecimen', 'Kecimen', 'Kecimen', 'Kecimen', 'Kecimen', 'Kecimen',\n",
       "       'Kecimen', 'Kecimen', 'Kecimen', 'Kecimen', 'Kecimen', 'Kecimen',\n",
       "       'Kecimen', 'Kecimen', 'Kecimen', 'Kecimen', 'Kecimen', 'Kecimen',\n",
       "       'Kecimen', 'Kecimen', 'Kecimen', 'Kecimen', 'Kecimen', 'Kecimen',\n",
       "       'Kecimen', 'Kecimen', 'Kecimen', 'Kecimen', 'Kecimen', 'Kecimen',\n",
       "       'Kecimen', 'Kecimen', 'Kecimen', 'Kecimen', 'Kecimen', 'Kecimen',\n",
       "       'Kecimen', 'Kecimen', 'Kecimen', 'Kecimen', 'Kecimen', 'Kecimen',\n",
       "       'Kecimen', 'Kecimen', 'Kecimen', 'Kecimen', 'Kecimen', 'Kecimen',\n",
       "       'Kecimen', 'Kecimen', 'Kecimen', 'Kecimen', 'Kecimen', 'Kecimen',\n",
       "       'Kecimen', 'Kecimen', 'Kecimen', 'Kecimen', 'Kecimen', 'Kecimen',\n",
       "       'Kecimen', 'Kecimen', 'Kecimen', 'Kecimen', 'Kecimen', 'Kecimen',\n",
       "       'Kecimen', 'Kecimen', 'Kecimen', 'Kecimen', 'Kecimen', 'Kecimen',\n",
       "       'Kecimen', 'Kecimen', 'Kecimen', 'Kecimen', 'Kecimen', 'Kecimen',\n",
       "       'Kecimen', 'Kecimen', 'Kecimen', 'Kecimen', 'Kecimen', 'Kecimen',\n",
       "       'Kecimen', 'Kecimen', 'Kecimen', 'Kecimen', 'Kecimen', 'Kecimen',\n",
       "       'Kecimen', 'Kecimen', 'Kecimen', 'Kecimen', 'Kecimen', 'Kecimen',\n",
       "       'Besni', 'Besni', 'Besni', 'Besni', 'Besni', 'Besni', 'Besni',\n",
       "       'Besni', 'Besni', 'Besni', 'Besni', 'Besni', 'Besni', 'Besni',\n",
       "       'Besni', 'Besni', 'Besni', 'Besni', 'Besni', 'Besni', 'Besni',\n",
       "       'Besni', 'Besni', 'Besni', 'Besni', 'Besni', 'Besni', 'Besni',\n",
       "       'Besni', 'Besni', 'Besni', 'Besni', 'Besni', 'Besni', 'Besni',\n",
       "       'Besni', 'Besni', 'Besni', 'Besni', 'Besni', 'Besni', 'Besni',\n",
       "       'Besni', 'Besni', 'Besni', 'Besni', 'Besni', 'Besni', 'Besni',\n",
       "       'Besni', 'Besni', 'Besni', 'Besni', 'Besni', 'Besni', 'Besni',\n",
       "       'Besni', 'Besni', 'Besni', 'Besni', 'Besni', 'Besni', 'Besni',\n",
       "       'Besni', 'Besni', 'Besni', 'Besni', 'Besni', 'Besni', 'Besni',\n",
       "       'Besni', 'Besni', 'Besni', 'Besni', 'Besni', 'Besni', 'Besni',\n",
       "       'Besni', 'Besni', 'Besni', 'Besni', 'Besni', 'Besni', 'Besni',\n",
       "       'Besni', 'Besni', 'Besni', 'Besni', 'Besni', 'Besni', 'Besni',\n",
       "       'Besni', 'Besni', 'Besni', 'Besni', 'Besni', 'Besni', 'Besni',\n",
       "       'Besni', 'Besni', 'Besni', 'Besni', 'Besni', 'Besni', 'Besni',\n",
       "       'Besni', 'Besni', 'Besni', 'Besni', 'Besni', 'Besni', 'Besni',\n",
       "       'Besni', 'Besni', 'Besni', 'Besni', 'Besni', 'Besni', 'Besni',\n",
       "       'Besni', 'Besni', 'Besni', 'Besni', 'Besni', 'Besni', 'Besni',\n",
       "       'Besni', 'Besni', 'Besni', 'Besni', 'Besni', 'Besni', 'Besni',\n",
       "       'Besni', 'Besni', 'Besni', 'Besni', 'Besni', 'Besni', 'Besni',\n",
       "       'Besni', 'Besni', 'Besni', 'Besni', 'Besni', 'Besni', 'Besni',\n",
       "       'Besni', 'Besni', 'Besni', 'Besni', 'Besni', 'Besni', 'Besni',\n",
       "       'Besni', 'Besni', 'Besni', 'Besni', 'Besni', 'Besni', 'Besni',\n",
       "       'Besni', 'Besni', 'Besni', 'Besni', 'Besni', 'Besni', 'Besni',\n",
       "       'Besni', 'Besni', 'Besni', 'Besni', 'Besni', 'Besni', 'Besni',\n",
       "       'Besni', 'Besni', 'Besni', 'Besni', 'Besni', 'Besni', 'Besni',\n",
       "       'Besni', 'Besni', 'Besni', 'Besni', 'Besni', 'Besni', 'Besni',\n",
       "       'Besni', 'Besni', 'Besni', 'Besni', 'Besni', 'Besni', 'Besni',\n",
       "       'Besni', 'Besni', 'Besni', 'Besni', 'Besni', 'Besni', 'Besni',\n",
       "       'Besni', 'Besni', 'Besni', 'Besni', 'Besni', 'Besni', 'Besni',\n",
       "       'Besni', 'Besni', 'Besni', 'Besni', 'Besni', 'Besni', 'Besni',\n",
       "       'Besni', 'Besni', 'Besni', 'Besni', 'Besni', 'Besni', 'Besni',\n",
       "       'Besni', 'Besni', 'Besni', 'Besni', 'Besni', 'Besni', 'Besni',\n",
       "       'Besni', 'Besni', 'Besni', 'Besni', 'Besni', 'Besni', 'Besni',\n",
       "       'Besni', 'Besni', 'Besni', 'Besni', 'Besni', 'Besni', 'Besni',\n",
       "       'Besni', 'Besni', 'Besni', 'Besni', 'Besni', 'Besni', 'Besni',\n",
       "       'Besni', 'Besni', 'Besni', 'Besni', 'Besni', 'Besni', 'Besni',\n",
       "       'Besni', 'Besni', 'Besni', 'Besni', 'Besni', 'Besni', 'Besni',\n",
       "       'Besni', 'Besni', 'Besni', 'Besni', 'Besni', 'Besni', 'Besni',\n",
       "       'Besni', 'Besni', 'Besni', 'Besni', 'Besni', 'Besni', 'Besni',\n",
       "       'Besni', 'Besni', 'Besni', 'Besni', 'Besni', 'Besni', 'Besni',\n",
       "       'Besni', 'Besni', 'Besni', 'Besni', 'Besni', 'Besni', 'Besni',\n",
       "       'Besni', 'Besni', 'Besni', 'Besni', 'Besni', 'Besni', 'Besni',\n",
       "       'Besni', 'Besni', 'Besni', 'Besni', 'Besni', 'Besni', 'Besni',\n",
       "       'Besni', 'Besni', 'Besni', 'Besni', 'Besni', 'Besni', 'Besni',\n",
       "       'Besni', 'Besni', 'Besni', 'Besni', 'Besni', 'Besni', 'Besni',\n",
       "       'Besni', 'Besni', 'Besni', 'Besni', 'Besni', 'Besni', 'Besni',\n",
       "       'Besni', 'Besni', 'Besni', 'Besni', 'Besni', 'Besni', 'Besni',\n",
       "       'Besni', 'Besni', 'Besni', 'Besni', 'Besni', 'Besni', 'Besni',\n",
       "       'Besni', 'Besni', 'Besni', 'Besni', 'Besni', 'Besni', 'Besni',\n",
       "       'Besni', 'Besni', 'Besni', 'Besni', 'Besni', 'Besni', 'Besni',\n",
       "       'Besni', 'Besni', 'Besni', 'Besni', 'Besni', 'Besni', 'Besni',\n",
       "       'Besni', 'Besni', 'Besni', 'Besni', 'Besni', 'Besni', 'Besni',\n",
       "       'Besni', 'Besni', 'Besni', 'Besni', 'Besni', 'Besni', 'Besni',\n",
       "       'Besni', 'Besni', 'Besni', 'Besni', 'Besni', 'Besni', 'Besni',\n",
       "       'Besni', 'Besni', 'Besni', 'Besni', 'Besni', 'Besni', 'Besni',\n",
       "       'Besni', 'Besni', 'Besni', 'Besni', 'Besni', 'Besni', 'Besni',\n",
       "       'Besni', 'Besni', 'Besni', 'Besni', 'Besni', 'Besni', 'Besni',\n",
       "       'Besni', 'Besni', 'Besni', 'Besni', 'Besni', 'Besni', 'Besni',\n",
       "       'Besni', 'Besni', 'Besni', 'Besni', 'Besni', 'Besni', 'Besni',\n",
       "       'Besni', 'Besni', 'Besni', 'Besni', 'Besni', 'Besni', 'Besni',\n",
       "       'Besni', 'Besni', 'Besni', 'Besni', 'Besni', 'Besni', 'Besni',\n",
       "       'Besni', 'Besni', 'Besni', 'Besni', 'Besni', 'Besni', 'Besni',\n",
       "       'Besni', 'Besni', 'Besni', 'Besni', 'Besni', 'Besni', 'Besni',\n",
       "       'Besni', 'Besni'], dtype=object)"
      ]
     },
     "execution_count": 4,
     "metadata": {},
     "output_type": "execute_result"
    }
   ],
   "source": [
    "y = df.iloc[:,7].values\n",
    "y"
   ]
  },
  {
   "cell_type": "code",
   "execution_count": 5,
   "id": "8b75974a",
   "metadata": {},
   "outputs": [],
   "source": [
    "from sklearn.model_selection import train_test_split\n",
    "X_train,X_test,Y_train,Y_test=train_test_split(x,y,test_size=0.25,random_state=10)"
   ]
  },
  {
   "cell_type": "code",
   "execution_count": 6,
   "id": "ffaea382",
   "metadata": {},
   "outputs": [],
   "source": [
    "from sklearn.svm import SVC\n"
   ]
  },
  {
   "cell_type": "code",
   "execution_count": 7,
   "id": "31946d84",
   "metadata": {},
   "outputs": [],
   "source": [
    "model=SVC(kernel='linear')\n",
    "#to call the function model"
   ]
  },
  {
   "cell_type": "code",
   "execution_count": 8,
   "id": "4f1c54cc",
   "metadata": {},
   "outputs": [
    {
     "data": {
      "text/plain": [
       "SVC(kernel='linear')"
      ]
     },
     "execution_count": 8,
     "metadata": {},
     "output_type": "execute_result"
    }
   ],
   "source": [
    "model.fit(X_train,Y_train)"
   ]
  },
  {
   "cell_type": "code",
   "execution_count": 9,
   "id": "49073a19",
   "metadata": {},
   "outputs": [],
   "source": [
    "ypred = model.predict(X_test)"
   ]
  },
  {
   "cell_type": "code",
   "execution_count": 10,
   "id": "15f347a3",
   "metadata": {},
   "outputs": [
    {
     "data": {
      "text/plain": [
       "array(['Besni', 'Kecimen', 'Kecimen', 'Kecimen', 'Kecimen', 'Kecimen',\n",
       "       'Kecimen', 'Besni', 'Kecimen', 'Kecimen', 'Besni', 'Kecimen',\n",
       "       'Besni', 'Kecimen', 'Kecimen', 'Besni', 'Kecimen', 'Kecimen',\n",
       "       'Kecimen', 'Besni', 'Besni', 'Kecimen', 'Kecimen', 'Besni',\n",
       "       'Kecimen', 'Kecimen', 'Besni', 'Kecimen', 'Besni', 'Kecimen',\n",
       "       'Besni', 'Kecimen', 'Kecimen', 'Kecimen', 'Kecimen', 'Besni',\n",
       "       'Kecimen', 'Kecimen', 'Kecimen', 'Besni', 'Kecimen', 'Besni',\n",
       "       'Besni', 'Kecimen', 'Kecimen', 'Besni', 'Kecimen', 'Besni',\n",
       "       'Besni', 'Besni', 'Kecimen', 'Kecimen', 'Besni', 'Besni', 'Besni',\n",
       "       'Kecimen', 'Besni', 'Kecimen', 'Besni', 'Besni', 'Besni', 'Besni',\n",
       "       'Kecimen', 'Kecimen', 'Besni', 'Besni', 'Kecimen', 'Kecimen',\n",
       "       'Besni', 'Besni', 'Besni', 'Besni', 'Kecimen', 'Kecimen',\n",
       "       'Kecimen', 'Kecimen', 'Besni', 'Kecimen', 'Kecimen', 'Besni',\n",
       "       'Besni', 'Kecimen', 'Kecimen', 'Kecimen', 'Besni', 'Kecimen',\n",
       "       'Besni', 'Kecimen', 'Besni', 'Besni', 'Besni', 'Besni', 'Kecimen',\n",
       "       'Kecimen', 'Besni', 'Kecimen', 'Kecimen', 'Besni', 'Besni',\n",
       "       'Besni', 'Kecimen', 'Kecimen', 'Kecimen', 'Kecimen', 'Kecimen',\n",
       "       'Besni', 'Kecimen', 'Besni', 'Kecimen', 'Besni', 'Besni',\n",
       "       'Kecimen', 'Kecimen', 'Kecimen', 'Kecimen', 'Kecimen', 'Besni',\n",
       "       'Besni', 'Kecimen', 'Kecimen', 'Besni', 'Besni', 'Besni',\n",
       "       'Kecimen', 'Besni', 'Besni', 'Kecimen', 'Besni', 'Besni', 'Besni',\n",
       "       'Kecimen', 'Kecimen', 'Kecimen', 'Kecimen', 'Kecimen', 'Kecimen',\n",
       "       'Kecimen', 'Besni', 'Kecimen', 'Besni', 'Kecimen', 'Besni',\n",
       "       'Besni', 'Besni', 'Kecimen', 'Kecimen', 'Kecimen', 'Kecimen',\n",
       "       'Kecimen', 'Besni', 'Besni', 'Besni', 'Besni', 'Besni', 'Kecimen',\n",
       "       'Besni', 'Kecimen', 'Besni', 'Kecimen', 'Kecimen', 'Besni',\n",
       "       'Kecimen', 'Besni', 'Besni', 'Besni', 'Besni', 'Kecimen',\n",
       "       'Kecimen', 'Besni', 'Besni', 'Kecimen', 'Kecimen', 'Besni',\n",
       "       'Kecimen', 'Besni', 'Kecimen', 'Kecimen', 'Kecimen', 'Besni',\n",
       "       'Kecimen', 'Besni', 'Besni', 'Besni', 'Besni', 'Besni', 'Besni',\n",
       "       'Kecimen', 'Kecimen', 'Kecimen', 'Besni', 'Besni', 'Kecimen',\n",
       "       'Besni', 'Besni', 'Besni', 'Kecimen', 'Besni', 'Kecimen', 'Besni',\n",
       "       'Besni', 'Besni', 'Besni', 'Kecimen', 'Besni', 'Besni', 'Besni',\n",
       "       'Kecimen', 'Besni', 'Kecimen', 'Besni', 'Kecimen', 'Besni',\n",
       "       'Besni', 'Kecimen', 'Besni', 'Besni', 'Besni', 'Kecimen',\n",
       "       'Kecimen', 'Kecimen', 'Kecimen', 'Kecimen', 'Besni', 'Kecimen',\n",
       "       'Kecimen'], dtype=object)"
      ]
     },
     "execution_count": 10,
     "metadata": {},
     "output_type": "execute_result"
    }
   ],
   "source": [
    "ypred"
   ]
  },
  {
   "cell_type": "code",
   "execution_count": 11,
   "id": "722c33d5",
   "metadata": {},
   "outputs": [
    {
     "data": {
      "text/plain": [
       "84.44444444444444"
      ]
     },
     "execution_count": 11,
     "metadata": {},
     "output_type": "execute_result"
    }
   ],
   "source": [
    "from sklearn import metrics\n",
    "metrics.accuracy_score(Y_test,ypred)*100"
   ]
  },
  {
   "cell_type": "code",
   "execution_count": 12,
   "id": "2468ef49",
   "metadata": {},
   "outputs": [
    {
     "data": {
      "text/plain": [
       "0.8425925925925926"
      ]
     },
     "execution_count": 12,
     "metadata": {},
     "output_type": "execute_result"
    }
   ],
   "source": [
    "from sklearn.metrics import recall_score\n",
    "recall_score(Y_test,ypred,pos_label='Besni',average='binary')"
   ]
  },
  {
   "cell_type": "code",
   "execution_count": null,
   "id": "0f94ada5",
   "metadata": {},
   "outputs": [],
   "source": []
  }
 ],
 "metadata": {
  "kernelspec": {
   "display_name": "Python 3 (ipykernel)",
   "language": "python",
   "name": "python3"
  },
  "language_info": {
   "codemirror_mode": {
    "name": "ipython",
    "version": 3
   },
   "file_extension": ".py",
   "mimetype": "text/x-python",
   "name": "python",
   "nbconvert_exporter": "python",
   "pygments_lexer": "ipython3",
   "version": "3.9.7"
  }
 },
 "nbformat": 4,
 "nbformat_minor": 5
}
