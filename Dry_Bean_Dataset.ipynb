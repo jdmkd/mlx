{
 "cells": [
  {
   "cell_type": "code",
   "execution_count": 178,
   "id": "0b94590a",
   "metadata": {},
   "outputs": [],
   "source": [
    "import pandas as pd\n",
    "from sklearn import linear_model"
   ]
  },
  {
   "cell_type": "code",
   "execution_count": 179,
   "id": "7a43a4ec",
   "metadata": {},
   "outputs": [
    {
     "data": {
      "text/html": [
       "<div>\n",
       "<style scoped>\n",
       "    .dataframe tbody tr th:only-of-type {\n",
       "        vertical-align: middle;\n",
       "    }\n",
       "\n",
       "    .dataframe tbody tr th {\n",
       "        vertical-align: top;\n",
       "    }\n",
       "\n",
       "    .dataframe thead th {\n",
       "        text-align: right;\n",
       "    }\n",
       "</style>\n",
       "<table border=\"1\" class=\"dataframe\">\n",
       "  <thead>\n",
       "    <tr style=\"text-align: right;\">\n",
       "      <th></th>\n",
       "      <th>Area</th>\n",
       "      <th>Perimeter</th>\n",
       "      <th>MajorAxisLength</th>\n",
       "      <th>MinorAxisLength</th>\n",
       "      <th>AspectRation</th>\n",
       "      <th>Eccentricity</th>\n",
       "      <th>ConvexArea</th>\n",
       "      <th>EquivDiameter</th>\n",
       "      <th>Extent</th>\n",
       "      <th>Solidity</th>\n",
       "      <th>roundness</th>\n",
       "      <th>Compactness</th>\n",
       "      <th>ShapeFactor1</th>\n",
       "      <th>ShapeFactor2</th>\n",
       "      <th>ShapeFactor3</th>\n",
       "      <th>ShapeFactor4</th>\n",
       "      <th>Class</th>\n",
       "    </tr>\n",
       "  </thead>\n",
       "  <tbody>\n",
       "    <tr>\n",
       "      <th>0</th>\n",
       "      <td>41487</td>\n",
       "      <td>815.900</td>\n",
       "      <td>299.046841</td>\n",
       "      <td>177.081490</td>\n",
       "      <td>1.688753</td>\n",
       "      <td>0.805826</td>\n",
       "      <td>42483</td>\n",
       "      <td>229.832306</td>\n",
       "      <td>0.689176</td>\n",
       "      <td>0.976555</td>\n",
       "      <td>0.783156</td>\n",
       "      <td>0.768550</td>\n",
       "      <td>0.007208</td>\n",
       "      <td>0.001551</td>\n",
       "      <td>0.590668</td>\n",
       "      <td>0.997493</td>\n",
       "      <td>BARBUNYA</td>\n",
       "    </tr>\n",
       "    <tr>\n",
       "      <th>1</th>\n",
       "      <td>41488</td>\n",
       "      <td>759.552</td>\n",
       "      <td>283.142777</td>\n",
       "      <td>186.985489</td>\n",
       "      <td>1.514250</td>\n",
       "      <td>0.750920</td>\n",
       "      <td>42005</td>\n",
       "      <td>229.835076</td>\n",
       "      <td>0.708434</td>\n",
       "      <td>0.987692</td>\n",
       "      <td>0.903686</td>\n",
       "      <td>0.811729</td>\n",
       "      <td>0.006825</td>\n",
       "      <td>0.001828</td>\n",
       "      <td>0.658903</td>\n",
       "      <td>0.997744</td>\n",
       "      <td>BARBUNYA</td>\n",
       "    </tr>\n",
       "    <tr>\n",
       "      <th>2</th>\n",
       "      <td>42012</td>\n",
       "      <td>809.770</td>\n",
       "      <td>266.700396</td>\n",
       "      <td>202.381088</td>\n",
       "      <td>1.317813</td>\n",
       "      <td>0.651285</td>\n",
       "      <td>43087</td>\n",
       "      <td>231.281949</td>\n",
       "      <td>0.770976</td>\n",
       "      <td>0.975050</td>\n",
       "      <td>0.805119</td>\n",
       "      <td>0.867198</td>\n",
       "      <td>0.006348</td>\n",
       "      <td>0.002215</td>\n",
       "      <td>0.752032</td>\n",
       "      <td>0.991037</td>\n",
       "      <td>BARBUNYA</td>\n",
       "    </tr>\n",
       "    <tr>\n",
       "      <th>3</th>\n",
       "      <td>43122</td>\n",
       "      <td>838.186</td>\n",
       "      <td>296.404589</td>\n",
       "      <td>185.657600</td>\n",
       "      <td>1.596512</td>\n",
       "      <td>0.779530</td>\n",
       "      <td>44074</td>\n",
       "      <td>234.317382</td>\n",
       "      <td>0.731986</td>\n",
       "      <td>0.978400</td>\n",
       "      <td>0.771308</td>\n",
       "      <td>0.790532</td>\n",
       "      <td>0.006874</td>\n",
       "      <td>0.001656</td>\n",
       "      <td>0.624941</td>\n",
       "      <td>0.997726</td>\n",
       "      <td>BARBUNYA</td>\n",
       "    </tr>\n",
       "    <tr>\n",
       "      <th>4</th>\n",
       "      <td>43145</td>\n",
       "      <td>799.426</td>\n",
       "      <td>273.402945</td>\n",
       "      <td>201.266886</td>\n",
       "      <td>1.358410</td>\n",
       "      <td>0.676813</td>\n",
       "      <td>43812</td>\n",
       "      <td>234.379863</td>\n",
       "      <td>0.766123</td>\n",
       "      <td>0.984776</td>\n",
       "      <td>0.848367</td>\n",
       "      <td>0.857269</td>\n",
       "      <td>0.006337</td>\n",
       "      <td>0.002111</td>\n",
       "      <td>0.734910</td>\n",
       "      <td>0.998309</td>\n",
       "      <td>BARBUNYA</td>\n",
       "    </tr>\n",
       "    <tr>\n",
       "      <th>...</th>\n",
       "      <td>...</td>\n",
       "      <td>...</td>\n",
       "      <td>...</td>\n",
       "      <td>...</td>\n",
       "      <td>...</td>\n",
       "      <td>...</td>\n",
       "      <td>...</td>\n",
       "      <td>...</td>\n",
       "      <td>...</td>\n",
       "      <td>...</td>\n",
       "      <td>...</td>\n",
       "      <td>...</td>\n",
       "      <td>...</td>\n",
       "      <td>...</td>\n",
       "      <td>...</td>\n",
       "      <td>...</td>\n",
       "      <td>...</td>\n",
       "    </tr>\n",
       "    <tr>\n",
       "      <th>1839</th>\n",
       "      <td>237270</td>\n",
       "      <td>1921.685</td>\n",
       "      <td>738.144502</td>\n",
       "      <td>412.921647</td>\n",
       "      <td>1.787614</td>\n",
       "      <td>0.828895</td>\n",
       "      <td>240671</td>\n",
       "      <td>549.637650</td>\n",
       "      <td>0.784115</td>\n",
       "      <td>0.985869</td>\n",
       "      <td>0.807399</td>\n",
       "      <td>0.744621</td>\n",
       "      <td>0.003111</td>\n",
       "      <td>0.000590</td>\n",
       "      <td>0.554460</td>\n",
       "      <td>0.991160</td>\n",
       "      <td>BOMBAY</td>\n",
       "    </tr>\n",
       "    <tr>\n",
       "      <th>1840</th>\n",
       "      <td>241322</td>\n",
       "      <td>1895.940</td>\n",
       "      <td>726.373493</td>\n",
       "      <td>427.370120</td>\n",
       "      <td>1.699636</td>\n",
       "      <td>0.808598</td>\n",
       "      <td>244319</td>\n",
       "      <td>554.311026</td>\n",
       "      <td>0.820823</td>\n",
       "      <td>0.987733</td>\n",
       "      <td>0.843641</td>\n",
       "      <td>0.763121</td>\n",
       "      <td>0.003010</td>\n",
       "      <td>0.000630</td>\n",
       "      <td>0.582354</td>\n",
       "      <td>0.989790</td>\n",
       "      <td>BOMBAY</td>\n",
       "    </tr>\n",
       "    <tr>\n",
       "      <th>1841</th>\n",
       "      <td>248424</td>\n",
       "      <td>1884.557</td>\n",
       "      <td>715.053040</td>\n",
       "      <td>446.043618</td>\n",
       "      <td>1.603101</td>\n",
       "      <td>0.781591</td>\n",
       "      <td>251082</td>\n",
       "      <td>562.408446</td>\n",
       "      <td>0.807536</td>\n",
       "      <td>0.989414</td>\n",
       "      <td>0.878992</td>\n",
       "      <td>0.786527</td>\n",
       "      <td>0.002878</td>\n",
       "      <td>0.000679</td>\n",
       "      <td>0.618625</td>\n",
       "      <td>0.991718</td>\n",
       "      <td>BOMBAY</td>\n",
       "    </tr>\n",
       "    <tr>\n",
       "      <th>1842</th>\n",
       "      <td>251432</td>\n",
       "      <td>1919.868</td>\n",
       "      <td>719.125690</td>\n",
       "      <td>450.926187</td>\n",
       "      <td>1.594775</td>\n",
       "      <td>0.778981</td>\n",
       "      <td>257425</td>\n",
       "      <td>565.803115</td>\n",
       "      <td>0.766776</td>\n",
       "      <td>0.976719</td>\n",
       "      <td>0.857211</td>\n",
       "      <td>0.786793</td>\n",
       "      <td>0.002860</td>\n",
       "      <td>0.000676</td>\n",
       "      <td>0.619043</td>\n",
       "      <td>0.987235</td>\n",
       "      <td>BOMBAY</td>\n",
       "    </tr>\n",
       "    <tr>\n",
       "      <th>1843</th>\n",
       "      <td>254616</td>\n",
       "      <td>1985.370</td>\n",
       "      <td>738.860154</td>\n",
       "      <td>447.418329</td>\n",
       "      <td>1.651386</td>\n",
       "      <td>0.795806</td>\n",
       "      <td>263261</td>\n",
       "      <td>569.374358</td>\n",
       "      <td>0.783747</td>\n",
       "      <td>0.967162</td>\n",
       "      <td>0.811732</td>\n",
       "      <td>0.770612</td>\n",
       "      <td>0.002902</td>\n",
       "      <td>0.000631</td>\n",
       "      <td>0.593843</td>\n",
       "      <td>0.980663</td>\n",
       "      <td>BOMBAY</td>\n",
       "    </tr>\n",
       "  </tbody>\n",
       "</table>\n",
       "<p>1844 rows × 17 columns</p>\n",
       "</div>"
      ],
      "text/plain": [
       "        Area  Perimeter  MajorAxisLength  MinorAxisLength  AspectRation  \\\n",
       "0      41487    815.900       299.046841       177.081490      1.688753   \n",
       "1      41488    759.552       283.142777       186.985489      1.514250   \n",
       "2      42012    809.770       266.700396       202.381088      1.317813   \n",
       "3      43122    838.186       296.404589       185.657600      1.596512   \n",
       "4      43145    799.426       273.402945       201.266886      1.358410   \n",
       "...      ...        ...              ...              ...           ...   \n",
       "1839  237270   1921.685       738.144502       412.921647      1.787614   \n",
       "1840  241322   1895.940       726.373493       427.370120      1.699636   \n",
       "1841  248424   1884.557       715.053040       446.043618      1.603101   \n",
       "1842  251432   1919.868       719.125690       450.926187      1.594775   \n",
       "1843  254616   1985.370       738.860154       447.418329      1.651386   \n",
       "\n",
       "      Eccentricity  ConvexArea  EquivDiameter    Extent  Solidity  roundness  \\\n",
       "0         0.805826       42483     229.832306  0.689176  0.976555   0.783156   \n",
       "1         0.750920       42005     229.835076  0.708434  0.987692   0.903686   \n",
       "2         0.651285       43087     231.281949  0.770976  0.975050   0.805119   \n",
       "3         0.779530       44074     234.317382  0.731986  0.978400   0.771308   \n",
       "4         0.676813       43812     234.379863  0.766123  0.984776   0.848367   \n",
       "...            ...         ...            ...       ...       ...        ...   \n",
       "1839      0.828895      240671     549.637650  0.784115  0.985869   0.807399   \n",
       "1840      0.808598      244319     554.311026  0.820823  0.987733   0.843641   \n",
       "1841      0.781591      251082     562.408446  0.807536  0.989414   0.878992   \n",
       "1842      0.778981      257425     565.803115  0.766776  0.976719   0.857211   \n",
       "1843      0.795806      263261     569.374358  0.783747  0.967162   0.811732   \n",
       "\n",
       "      Compactness  ShapeFactor1  ShapeFactor2  ShapeFactor3  ShapeFactor4  \\\n",
       "0        0.768550      0.007208      0.001551      0.590668      0.997493   \n",
       "1        0.811729      0.006825      0.001828      0.658903      0.997744   \n",
       "2        0.867198      0.006348      0.002215      0.752032      0.991037   \n",
       "3        0.790532      0.006874      0.001656      0.624941      0.997726   \n",
       "4        0.857269      0.006337      0.002111      0.734910      0.998309   \n",
       "...           ...           ...           ...           ...           ...   \n",
       "1839     0.744621      0.003111      0.000590      0.554460      0.991160   \n",
       "1840     0.763121      0.003010      0.000630      0.582354      0.989790   \n",
       "1841     0.786527      0.002878      0.000679      0.618625      0.991718   \n",
       "1842     0.786793      0.002860      0.000676      0.619043      0.987235   \n",
       "1843     0.770612      0.002902      0.000631      0.593843      0.980663   \n",
       "\n",
       "         Class  \n",
       "0     BARBUNYA  \n",
       "1     BARBUNYA  \n",
       "2     BARBUNYA  \n",
       "3     BARBUNYA  \n",
       "4     BARBUNYA  \n",
       "...        ...  \n",
       "1839    BOMBAY  \n",
       "1840    BOMBAY  \n",
       "1841    BOMBAY  \n",
       "1842    BOMBAY  \n",
       "1843    BOMBAY  \n",
       "\n",
       "[1844 rows x 17 columns]"
      ]
     },
     "execution_count": 179,
     "metadata": {},
     "output_type": "execute_result"
    }
   ],
   "source": [
    "df=pd.read_csv(\"Dry_Bean_Dataset.csv\")\n",
    "df"
   ]
  },
  {
   "cell_type": "code",
   "execution_count": 180,
   "id": "958b4459",
   "metadata": {},
   "outputs": [
    {
     "data": {
      "text/html": [
       "<div>\n",
       "<style scoped>\n",
       "    .dataframe tbody tr th:only-of-type {\n",
       "        vertical-align: middle;\n",
       "    }\n",
       "\n",
       "    .dataframe tbody tr th {\n",
       "        vertical-align: top;\n",
       "    }\n",
       "\n",
       "    .dataframe thead th {\n",
       "        text-align: right;\n",
       "    }\n",
       "</style>\n",
       "<table border=\"1\" class=\"dataframe\">\n",
       "  <thead>\n",
       "    <tr style=\"text-align: right;\">\n",
       "      <th></th>\n",
       "      <th>Area</th>\n",
       "      <th>Perimeter</th>\n",
       "    </tr>\n",
       "  </thead>\n",
       "  <tbody>\n",
       "    <tr>\n",
       "      <th>0</th>\n",
       "      <td>41487</td>\n",
       "      <td>815.900</td>\n",
       "    </tr>\n",
       "    <tr>\n",
       "      <th>1</th>\n",
       "      <td>41488</td>\n",
       "      <td>759.552</td>\n",
       "    </tr>\n",
       "    <tr>\n",
       "      <th>2</th>\n",
       "      <td>42012</td>\n",
       "      <td>809.770</td>\n",
       "    </tr>\n",
       "    <tr>\n",
       "      <th>3</th>\n",
       "      <td>43122</td>\n",
       "      <td>838.186</td>\n",
       "    </tr>\n",
       "    <tr>\n",
       "      <th>4</th>\n",
       "      <td>43145</td>\n",
       "      <td>799.426</td>\n",
       "    </tr>\n",
       "    <tr>\n",
       "      <th>...</th>\n",
       "      <td>...</td>\n",
       "      <td>...</td>\n",
       "    </tr>\n",
       "    <tr>\n",
       "      <th>1839</th>\n",
       "      <td>237270</td>\n",
       "      <td>1921.685</td>\n",
       "    </tr>\n",
       "    <tr>\n",
       "      <th>1840</th>\n",
       "      <td>241322</td>\n",
       "      <td>1895.940</td>\n",
       "    </tr>\n",
       "    <tr>\n",
       "      <th>1841</th>\n",
       "      <td>248424</td>\n",
       "      <td>1884.557</td>\n",
       "    </tr>\n",
       "    <tr>\n",
       "      <th>1842</th>\n",
       "      <td>251432</td>\n",
       "      <td>1919.868</td>\n",
       "    </tr>\n",
       "    <tr>\n",
       "      <th>1843</th>\n",
       "      <td>254616</td>\n",
       "      <td>1985.370</td>\n",
       "    </tr>\n",
       "  </tbody>\n",
       "</table>\n",
       "<p>1844 rows × 2 columns</p>\n",
       "</div>"
      ],
      "text/plain": [
       "        Area  Perimeter\n",
       "0      41487    815.900\n",
       "1      41488    759.552\n",
       "2      42012    809.770\n",
       "3      43122    838.186\n",
       "4      43145    799.426\n",
       "...      ...        ...\n",
       "1839  237270   1921.685\n",
       "1840  241322   1895.940\n",
       "1841  248424   1884.557\n",
       "1842  251432   1919.868\n",
       "1843  254616   1985.370\n",
       "\n",
       "[1844 rows x 2 columns]"
      ]
     },
     "execution_count": 180,
     "metadata": {},
     "output_type": "execute_result"
    }
   ],
   "source": [
    "#linear regression\n",
    "df_linear=df[['Area','Perimeter']]\n",
    "df_linear\n"
   ]
  },
  {
   "cell_type": "code",
   "execution_count": 181,
   "id": "ee5ba2e6",
   "metadata": {},
   "outputs": [
    {
     "data": {
      "text/html": [
       "<div>\n",
       "<style scoped>\n",
       "    .dataframe tbody tr th:only-of-type {\n",
       "        vertical-align: middle;\n",
       "    }\n",
       "\n",
       "    .dataframe tbody tr th {\n",
       "        vertical-align: top;\n",
       "    }\n",
       "\n",
       "    .dataframe thead th {\n",
       "        text-align: right;\n",
       "    }\n",
       "</style>\n",
       "<table border=\"1\" class=\"dataframe\">\n",
       "  <thead>\n",
       "    <tr style=\"text-align: right;\">\n",
       "      <th></th>\n",
       "      <th>Perimeter</th>\n",
       "    </tr>\n",
       "  </thead>\n",
       "  <tbody>\n",
       "    <tr>\n",
       "      <th>0</th>\n",
       "      <td>815.900</td>\n",
       "    </tr>\n",
       "    <tr>\n",
       "      <th>1</th>\n",
       "      <td>759.552</td>\n",
       "    </tr>\n",
       "    <tr>\n",
       "      <th>2</th>\n",
       "      <td>809.770</td>\n",
       "    </tr>\n",
       "    <tr>\n",
       "      <th>3</th>\n",
       "      <td>838.186</td>\n",
       "    </tr>\n",
       "    <tr>\n",
       "      <th>4</th>\n",
       "      <td>799.426</td>\n",
       "    </tr>\n",
       "    <tr>\n",
       "      <th>...</th>\n",
       "      <td>...</td>\n",
       "    </tr>\n",
       "    <tr>\n",
       "      <th>1839</th>\n",
       "      <td>1921.685</td>\n",
       "    </tr>\n",
       "    <tr>\n",
       "      <th>1840</th>\n",
       "      <td>1895.940</td>\n",
       "    </tr>\n",
       "    <tr>\n",
       "      <th>1841</th>\n",
       "      <td>1884.557</td>\n",
       "    </tr>\n",
       "    <tr>\n",
       "      <th>1842</th>\n",
       "      <td>1919.868</td>\n",
       "    </tr>\n",
       "    <tr>\n",
       "      <th>1843</th>\n",
       "      <td>1985.370</td>\n",
       "    </tr>\n",
       "  </tbody>\n",
       "</table>\n",
       "<p>1844 rows × 1 columns</p>\n",
       "</div>"
      ],
      "text/plain": [
       "      Perimeter\n",
       "0       815.900\n",
       "1       759.552\n",
       "2       809.770\n",
       "3       838.186\n",
       "4       799.426\n",
       "...         ...\n",
       "1839   1921.685\n",
       "1840   1895.940\n",
       "1841   1884.557\n",
       "1842   1919.868\n",
       "1843   1985.370\n",
       "\n",
       "[1844 rows x 1 columns]"
      ]
     },
     "execution_count": 181,
     "metadata": {},
     "output_type": "execute_result"
    }
   ],
   "source": [
    "linear=df_linear.drop('Area',axis=1)\n",
    "linear"
   ]
  },
  {
   "cell_type": "code",
   "execution_count": 182,
   "id": "abfb5a35",
   "metadata": {},
   "outputs": [],
   "source": [
    "model=linear_model.LinearRegression()\n"
   ]
  },
  {
   "cell_type": "code",
   "execution_count": 183,
   "id": "02cd8893",
   "metadata": {},
   "outputs": [
    {
     "data": {
      "text/plain": [
       "LinearRegression()"
      ]
     },
     "execution_count": 183,
     "metadata": {},
     "output_type": "execute_result"
    }
   ],
   "source": [
    "model.fit(linear,df_linear.Area)"
   ]
  },
  {
   "cell_type": "code",
   "execution_count": 184,
   "id": "bed9f11c",
   "metadata": {},
   "outputs": [
    {
     "data": {
      "text/plain": [
       "array([-120157.05630074])"
      ]
     },
     "execution_count": 184,
     "metadata": {},
     "output_type": "execute_result"
    }
   ],
   "source": [
    "model.predict([[15]])"
   ]
  },
  {
   "cell_type": "code",
   "execution_count": 185,
   "id": "efc8da2f",
   "metadata": {},
   "outputs": [
    {
     "data": {
      "text/html": [
       "<div>\n",
       "<style scoped>\n",
       "    .dataframe tbody tr th:only-of-type {\n",
       "        vertical-align: middle;\n",
       "    }\n",
       "\n",
       "    .dataframe tbody tr th {\n",
       "        vertical-align: top;\n",
       "    }\n",
       "\n",
       "    .dataframe thead th {\n",
       "        text-align: right;\n",
       "    }\n",
       "</style>\n",
       "<table border=\"1\" class=\"dataframe\">\n",
       "  <thead>\n",
       "    <tr style=\"text-align: right;\">\n",
       "      <th></th>\n",
       "      <th>Area</th>\n",
       "      <th>Perimeter</th>\n",
       "      <th>MajorAxisLength</th>\n",
       "      <th>MinorAxisLength</th>\n",
       "    </tr>\n",
       "  </thead>\n",
       "  <tbody>\n",
       "    <tr>\n",
       "      <th>0</th>\n",
       "      <td>41487</td>\n",
       "      <td>815.900</td>\n",
       "      <td>299.046841</td>\n",
       "      <td>177.081490</td>\n",
       "    </tr>\n",
       "    <tr>\n",
       "      <th>1</th>\n",
       "      <td>41488</td>\n",
       "      <td>759.552</td>\n",
       "      <td>283.142777</td>\n",
       "      <td>186.985489</td>\n",
       "    </tr>\n",
       "    <tr>\n",
       "      <th>2</th>\n",
       "      <td>42012</td>\n",
       "      <td>809.770</td>\n",
       "      <td>266.700396</td>\n",
       "      <td>202.381088</td>\n",
       "    </tr>\n",
       "    <tr>\n",
       "      <th>3</th>\n",
       "      <td>43122</td>\n",
       "      <td>838.186</td>\n",
       "      <td>296.404589</td>\n",
       "      <td>185.657600</td>\n",
       "    </tr>\n",
       "    <tr>\n",
       "      <th>4</th>\n",
       "      <td>43145</td>\n",
       "      <td>799.426</td>\n",
       "      <td>273.402945</td>\n",
       "      <td>201.266886</td>\n",
       "    </tr>\n",
       "    <tr>\n",
       "      <th>...</th>\n",
       "      <td>...</td>\n",
       "      <td>...</td>\n",
       "      <td>...</td>\n",
       "      <td>...</td>\n",
       "    </tr>\n",
       "    <tr>\n",
       "      <th>1839</th>\n",
       "      <td>237270</td>\n",
       "      <td>1921.685</td>\n",
       "      <td>738.144502</td>\n",
       "      <td>412.921647</td>\n",
       "    </tr>\n",
       "    <tr>\n",
       "      <th>1840</th>\n",
       "      <td>241322</td>\n",
       "      <td>1895.940</td>\n",
       "      <td>726.373493</td>\n",
       "      <td>427.370120</td>\n",
       "    </tr>\n",
       "    <tr>\n",
       "      <th>1841</th>\n",
       "      <td>248424</td>\n",
       "      <td>1884.557</td>\n",
       "      <td>715.053040</td>\n",
       "      <td>446.043618</td>\n",
       "    </tr>\n",
       "    <tr>\n",
       "      <th>1842</th>\n",
       "      <td>251432</td>\n",
       "      <td>1919.868</td>\n",
       "      <td>719.125690</td>\n",
       "      <td>450.926187</td>\n",
       "    </tr>\n",
       "    <tr>\n",
       "      <th>1843</th>\n",
       "      <td>254616</td>\n",
       "      <td>1985.370</td>\n",
       "      <td>738.860154</td>\n",
       "      <td>447.418329</td>\n",
       "    </tr>\n",
       "  </tbody>\n",
       "</table>\n",
       "<p>1844 rows × 4 columns</p>\n",
       "</div>"
      ],
      "text/plain": [
       "        Area  Perimeter  MajorAxisLength  MinorAxisLength\n",
       "0      41487    815.900       299.046841       177.081490\n",
       "1      41488    759.552       283.142777       186.985489\n",
       "2      42012    809.770       266.700396       202.381088\n",
       "3      43122    838.186       296.404589       185.657600\n",
       "4      43145    799.426       273.402945       201.266886\n",
       "...      ...        ...              ...              ...\n",
       "1839  237270   1921.685       738.144502       412.921647\n",
       "1840  241322   1895.940       726.373493       427.370120\n",
       "1841  248424   1884.557       715.053040       446.043618\n",
       "1842  251432   1919.868       719.125690       450.926187\n",
       "1843  254616   1985.370       738.860154       447.418329\n",
       "\n",
       "[1844 rows x 4 columns]"
      ]
     },
     "execution_count": 185,
     "metadata": {},
     "output_type": "execute_result"
    }
   ],
   "source": [
    "#multiplelinear regression\n",
    "df_multilinear=df[['Area','Perimeter','MajorAxisLength','MinorAxisLength']]\n",
    "df_multilinear\n"
   ]
  },
  {
   "cell_type": "code",
   "execution_count": 186,
   "id": "5a964333",
   "metadata": {},
   "outputs": [
    {
     "data": {
      "text/html": [
       "<div>\n",
       "<style scoped>\n",
       "    .dataframe tbody tr th:only-of-type {\n",
       "        vertical-align: middle;\n",
       "    }\n",
       "\n",
       "    .dataframe tbody tr th {\n",
       "        vertical-align: top;\n",
       "    }\n",
       "\n",
       "    .dataframe thead th {\n",
       "        text-align: right;\n",
       "    }\n",
       "</style>\n",
       "<table border=\"1\" class=\"dataframe\">\n",
       "  <thead>\n",
       "    <tr style=\"text-align: right;\">\n",
       "      <th></th>\n",
       "      <th>Area</th>\n",
       "      <th>Perimeter</th>\n",
       "      <th>MajorAxisLength</th>\n",
       "    </tr>\n",
       "  </thead>\n",
       "  <tbody>\n",
       "    <tr>\n",
       "      <th>0</th>\n",
       "      <td>41487</td>\n",
       "      <td>815.900</td>\n",
       "      <td>299.046841</td>\n",
       "    </tr>\n",
       "    <tr>\n",
       "      <th>1</th>\n",
       "      <td>41488</td>\n",
       "      <td>759.552</td>\n",
       "      <td>283.142777</td>\n",
       "    </tr>\n",
       "    <tr>\n",
       "      <th>2</th>\n",
       "      <td>42012</td>\n",
       "      <td>809.770</td>\n",
       "      <td>266.700396</td>\n",
       "    </tr>\n",
       "    <tr>\n",
       "      <th>3</th>\n",
       "      <td>43122</td>\n",
       "      <td>838.186</td>\n",
       "      <td>296.404589</td>\n",
       "    </tr>\n",
       "    <tr>\n",
       "      <th>4</th>\n",
       "      <td>43145</td>\n",
       "      <td>799.426</td>\n",
       "      <td>273.402945</td>\n",
       "    </tr>\n",
       "    <tr>\n",
       "      <th>...</th>\n",
       "      <td>...</td>\n",
       "      <td>...</td>\n",
       "      <td>...</td>\n",
       "    </tr>\n",
       "    <tr>\n",
       "      <th>1839</th>\n",
       "      <td>237270</td>\n",
       "      <td>1921.685</td>\n",
       "      <td>738.144502</td>\n",
       "    </tr>\n",
       "    <tr>\n",
       "      <th>1840</th>\n",
       "      <td>241322</td>\n",
       "      <td>1895.940</td>\n",
       "      <td>726.373493</td>\n",
       "    </tr>\n",
       "    <tr>\n",
       "      <th>1841</th>\n",
       "      <td>248424</td>\n",
       "      <td>1884.557</td>\n",
       "      <td>715.053040</td>\n",
       "    </tr>\n",
       "    <tr>\n",
       "      <th>1842</th>\n",
       "      <td>251432</td>\n",
       "      <td>1919.868</td>\n",
       "      <td>719.125690</td>\n",
       "    </tr>\n",
       "    <tr>\n",
       "      <th>1843</th>\n",
       "      <td>254616</td>\n",
       "      <td>1985.370</td>\n",
       "      <td>738.860154</td>\n",
       "    </tr>\n",
       "  </tbody>\n",
       "</table>\n",
       "<p>1844 rows × 3 columns</p>\n",
       "</div>"
      ],
      "text/plain": [
       "        Area  Perimeter  MajorAxisLength\n",
       "0      41487    815.900       299.046841\n",
       "1      41488    759.552       283.142777\n",
       "2      42012    809.770       266.700396\n",
       "3      43122    838.186       296.404589\n",
       "4      43145    799.426       273.402945\n",
       "...      ...        ...              ...\n",
       "1839  237270   1921.685       738.144502\n",
       "1840  241322   1895.940       726.373493\n",
       "1841  248424   1884.557       715.053040\n",
       "1842  251432   1919.868       719.125690\n",
       "1843  254616   1985.370       738.860154\n",
       "\n",
       "[1844 rows x 3 columns]"
      ]
     },
     "execution_count": 186,
     "metadata": {},
     "output_type": "execute_result"
    }
   ],
   "source": [
    "x=df_multilinear[['Area','Perimeter','MajorAxisLength']]\n",
    "x"
   ]
  },
  {
   "cell_type": "code",
   "execution_count": 187,
   "id": "1e5c4a05",
   "metadata": {},
   "outputs": [
    {
     "data": {
      "text/html": [
       "<div>\n",
       "<style scoped>\n",
       "    .dataframe tbody tr th:only-of-type {\n",
       "        vertical-align: middle;\n",
       "    }\n",
       "\n",
       "    .dataframe tbody tr th {\n",
       "        vertical-align: top;\n",
       "    }\n",
       "\n",
       "    .dataframe thead th {\n",
       "        text-align: right;\n",
       "    }\n",
       "</style>\n",
       "<table border=\"1\" class=\"dataframe\">\n",
       "  <thead>\n",
       "    <tr style=\"text-align: right;\">\n",
       "      <th></th>\n",
       "      <th>MinorAxisLength</th>\n",
       "    </tr>\n",
       "  </thead>\n",
       "  <tbody>\n",
       "    <tr>\n",
       "      <th>0</th>\n",
       "      <td>177.081490</td>\n",
       "    </tr>\n",
       "    <tr>\n",
       "      <th>1</th>\n",
       "      <td>186.985489</td>\n",
       "    </tr>\n",
       "    <tr>\n",
       "      <th>2</th>\n",
       "      <td>202.381088</td>\n",
       "    </tr>\n",
       "    <tr>\n",
       "      <th>3</th>\n",
       "      <td>185.657600</td>\n",
       "    </tr>\n",
       "    <tr>\n",
       "      <th>4</th>\n",
       "      <td>201.266886</td>\n",
       "    </tr>\n",
       "    <tr>\n",
       "      <th>...</th>\n",
       "      <td>...</td>\n",
       "    </tr>\n",
       "    <tr>\n",
       "      <th>1839</th>\n",
       "      <td>412.921647</td>\n",
       "    </tr>\n",
       "    <tr>\n",
       "      <th>1840</th>\n",
       "      <td>427.370120</td>\n",
       "    </tr>\n",
       "    <tr>\n",
       "      <th>1841</th>\n",
       "      <td>446.043618</td>\n",
       "    </tr>\n",
       "    <tr>\n",
       "      <th>1842</th>\n",
       "      <td>450.926187</td>\n",
       "    </tr>\n",
       "    <tr>\n",
       "      <th>1843</th>\n",
       "      <td>447.418329</td>\n",
       "    </tr>\n",
       "  </tbody>\n",
       "</table>\n",
       "<p>1844 rows × 1 columns</p>\n",
       "</div>"
      ],
      "text/plain": [
       "      MinorAxisLength\n",
       "0          177.081490\n",
       "1          186.985489\n",
       "2          202.381088\n",
       "3          185.657600\n",
       "4          201.266886\n",
       "...               ...\n",
       "1839       412.921647\n",
       "1840       427.370120\n",
       "1841       446.043618\n",
       "1842       450.926187\n",
       "1843       447.418329\n",
       "\n",
       "[1844 rows x 1 columns]"
      ]
     },
     "execution_count": 187,
     "metadata": {},
     "output_type": "execute_result"
    }
   ],
   "source": [
    "y=df_multilinear[['MinorAxisLength']]\n",
    "y"
   ]
  },
  {
   "cell_type": "code",
   "execution_count": 188,
   "id": "f5c0cbcb",
   "metadata": {},
   "outputs": [],
   "source": [
    "model=linear_model.LinearRegression()"
   ]
  },
  {
   "cell_type": "code",
   "execution_count": 189,
   "id": "d0501c9c",
   "metadata": {},
   "outputs": [
    {
     "data": {
      "text/plain": [
       "LinearRegression()"
      ]
     },
     "execution_count": 189,
     "metadata": {},
     "output_type": "execute_result"
    }
   ],
   "source": [
    "model.fit(x,y)"
   ]
  },
  {
   "cell_type": "code",
   "execution_count": 190,
   "id": "0d38ede3",
   "metadata": {},
   "outputs": [
    {
     "data": {
      "text/plain": [
       "array([199.31916836])"
      ]
     },
     "execution_count": 190,
     "metadata": {},
     "output_type": "execute_result"
    }
   ],
   "source": [
    "model.intercept_"
   ]
  },
  {
   "cell_type": "code",
   "execution_count": 191,
   "id": "aafdcea9",
   "metadata": {},
   "outputs": [
    {
     "data": {
      "text/plain": [
       "array([[ 0.0019426 ,  0.13535674, -0.63700504]])"
      ]
     },
     "execution_count": 191,
     "metadata": {},
     "output_type": "execute_result"
    }
   ],
   "source": [
    "model.coef_"
   ]
  },
  {
   "cell_type": "code",
   "execution_count": 192,
   "id": "46a68d86",
   "metadata": {},
   "outputs": [
    {
     "data": {
      "text/plain": [
       "array([[-411.23288924]])"
      ]
     },
     "execution_count": 192,
     "metadata": {},
     "output_type": "execute_result"
    }
   ],
   "source": [
    "model.predict([[1345.46,1478.87,1276.82]])"
   ]
  },
  {
   "cell_type": "code",
   "execution_count": 193,
   "id": "90ff270f",
   "metadata": {},
   "outputs": [],
   "source": [
    "from sklearn.model_selection import train_test_split\n",
    "from sklearn.preprocessing import StandardScaler"
   ]
  },
  {
   "cell_type": "code",
   "execution_count": 194,
   "id": "ec91f613",
   "metadata": {},
   "outputs": [
    {
     "data": {
      "text/html": [
       "<div>\n",
       "<style scoped>\n",
       "    .dataframe tbody tr th:only-of-type {\n",
       "        vertical-align: middle;\n",
       "    }\n",
       "\n",
       "    .dataframe tbody tr th {\n",
       "        vertical-align: top;\n",
       "    }\n",
       "\n",
       "    .dataframe thead th {\n",
       "        text-align: right;\n",
       "    }\n",
       "</style>\n",
       "<table border=\"1\" class=\"dataframe\">\n",
       "  <thead>\n",
       "    <tr style=\"text-align: right;\">\n",
       "      <th></th>\n",
       "      <th>Area</th>\n",
       "      <th>Perimeter</th>\n",
       "      <th>Class</th>\n",
       "    </tr>\n",
       "  </thead>\n",
       "  <tbody>\n",
       "    <tr>\n",
       "      <th>0</th>\n",
       "      <td>41487</td>\n",
       "      <td>815.900</td>\n",
       "      <td>BARBUNYA</td>\n",
       "    </tr>\n",
       "    <tr>\n",
       "      <th>1</th>\n",
       "      <td>41488</td>\n",
       "      <td>759.552</td>\n",
       "      <td>BARBUNYA</td>\n",
       "    </tr>\n",
       "    <tr>\n",
       "      <th>2</th>\n",
       "      <td>42012</td>\n",
       "      <td>809.770</td>\n",
       "      <td>BARBUNYA</td>\n",
       "    </tr>\n",
       "    <tr>\n",
       "      <th>3</th>\n",
       "      <td>43122</td>\n",
       "      <td>838.186</td>\n",
       "      <td>BARBUNYA</td>\n",
       "    </tr>\n",
       "    <tr>\n",
       "      <th>4</th>\n",
       "      <td>43145</td>\n",
       "      <td>799.426</td>\n",
       "      <td>BARBUNYA</td>\n",
       "    </tr>\n",
       "    <tr>\n",
       "      <th>...</th>\n",
       "      <td>...</td>\n",
       "      <td>...</td>\n",
       "      <td>...</td>\n",
       "    </tr>\n",
       "    <tr>\n",
       "      <th>1839</th>\n",
       "      <td>237270</td>\n",
       "      <td>1921.685</td>\n",
       "      <td>BOMBAY</td>\n",
       "    </tr>\n",
       "    <tr>\n",
       "      <th>1840</th>\n",
       "      <td>241322</td>\n",
       "      <td>1895.940</td>\n",
       "      <td>BOMBAY</td>\n",
       "    </tr>\n",
       "    <tr>\n",
       "      <th>1841</th>\n",
       "      <td>248424</td>\n",
       "      <td>1884.557</td>\n",
       "      <td>BOMBAY</td>\n",
       "    </tr>\n",
       "    <tr>\n",
       "      <th>1842</th>\n",
       "      <td>251432</td>\n",
       "      <td>1919.868</td>\n",
       "      <td>BOMBAY</td>\n",
       "    </tr>\n",
       "    <tr>\n",
       "      <th>1843</th>\n",
       "      <td>254616</td>\n",
       "      <td>1985.370</td>\n",
       "      <td>BOMBAY</td>\n",
       "    </tr>\n",
       "  </tbody>\n",
       "</table>\n",
       "<p>1844 rows × 3 columns</p>\n",
       "</div>"
      ],
      "text/plain": [
       "        Area  Perimeter     Class\n",
       "0      41487    815.900  BARBUNYA\n",
       "1      41488    759.552  BARBUNYA\n",
       "2      42012    809.770  BARBUNYA\n",
       "3      43122    838.186  BARBUNYA\n",
       "4      43145    799.426  BARBUNYA\n",
       "...      ...        ...       ...\n",
       "1839  237270   1921.685    BOMBAY\n",
       "1840  241322   1895.940    BOMBAY\n",
       "1841  248424   1884.557    BOMBAY\n",
       "1842  251432   1919.868    BOMBAY\n",
       "1843  254616   1985.370    BOMBAY\n",
       "\n",
       "[1844 rows x 3 columns]"
      ]
     },
     "execution_count": 194,
     "metadata": {},
     "output_type": "execute_result"
    }
   ],
   "source": [
    "#DesicionTree\n",
    "df_decisiontree=df[['Area','Perimeter','Class']]\n",
    "df_decisiontree\n"
   ]
  },
  {
   "cell_type": "code",
   "execution_count": 195,
   "id": "b790c31d",
   "metadata": {},
   "outputs": [
    {
     "data": {
      "text/plain": [
       "array([[ 41487.   ,    815.9  ],\n",
       "       [ 41488.   ,    759.552],\n",
       "       [ 42012.   ,    809.77 ],\n",
       "       ...,\n",
       "       [248424.   ,   1884.557],\n",
       "       [251432.   ,   1919.868],\n",
       "       [254616.   ,   1985.37 ]])"
      ]
     },
     "execution_count": 195,
     "metadata": {},
     "output_type": "execute_result"
    }
   ],
   "source": [
    "X=df_decisiontree.iloc[:,[0,1]].values\n",
    "X"
   ]
  },
  {
   "cell_type": "code",
   "execution_count": 196,
   "id": "f9dc8646",
   "metadata": {},
   "outputs": [
    {
     "data": {
      "text/plain": [
       "array([['BARBUNYA'],\n",
       "       ['BARBUNYA'],\n",
       "       ['BARBUNYA'],\n",
       "       ...,\n",
       "       ['BOMBAY'],\n",
       "       ['BOMBAY'],\n",
       "       ['BOMBAY']], dtype=object)"
      ]
     },
     "execution_count": 196,
     "metadata": {},
     "output_type": "execute_result"
    }
   ],
   "source": [
    "Y=df_decisiontree.iloc[:,[2]].values\n",
    "Y"
   ]
  },
  {
   "cell_type": "code",
   "execution_count": 197,
   "id": "4f4a7dfa",
   "metadata": {},
   "outputs": [],
   "source": [
    "X_train,X_test,Y_train,Y_test=train_test_split(X,Y,test_size=0.5,random_state=12)"
   ]
  },
  {
   "cell_type": "code",
   "execution_count": 198,
   "id": "d5ec4cba",
   "metadata": {},
   "outputs": [],
   "source": [
    "st_X=StandardScaler()"
   ]
  },
  {
   "cell_type": "code",
   "execution_count": 199,
   "id": "1eeaa352",
   "metadata": {},
   "outputs": [],
   "source": [
    "X_train=st_X.fit_transform(X_train)"
   ]
  },
  {
   "cell_type": "code",
   "execution_count": 200,
   "id": "51343571",
   "metadata": {},
   "outputs": [],
   "source": [
    "X_test=st_X.transform(X_test)"
   ]
  },
  {
   "cell_type": "code",
   "execution_count": 201,
   "id": "430186f5",
   "metadata": {},
   "outputs": [
    {
     "data": {
      "text/plain": [
       "array([[-0.36167181, -0.24086801],\n",
       "       [ 1.98632454,  1.85773399],\n",
       "       [ 1.22333794,  1.0711336 ],\n",
       "       ...,\n",
       "       [ 1.49921588,  1.57758431],\n",
       "       [ 1.7403701 ,  1.78324791],\n",
       "       [-0.74300926, -0.73371403]])"
      ]
     },
     "execution_count": 201,
     "metadata": {},
     "output_type": "execute_result"
    }
   ],
   "source": [
    "X_test"
   ]
  },
  {
   "cell_type": "code",
   "execution_count": 202,
   "id": "2b715cb7",
   "metadata": {},
   "outputs": [
    {
     "data": {
      "text/plain": [
       "DecisionTreeClassifier(criterion='entropy', random_state=0)"
      ]
     },
     "execution_count": 202,
     "metadata": {},
     "output_type": "execute_result"
    }
   ],
   "source": [
    "from sklearn.tree import DecisionTreeClassifier\n",
    "model=DecisionTreeClassifier(criterion='entropy', random_state=0)\n",
    "model.fit(X_train,Y_train)"
   ]
  },
  {
   "cell_type": "code",
   "execution_count": 203,
   "id": "822926ce",
   "metadata": {},
   "outputs": [
    {
     "data": {
      "text/plain": [
       "array(['BARBUNYA', 'BOMBAY', 'BOMBAY', 'BARBUNYA', 'BARBUNYA', 'BARBUNYA',\n",
       "       'BOMBAY', 'BARBUNYA', 'BOMBAY', 'BOMBAY', 'BARBUNYA', 'BARBUNYA',\n",
       "       'BOMBAY', 'BOMBAY', 'BARBUNYA', 'BARBUNYA', 'BARBUNYA', 'BOMBAY',\n",
       "       'BOMBAY', 'BARBUNYA', 'BOMBAY', 'BARBUNYA', 'BOMBAY', 'BARBUNYA',\n",
       "       'BOMBAY', 'BOMBAY', 'BOMBAY', 'BOMBAY', 'BARBUNYA', 'BARBUNYA',\n",
       "       'BARBUNYA', 'BARBUNYA', 'BARBUNYA', 'BOMBAY', 'BARBUNYA',\n",
       "       'BARBUNYA', 'BARBUNYA', 'BARBUNYA', 'BARBUNYA', 'BARBUNYA',\n",
       "       'BARBUNYA', 'BARBUNYA', 'BARBUNYA', 'BOMBAY', 'BARBUNYA',\n",
       "       'BARBUNYA', 'BOMBAY', 'BARBUNYA', 'BARBUNYA', 'BARBUNYA',\n",
       "       'BARBUNYA', 'BARBUNYA', 'BARBUNYA', 'BOMBAY', 'BARBUNYA', 'BOMBAY',\n",
       "       'BARBUNYA', 'BARBUNYA', 'BARBUNYA', 'BARBUNYA', 'BARBUNYA',\n",
       "       'BARBUNYA', 'BARBUNYA', 'BARBUNYA', 'BARBUNYA', 'BARBUNYA',\n",
       "       'BARBUNYA', 'BOMBAY', 'BOMBAY', 'BOMBAY', 'BARBUNYA', 'BOMBAY',\n",
       "       'BARBUNYA', 'BARBUNYA', 'BARBUNYA', 'BARBUNYA', 'BARBUNYA',\n",
       "       'BARBUNYA', 'BARBUNYA', 'BARBUNYA', 'BARBUNYA', 'BOMBAY',\n",
       "       'BARBUNYA', 'BARBUNYA', 'BARBUNYA', 'BOMBAY', 'BARBUNYA',\n",
       "       'BARBUNYA', 'BARBUNYA', 'BARBUNYA', 'BARBUNYA', 'BARBUNYA',\n",
       "       'BOMBAY', 'BOMBAY', 'BOMBAY', 'BARBUNYA', 'BARBUNYA', 'BARBUNYA',\n",
       "       'BOMBAY', 'BARBUNYA', 'BARBUNYA', 'BARBUNYA', 'BARBUNYA',\n",
       "       'BARBUNYA', 'BARBUNYA', 'BARBUNYA', 'BARBUNYA', 'BARBUNYA',\n",
       "       'BOMBAY', 'BARBUNYA', 'BOMBAY', 'BARBUNYA', 'BARBUNYA', 'BARBUNYA',\n",
       "       'BARBUNYA', 'BARBUNYA', 'BARBUNYA', 'BARBUNYA', 'BOMBAY', 'BOMBAY',\n",
       "       'BARBUNYA', 'BARBUNYA', 'BOMBAY', 'BARBUNYA', 'BARBUNYA',\n",
       "       'BARBUNYA', 'BARBUNYA', 'BARBUNYA', 'BOMBAY', 'BARBUNYA',\n",
       "       'BARBUNYA', 'BOMBAY', 'BARBUNYA', 'BARBUNYA', 'BARBUNYA',\n",
       "       'BARBUNYA', 'BARBUNYA', 'BARBUNYA', 'BARBUNYA', 'BARBUNYA',\n",
       "       'BARBUNYA', 'BARBUNYA', 'BARBUNYA', 'BARBUNYA', 'BARBUNYA',\n",
       "       'BARBUNYA', 'BARBUNYA', 'BARBUNYA', 'BARBUNYA', 'BARBUNYA',\n",
       "       'BARBUNYA', 'BOMBAY', 'BOMBAY', 'BARBUNYA', 'BOMBAY', 'BARBUNYA',\n",
       "       'BARBUNYA', 'BARBUNYA', 'BARBUNYA', 'BARBUNYA', 'BOMBAY',\n",
       "       'BARBUNYA', 'BARBUNYA', 'BARBUNYA', 'BOMBAY', 'BOMBAY', 'BARBUNYA',\n",
       "       'BOMBAY', 'BOMBAY', 'BARBUNYA', 'BOMBAY', 'BARBUNYA', 'BARBUNYA',\n",
       "       'BOMBAY', 'BOMBAY', 'BOMBAY', 'BARBUNYA', 'BARBUNYA', 'BARBUNYA',\n",
       "       'BARBUNYA', 'BARBUNYA', 'BARBUNYA', 'BARBUNYA', 'BARBUNYA',\n",
       "       'BARBUNYA', 'BOMBAY', 'BOMBAY', 'BARBUNYA', 'BARBUNYA', 'BARBUNYA',\n",
       "       'BOMBAY', 'BOMBAY', 'BARBUNYA', 'BOMBAY', 'BARBUNYA', 'BARBUNYA',\n",
       "       'BARBUNYA', 'BARBUNYA', 'BARBUNYA', 'BARBUNYA', 'BOMBAY', 'BOMBAY',\n",
       "       'BARBUNYA', 'BOMBAY', 'BOMBAY', 'BOMBAY', 'BOMBAY', 'BARBUNYA',\n",
       "       'BARBUNYA', 'BOMBAY', 'BOMBAY', 'BARBUNYA', 'BOMBAY', 'BOMBAY',\n",
       "       'BARBUNYA', 'BOMBAY', 'BARBUNYA', 'BARBUNYA', 'BARBUNYA',\n",
       "       'BARBUNYA', 'BARBUNYA', 'BOMBAY', 'BARBUNYA', 'BOMBAY', 'BARBUNYA',\n",
       "       'BARBUNYA', 'BOMBAY', 'BOMBAY', 'BARBUNYA', 'BARBUNYA', 'BARBUNYA',\n",
       "       'BARBUNYA', 'BOMBAY', 'BOMBAY', 'BARBUNYA', 'BARBUNYA', 'BARBUNYA',\n",
       "       'BARBUNYA', 'BOMBAY', 'BARBUNYA', 'BARBUNYA', 'BARBUNYA',\n",
       "       'BARBUNYA', 'BOMBAY', 'BARBUNYA', 'BARBUNYA', 'BARBUNYA',\n",
       "       'BARBUNYA', 'BARBUNYA', 'BARBUNYA', 'BARBUNYA', 'BARBUNYA',\n",
       "       'BARBUNYA', 'BARBUNYA', 'BARBUNYA', 'BARBUNYA', 'BARBUNYA',\n",
       "       'BARBUNYA', 'BARBUNYA', 'BARBUNYA', 'BARBUNYA', 'BARBUNYA',\n",
       "       'BARBUNYA', 'BARBUNYA', 'BARBUNYA', 'BARBUNYA', 'BARBUNYA',\n",
       "       'BOMBAY', 'BARBUNYA', 'BARBUNYA', 'BOMBAY', 'BARBUNYA', 'BARBUNYA',\n",
       "       'BOMBAY', 'BARBUNYA', 'BOMBAY', 'BARBUNYA', 'BARBUNYA', 'BOMBAY',\n",
       "       'BARBUNYA', 'BOMBAY', 'BOMBAY', 'BARBUNYA', 'BARBUNYA', 'BARBUNYA',\n",
       "       'BARBUNYA', 'BARBUNYA', 'BARBUNYA', 'BARBUNYA', 'BARBUNYA',\n",
       "       'BOMBAY', 'BARBUNYA', 'BARBUNYA', 'BARBUNYA', 'BARBUNYA',\n",
       "       'BARBUNYA', 'BARBUNYA', 'BARBUNYA', 'BARBUNYA', 'BOMBAY',\n",
       "       'BARBUNYA', 'BARBUNYA', 'BARBUNYA', 'BARBUNYA', 'BARBUNYA',\n",
       "       'BARBUNYA', 'BOMBAY', 'BARBUNYA', 'BOMBAY', 'BARBUNYA', 'BARBUNYA',\n",
       "       'BOMBAY', 'BOMBAY', 'BARBUNYA', 'BARBUNYA', 'BARBUNYA', 'BARBUNYA',\n",
       "       'BARBUNYA', 'BARBUNYA', 'BOMBAY', 'BARBUNYA', 'BARBUNYA',\n",
       "       'BARBUNYA', 'BOMBAY', 'BARBUNYA', 'BARBUNYA', 'BARBUNYA',\n",
       "       'BARBUNYA', 'BARBUNYA', 'BARBUNYA', 'BARBUNYA', 'BARBUNYA',\n",
       "       'BARBUNYA', 'BOMBAY', 'BARBUNYA', 'BOMBAY', 'BOMBAY', 'BARBUNYA',\n",
       "       'BARBUNYA', 'BOMBAY', 'BARBUNYA', 'BARBUNYA', 'BARBUNYA',\n",
       "       'BARBUNYA', 'BARBUNYA', 'BOMBAY', 'BARBUNYA', 'BARBUNYA',\n",
       "       'BARBUNYA', 'BARBUNYA', 'BOMBAY', 'BOMBAY', 'BOMBAY', 'BARBUNYA',\n",
       "       'BARBUNYA', 'BARBUNYA', 'BARBUNYA', 'BOMBAY', 'BARBUNYA',\n",
       "       'BARBUNYA', 'BARBUNYA', 'BARBUNYA', 'BARBUNYA', 'BARBUNYA',\n",
       "       'BARBUNYA', 'BARBUNYA', 'BARBUNYA', 'BARBUNYA', 'BOMBAY',\n",
       "       'BARBUNYA', 'BARBUNYA', 'BARBUNYA', 'BOMBAY', 'BARBUNYA',\n",
       "       'BARBUNYA', 'BARBUNYA', 'BARBUNYA', 'BARBUNYA', 'BARBUNYA',\n",
       "       'BARBUNYA', 'BOMBAY', 'BARBUNYA', 'BARBUNYA', 'BARBUNYA', 'BOMBAY',\n",
       "       'BOMBAY', 'BARBUNYA', 'BARBUNYA', 'BARBUNYA', 'BARBUNYA', 'BOMBAY',\n",
       "       'BOMBAY', 'BARBUNYA', 'BOMBAY', 'BARBUNYA', 'BARBUNYA', 'BARBUNYA',\n",
       "       'BARBUNYA', 'BARBUNYA', 'BARBUNYA', 'BARBUNYA', 'BARBUNYA',\n",
       "       'BARBUNYA', 'BARBUNYA', 'BARBUNYA', 'BOMBAY', 'BARBUNYA',\n",
       "       'BARBUNYA', 'BOMBAY', 'BARBUNYA', 'BOMBAY', 'BARBUNYA', 'BARBUNYA',\n",
       "       'BOMBAY', 'BOMBAY', 'BARBUNYA', 'BARBUNYA', 'BARBUNYA', 'BOMBAY',\n",
       "       'BARBUNYA', 'BOMBAY', 'BARBUNYA', 'BOMBAY', 'BOMBAY', 'BARBUNYA',\n",
       "       'BARBUNYA', 'BARBUNYA', 'BARBUNYA', 'BOMBAY', 'BARBUNYA', 'BOMBAY',\n",
       "       'BARBUNYA', 'BOMBAY', 'BARBUNYA', 'BARBUNYA', 'BARBUNYA', 'BOMBAY',\n",
       "       'BARBUNYA', 'BARBUNYA', 'BARBUNYA', 'BARBUNYA', 'BARBUNYA',\n",
       "       'BARBUNYA', 'BARBUNYA', 'BARBUNYA', 'BOMBAY', 'BARBUNYA', 'BOMBAY',\n",
       "       'BARBUNYA', 'BOMBAY', 'BOMBAY', 'BARBUNYA', 'BARBUNYA', 'BARBUNYA',\n",
       "       'BARBUNYA', 'BOMBAY', 'BARBUNYA', 'BARBUNYA', 'BARBUNYA',\n",
       "       'BARBUNYA', 'BARBUNYA', 'BARBUNYA', 'BOMBAY', 'BOMBAY', 'BOMBAY',\n",
       "       'BARBUNYA', 'BARBUNYA', 'BOMBAY', 'BARBUNYA', 'BARBUNYA', 'BOMBAY',\n",
       "       'BARBUNYA', 'BARBUNYA', 'BARBUNYA', 'BARBUNYA', 'BOMBAY',\n",
       "       'BARBUNYA', 'BARBUNYA', 'BARBUNYA', 'BARBUNYA', 'BARBUNYA',\n",
       "       'BARBUNYA', 'BOMBAY', 'BARBUNYA', 'BOMBAY', 'BOMBAY', 'BOMBAY',\n",
       "       'BARBUNYA', 'BARBUNYA', 'BARBUNYA', 'BARBUNYA', 'BARBUNYA',\n",
       "       'BARBUNYA', 'BOMBAY', 'BARBUNYA', 'BARBUNYA', 'BARBUNYA', 'BOMBAY',\n",
       "       'BARBUNYA', 'BARBUNYA', 'BARBUNYA', 'BARBUNYA', 'BARBUNYA',\n",
       "       'BARBUNYA', 'BARBUNYA', 'BARBUNYA', 'BARBUNYA', 'BARBUNYA',\n",
       "       'BOMBAY', 'BARBUNYA', 'BOMBAY', 'BOMBAY', 'BOMBAY', 'BARBUNYA',\n",
       "       'BOMBAY', 'BOMBAY', 'BOMBAY', 'BARBUNYA', 'BARBUNYA', 'BOMBAY',\n",
       "       'BARBUNYA', 'BOMBAY', 'BARBUNYA', 'BARBUNYA', 'BARBUNYA',\n",
       "       'BARBUNYA', 'BOMBAY', 'BOMBAY', 'BARBUNYA', 'BOMBAY', 'BARBUNYA',\n",
       "       'BOMBAY', 'BARBUNYA', 'BARBUNYA', 'BARBUNYA', 'BARBUNYA',\n",
       "       'BARBUNYA', 'BARBUNYA', 'BARBUNYA', 'BARBUNYA', 'BARBUNYA',\n",
       "       'BOMBAY', 'BARBUNYA', 'BOMBAY', 'BARBUNYA', 'BARBUNYA', 'BARBUNYA',\n",
       "       'BARBUNYA', 'BARBUNYA', 'BOMBAY', 'BOMBAY', 'BARBUNYA', 'BARBUNYA',\n",
       "       'BOMBAY', 'BOMBAY', 'BARBUNYA', 'BOMBAY', 'BARBUNYA', 'BARBUNYA',\n",
       "       'BARBUNYA', 'BARBUNYA', 'BARBUNYA', 'BOMBAY', 'BARBUNYA',\n",
       "       'BARBUNYA', 'BARBUNYA', 'BOMBAY', 'BOMBAY', 'BARBUNYA', 'BARBUNYA',\n",
       "       'BOMBAY', 'BARBUNYA', 'BARBUNYA', 'BOMBAY', 'BARBUNYA', 'BARBUNYA',\n",
       "       'BARBUNYA', 'BOMBAY', 'BOMBAY', 'BOMBAY', 'BARBUNYA', 'BARBUNYA',\n",
       "       'BARBUNYA', 'BOMBAY', 'BOMBAY', 'BARBUNYA', 'BARBUNYA', 'BOMBAY',\n",
       "       'BARBUNYA', 'BARBUNYA', 'BOMBAY', 'BOMBAY', 'BOMBAY', 'BARBUNYA',\n",
       "       'BOMBAY', 'BARBUNYA', 'BOMBAY', 'BARBUNYA', 'BOMBAY', 'BARBUNYA',\n",
       "       'BARBUNYA', 'BOMBAY', 'BARBUNYA', 'BARBUNYA', 'BARBUNYA', 'BOMBAY',\n",
       "       'BARBUNYA', 'BOMBAY', 'BARBUNYA', 'BARBUNYA', 'BOMBAY', 'BARBUNYA',\n",
       "       'BOMBAY', 'BARBUNYA', 'BARBUNYA', 'BARBUNYA', 'BOMBAY', 'BOMBAY',\n",
       "       'BARBUNYA', 'BOMBAY', 'BARBUNYA', 'BARBUNYA', 'BOMBAY', 'BARBUNYA',\n",
       "       'BARBUNYA', 'BARBUNYA', 'BOMBAY', 'BARBUNYA', 'BOMBAY', 'BARBUNYA',\n",
       "       'BARBUNYA', 'BARBUNYA', 'BARBUNYA', 'BARBUNYA', 'BARBUNYA',\n",
       "       'BOMBAY', 'BARBUNYA', 'BARBUNYA', 'BARBUNYA', 'BOMBAY', 'BARBUNYA',\n",
       "       'BOMBAY', 'BARBUNYA', 'BARBUNYA', 'BARBUNYA', 'BOMBAY', 'BARBUNYA',\n",
       "       'BARBUNYA', 'BOMBAY', 'BOMBAY', 'BOMBAY', 'BARBUNYA', 'BARBUNYA',\n",
       "       'BARBUNYA', 'BARBUNYA', 'BOMBAY', 'BARBUNYA', 'BARBUNYA', 'BOMBAY',\n",
       "       'BARBUNYA', 'BARBUNYA', 'BOMBAY', 'BARBUNYA', 'BARBUNYA',\n",
       "       'BARBUNYA', 'BARBUNYA', 'BARBUNYA', 'BOMBAY', 'BARBUNYA', 'BOMBAY',\n",
       "       'BARBUNYA', 'BARBUNYA', 'BARBUNYA', 'BARBUNYA', 'BARBUNYA',\n",
       "       'BARBUNYA', 'BARBUNYA', 'BARBUNYA', 'BARBUNYA', 'BARBUNYA',\n",
       "       'BARBUNYA', 'BOMBAY', 'BOMBAY', 'BOMBAY', 'BARBUNYA', 'BARBUNYA',\n",
       "       'BARBUNYA', 'BARBUNYA', 'BARBUNYA', 'BOMBAY', 'BARBUNYA',\n",
       "       'BARBUNYA', 'BARBUNYA', 'BOMBAY', 'BARBUNYA', 'BARBUNYA',\n",
       "       'BARBUNYA', 'BARBUNYA', 'BARBUNYA', 'BARBUNYA', 'BARBUNYA',\n",
       "       'BOMBAY', 'BARBUNYA', 'BARBUNYA', 'BARBUNYA', 'BOMBAY', 'BARBUNYA',\n",
       "       'BARBUNYA', 'BOMBAY', 'BOMBAY', 'BOMBAY', 'BOMBAY', 'BARBUNYA',\n",
       "       'BARBUNYA', 'BOMBAY', 'BARBUNYA', 'BARBUNYA', 'BARBUNYA', 'BOMBAY',\n",
       "       'BARBUNYA', 'BOMBAY', 'BARBUNYA', 'BARBUNYA', 'BARBUNYA', 'BOMBAY',\n",
       "       'BARBUNYA', 'BARBUNYA', 'BOMBAY', 'BARBUNYA', 'BOMBAY', 'BARBUNYA',\n",
       "       'BARBUNYA', 'BARBUNYA', 'BARBUNYA', 'BARBUNYA', 'BARBUNYA',\n",
       "       'BOMBAY', 'BARBUNYA', 'BARBUNYA', 'BARBUNYA', 'BARBUNYA', 'BOMBAY',\n",
       "       'BARBUNYA', 'BARBUNYA', 'BOMBAY', 'BARBUNYA', 'BOMBAY', 'BARBUNYA',\n",
       "       'BARBUNYA', 'BARBUNYA', 'BARBUNYA', 'BARBUNYA', 'BARBUNYA',\n",
       "       'BARBUNYA', 'BARBUNYA', 'BARBUNYA', 'BARBUNYA', 'BARBUNYA',\n",
       "       'BOMBAY', 'BARBUNYA', 'BARBUNYA', 'BARBUNYA', 'BARBUNYA',\n",
       "       'BARBUNYA', 'BARBUNYA', 'BARBUNYA', 'BARBUNYA', 'BOMBAY',\n",
       "       'BARBUNYA', 'BARBUNYA', 'BARBUNYA', 'BOMBAY', 'BOMBAY', 'BOMBAY',\n",
       "       'BARBUNYA', 'BOMBAY', 'BOMBAY', 'BARBUNYA', 'BARBUNYA', 'BARBUNYA',\n",
       "       'BOMBAY', 'BARBUNYA', 'BARBUNYA', 'BOMBAY', 'BARBUNYA', 'BARBUNYA',\n",
       "       'BOMBAY', 'BARBUNYA', 'BARBUNYA', 'BARBUNYA', 'BARBUNYA',\n",
       "       'BARBUNYA', 'BARBUNYA', 'BARBUNYA', 'BARBUNYA', 'BARBUNYA',\n",
       "       'BARBUNYA', 'BARBUNYA', 'BARBUNYA', 'BARBUNYA', 'BARBUNYA',\n",
       "       'BARBUNYA', 'BARBUNYA', 'BARBUNYA', 'BARBUNYA', 'BOMBAY',\n",
       "       'BARBUNYA', 'BOMBAY', 'BARBUNYA', 'BARBUNYA', 'BARBUNYA',\n",
       "       'BARBUNYA', 'BOMBAY', 'BARBUNYA', 'BARBUNYA', 'BARBUNYA',\n",
       "       'BARBUNYA', 'BARBUNYA', 'BARBUNYA', 'BARBUNYA', 'BOMBAY',\n",
       "       'BARBUNYA', 'BOMBAY', 'BARBUNYA', 'BARBUNYA', 'BARBUNYA', 'BOMBAY',\n",
       "       'BARBUNYA', 'BARBUNYA', 'BARBUNYA', 'BOMBAY', 'BARBUNYA',\n",
       "       'BARBUNYA', 'BOMBAY', 'BOMBAY', 'BARBUNYA', 'BARBUNYA', 'BARBUNYA',\n",
       "       'BOMBAY', 'BARBUNYA', 'BARBUNYA', 'BARBUNYA', 'BARBUNYA',\n",
       "       'BARBUNYA', 'BOMBAY', 'BARBUNYA', 'BOMBAY', 'BARBUNYA', 'BOMBAY',\n",
       "       'BOMBAY', 'BOMBAY', 'BARBUNYA', 'BARBUNYA', 'BARBUNYA', 'BARBUNYA',\n",
       "       'BARBUNYA', 'BARBUNYA', 'BOMBAY', 'BARBUNYA', 'BARBUNYA',\n",
       "       'BARBUNYA', 'BARBUNYA', 'BOMBAY', 'BARBUNYA', 'BARBUNYA',\n",
       "       'BARBUNYA', 'BARBUNYA', 'BOMBAY', 'BARBUNYA', 'BOMBAY', 'BOMBAY',\n",
       "       'BARBUNYA', 'BARBUNYA', 'BARBUNYA', 'BARBUNYA', 'BARBUNYA',\n",
       "       'BOMBAY', 'BARBUNYA', 'BARBUNYA', 'BARBUNYA', 'BOMBAY', 'BARBUNYA',\n",
       "       'BOMBAY', 'BARBUNYA', 'BOMBAY', 'BARBUNYA', 'BOMBAY', 'BARBUNYA',\n",
       "       'BARBUNYA', 'BARBUNYA', 'BARBUNYA', 'BARBUNYA', 'BARBUNYA',\n",
       "       'BARBUNYA', 'BARBUNYA', 'BARBUNYA', 'BARBUNYA', 'BARBUNYA',\n",
       "       'BOMBAY', 'BARBUNYA', 'BARBUNYA', 'BARBUNYA', 'BARBUNYA',\n",
       "       'BARBUNYA', 'BARBUNYA', 'BARBUNYA', 'BOMBAY', 'BOMBAY', 'BOMBAY',\n",
       "       'BARBUNYA', 'BARBUNYA', 'BOMBAY', 'BARBUNYA', 'BARBUNYA',\n",
       "       'BARBUNYA', 'BOMBAY', 'BOMBAY', 'BARBUNYA', 'BOMBAY', 'BOMBAY',\n",
       "       'BOMBAY', 'BARBUNYA'], dtype=object)"
      ]
     },
     "execution_count": 203,
     "metadata": {},
     "output_type": "execute_result"
    }
   ],
   "source": [
    "Y_pred=model.predict(X_test)\n",
    "Y_pred"
   ]
  },
  {
   "cell_type": "code",
   "execution_count": 204,
   "id": "a1812e81",
   "metadata": {},
   "outputs": [],
   "source": [
    "#confusion_matrix\n",
    "from sklearn.metrics import confusion_matrix\n",
    "cm=confusion_matrix(Y_test,Y_pred)\n"
   ]
  },
  {
   "cell_type": "code",
   "execution_count": 205,
   "id": "efc1b944",
   "metadata": {},
   "outputs": [
    {
     "data": {
      "text/plain": [
       "array([[659,   2],\n",
       "       [  2, 259]], dtype=int64)"
      ]
     },
     "execution_count": 205,
     "metadata": {},
     "output_type": "execute_result"
    }
   ],
   "source": [
    "cm"
   ]
  },
  {
   "cell_type": "code",
   "execution_count": 206,
   "id": "1c106b96",
   "metadata": {},
   "outputs": [
    {
     "data": {
      "text/plain": [
       "99.56616052060737"
      ]
     },
     "execution_count": 206,
     "metadata": {},
     "output_type": "execute_result"
    }
   ],
   "source": [
    "from sklearn import metrics \n",
    "metrics.accuracy_score(Y_test,Y_pred)*100"
   ]
  },
  {
   "cell_type": "code",
   "execution_count": 207,
   "id": "a983c3cf",
   "metadata": {},
   "outputs": [
    {
     "data": {
      "text/plain": [
       "0.9969742813918305"
      ]
     },
     "execution_count": 207,
     "metadata": {},
     "output_type": "execute_result"
    }
   ],
   "source": [
    "#recall_store\n",
    "from sklearn.metrics import recall_score,precision_score\n",
    "recall_score(Y_test,Y_pred,pos_label='BARBUNYA',average='binary')\n"
   ]
  },
  {
   "cell_type": "code",
   "execution_count": 208,
   "id": "c616376a",
   "metadata": {},
   "outputs": [
    {
     "data": {
      "text/plain": [
       "0.9969742813918305"
      ]
     },
     "execution_count": 208,
     "metadata": {},
     "output_type": "execute_result"
    }
   ],
   "source": [
    "#precision score\n",
    "precision_score(Y_test,Y_pred,pos_label='BARBUNYA',average='binary')\n"
   ]
  },
  {
   "cell_type": "code",
   "execution_count": 209,
   "id": "90e6bbf6",
   "metadata": {},
   "outputs": [
    {
     "data": {
      "text/html": [
       "<div>\n",
       "<style scoped>\n",
       "    .dataframe tbody tr th:only-of-type {\n",
       "        vertical-align: middle;\n",
       "    }\n",
       "\n",
       "    .dataframe tbody tr th {\n",
       "        vertical-align: top;\n",
       "    }\n",
       "\n",
       "    .dataframe thead th {\n",
       "        text-align: right;\n",
       "    }\n",
       "</style>\n",
       "<table border=\"1\" class=\"dataframe\">\n",
       "  <thead>\n",
       "    <tr style=\"text-align: right;\">\n",
       "      <th></th>\n",
       "      <th>Area</th>\n",
       "      <th>Perimeter</th>\n",
       "      <th>MajorAxisLength</th>\n",
       "      <th>MinorAxisLength</th>\n",
       "    </tr>\n",
       "  </thead>\n",
       "  <tbody>\n",
       "    <tr>\n",
       "      <th>0</th>\n",
       "      <td>41487</td>\n",
       "      <td>815.900</td>\n",
       "      <td>299.046841</td>\n",
       "      <td>177.081490</td>\n",
       "    </tr>\n",
       "    <tr>\n",
       "      <th>1</th>\n",
       "      <td>41488</td>\n",
       "      <td>759.552</td>\n",
       "      <td>283.142777</td>\n",
       "      <td>186.985489</td>\n",
       "    </tr>\n",
       "    <tr>\n",
       "      <th>2</th>\n",
       "      <td>42012</td>\n",
       "      <td>809.770</td>\n",
       "      <td>266.700396</td>\n",
       "      <td>202.381088</td>\n",
       "    </tr>\n",
       "    <tr>\n",
       "      <th>3</th>\n",
       "      <td>43122</td>\n",
       "      <td>838.186</td>\n",
       "      <td>296.404589</td>\n",
       "      <td>185.657600</td>\n",
       "    </tr>\n",
       "    <tr>\n",
       "      <th>4</th>\n",
       "      <td>43145</td>\n",
       "      <td>799.426</td>\n",
       "      <td>273.402945</td>\n",
       "      <td>201.266886</td>\n",
       "    </tr>\n",
       "    <tr>\n",
       "      <th>...</th>\n",
       "      <td>...</td>\n",
       "      <td>...</td>\n",
       "      <td>...</td>\n",
       "      <td>...</td>\n",
       "    </tr>\n",
       "    <tr>\n",
       "      <th>1839</th>\n",
       "      <td>237270</td>\n",
       "      <td>1921.685</td>\n",
       "      <td>738.144502</td>\n",
       "      <td>412.921647</td>\n",
       "    </tr>\n",
       "    <tr>\n",
       "      <th>1840</th>\n",
       "      <td>241322</td>\n",
       "      <td>1895.940</td>\n",
       "      <td>726.373493</td>\n",
       "      <td>427.370120</td>\n",
       "    </tr>\n",
       "    <tr>\n",
       "      <th>1841</th>\n",
       "      <td>248424</td>\n",
       "      <td>1884.557</td>\n",
       "      <td>715.053040</td>\n",
       "      <td>446.043618</td>\n",
       "    </tr>\n",
       "    <tr>\n",
       "      <th>1842</th>\n",
       "      <td>251432</td>\n",
       "      <td>1919.868</td>\n",
       "      <td>719.125690</td>\n",
       "      <td>450.926187</td>\n",
       "    </tr>\n",
       "    <tr>\n",
       "      <th>1843</th>\n",
       "      <td>254616</td>\n",
       "      <td>1985.370</td>\n",
       "      <td>738.860154</td>\n",
       "      <td>447.418329</td>\n",
       "    </tr>\n",
       "  </tbody>\n",
       "</table>\n",
       "<p>1844 rows × 4 columns</p>\n",
       "</div>"
      ],
      "text/plain": [
       "        Area  Perimeter  MajorAxisLength  MinorAxisLength\n",
       "0      41487    815.900       299.046841       177.081490\n",
       "1      41488    759.552       283.142777       186.985489\n",
       "2      42012    809.770       266.700396       202.381088\n",
       "3      43122    838.186       296.404589       185.657600\n",
       "4      43145    799.426       273.402945       201.266886\n",
       "...      ...        ...              ...              ...\n",
       "1839  237270   1921.685       738.144502       412.921647\n",
       "1840  241322   1895.940       726.373493       427.370120\n",
       "1841  248424   1884.557       715.053040       446.043618\n",
       "1842  251432   1919.868       719.125690       450.926187\n",
       "1843  254616   1985.370       738.860154       447.418329\n",
       "\n",
       "[1844 rows x 4 columns]"
      ]
     },
     "execution_count": 209,
     "metadata": {},
     "output_type": "execute_result"
    }
   ],
   "source": [
    "#NaviBase Bayes\n",
    "df_naivebase=df[['Area','Perimeter','MajorAxisLength','MinorAxisLength']]\n",
    "df_naivebase\n"
   ]
  },
  {
   "cell_type": "code",
   "execution_count": 210,
   "id": "9c40d6e6",
   "metadata": {},
   "outputs": [
    {
     "data": {
      "text/html": [
       "<div>\n",
       "<style scoped>\n",
       "    .dataframe tbody tr th:only-of-type {\n",
       "        vertical-align: middle;\n",
       "    }\n",
       "\n",
       "    .dataframe tbody tr th {\n",
       "        vertical-align: top;\n",
       "    }\n",
       "\n",
       "    .dataframe thead th {\n",
       "        text-align: right;\n",
       "    }\n",
       "</style>\n",
       "<table border=\"1\" class=\"dataframe\">\n",
       "  <thead>\n",
       "    <tr style=\"text-align: right;\">\n",
       "      <th></th>\n",
       "      <th>Perimeter</th>\n",
       "      <th>MajorAxisLength</th>\n",
       "      <th>MinorAxisLength</th>\n",
       "    </tr>\n",
       "  </thead>\n",
       "  <tbody>\n",
       "    <tr>\n",
       "      <th>0</th>\n",
       "      <td>815.900</td>\n",
       "      <td>299.046841</td>\n",
       "      <td>177.081490</td>\n",
       "    </tr>\n",
       "    <tr>\n",
       "      <th>1</th>\n",
       "      <td>759.552</td>\n",
       "      <td>283.142777</td>\n",
       "      <td>186.985489</td>\n",
       "    </tr>\n",
       "    <tr>\n",
       "      <th>2</th>\n",
       "      <td>809.770</td>\n",
       "      <td>266.700396</td>\n",
       "      <td>202.381088</td>\n",
       "    </tr>\n",
       "    <tr>\n",
       "      <th>3</th>\n",
       "      <td>838.186</td>\n",
       "      <td>296.404589</td>\n",
       "      <td>185.657600</td>\n",
       "    </tr>\n",
       "    <tr>\n",
       "      <th>4</th>\n",
       "      <td>799.426</td>\n",
       "      <td>273.402945</td>\n",
       "      <td>201.266886</td>\n",
       "    </tr>\n",
       "    <tr>\n",
       "      <th>...</th>\n",
       "      <td>...</td>\n",
       "      <td>...</td>\n",
       "      <td>...</td>\n",
       "    </tr>\n",
       "    <tr>\n",
       "      <th>1839</th>\n",
       "      <td>1921.685</td>\n",
       "      <td>738.144502</td>\n",
       "      <td>412.921647</td>\n",
       "    </tr>\n",
       "    <tr>\n",
       "      <th>1840</th>\n",
       "      <td>1895.940</td>\n",
       "      <td>726.373493</td>\n",
       "      <td>427.370120</td>\n",
       "    </tr>\n",
       "    <tr>\n",
       "      <th>1841</th>\n",
       "      <td>1884.557</td>\n",
       "      <td>715.053040</td>\n",
       "      <td>446.043618</td>\n",
       "    </tr>\n",
       "    <tr>\n",
       "      <th>1842</th>\n",
       "      <td>1919.868</td>\n",
       "      <td>719.125690</td>\n",
       "      <td>450.926187</td>\n",
       "    </tr>\n",
       "    <tr>\n",
       "      <th>1843</th>\n",
       "      <td>1985.370</td>\n",
       "      <td>738.860154</td>\n",
       "      <td>447.418329</td>\n",
       "    </tr>\n",
       "  </tbody>\n",
       "</table>\n",
       "<p>1844 rows × 3 columns</p>\n",
       "</div>"
      ],
      "text/plain": [
       "      Perimeter  MajorAxisLength  MinorAxisLength\n",
       "0       815.900       299.046841       177.081490\n",
       "1       759.552       283.142777       186.985489\n",
       "2       809.770       266.700396       202.381088\n",
       "3       838.186       296.404589       185.657600\n",
       "4       799.426       273.402945       201.266886\n",
       "...         ...              ...              ...\n",
       "1839   1921.685       738.144502       412.921647\n",
       "1840   1895.940       726.373493       427.370120\n",
       "1841   1884.557       715.053040       446.043618\n",
       "1842   1919.868       719.125690       450.926187\n",
       "1843   1985.370       738.860154       447.418329\n",
       "\n",
       "[1844 rows x 3 columns]"
      ]
     },
     "execution_count": 210,
     "metadata": {},
     "output_type": "execute_result"
    }
   ],
   "source": [
    "inputs=df_naivebase.drop('Area',axis=1)\n",
    "target=df_naivebase['Area']\n",
    "inputs"
   ]
  },
  {
   "cell_type": "code",
   "execution_count": 211,
   "id": "b5e5652a",
   "metadata": {},
   "outputs": [
    {
     "data": {
      "text/plain": [
       "0        41487\n",
       "1        41488\n",
       "2        42012\n",
       "3        43122\n",
       "4        43145\n",
       "         ...  \n",
       "1839    237270\n",
       "1840    241322\n",
       "1841    248424\n",
       "1842    251432\n",
       "1843    254616\n",
       "Name: Area, Length: 1844, dtype: int64"
      ]
     },
     "execution_count": 211,
     "metadata": {},
     "output_type": "execute_result"
    }
   ],
   "source": [
    "target"
   ]
  },
  {
   "cell_type": "code",
   "execution_count": 212,
   "id": "464e9fa3",
   "metadata": {},
   "outputs": [],
   "source": [
    "from sklearn.preprocessing import LabelEncoder"
   ]
  },
  {
   "cell_type": "code",
   "execution_count": 213,
   "id": "245f48d8",
   "metadata": {},
   "outputs": [],
   "source": [
    "Numerics=LabelEncoder() \n",
    "#calling  LabelEncoder"
   ]
  },
  {
   "cell_type": "code",
   "execution_count": 214,
   "id": "febff4cb",
   "metadata": {},
   "outputs": [],
   "source": [
    "from sklearn.naive_bayes import GaussianNB"
   ]
  },
  {
   "cell_type": "code",
   "execution_count": 215,
   "id": "ddcde04a",
   "metadata": {},
   "outputs": [
    {
     "data": {
      "text/plain": [
       "GaussianNB()"
      ]
     },
     "execution_count": 215,
     "metadata": {},
     "output_type": "execute_result"
    }
   ],
   "source": [
    "model = GaussianNB()\n",
    "model.fit(inputs,target)"
   ]
  },
  {
   "cell_type": "code",
   "execution_count": 216,
   "id": "9296000a",
   "metadata": {},
   "outputs": [
    {
     "data": {
      "text/plain": [
       "99.34924078091106"
      ]
     },
     "execution_count": 216,
     "metadata": {},
     "output_type": "execute_result"
    }
   ],
   "source": [
    "model.score(inputs,target)*100"
   ]
  },
  {
   "cell_type": "code",
   "execution_count": 217,
   "id": "b3f4c608",
   "metadata": {},
   "outputs": [
    {
     "data": {
      "text/html": [
       "<div>\n",
       "<style scoped>\n",
       "    .dataframe tbody tr th:only-of-type {\n",
       "        vertical-align: middle;\n",
       "    }\n",
       "\n",
       "    .dataframe tbody tr th {\n",
       "        vertical-align: top;\n",
       "    }\n",
       "\n",
       "    .dataframe thead th {\n",
       "        text-align: right;\n",
       "    }\n",
       "</style>\n",
       "<table border=\"1\" class=\"dataframe\">\n",
       "  <thead>\n",
       "    <tr style=\"text-align: right;\">\n",
       "      <th></th>\n",
       "      <th>Area</th>\n",
       "      <th>Perimeter</th>\n",
       "      <th>MajorAxisLength</th>\n",
       "      <th>Class</th>\n",
       "    </tr>\n",
       "  </thead>\n",
       "  <tbody>\n",
       "    <tr>\n",
       "      <th>0</th>\n",
       "      <td>41487</td>\n",
       "      <td>815.900</td>\n",
       "      <td>299.046841</td>\n",
       "      <td>BARBUNYA</td>\n",
       "    </tr>\n",
       "    <tr>\n",
       "      <th>1</th>\n",
       "      <td>41488</td>\n",
       "      <td>759.552</td>\n",
       "      <td>283.142777</td>\n",
       "      <td>BARBUNYA</td>\n",
       "    </tr>\n",
       "    <tr>\n",
       "      <th>2</th>\n",
       "      <td>42012</td>\n",
       "      <td>809.770</td>\n",
       "      <td>266.700396</td>\n",
       "      <td>BARBUNYA</td>\n",
       "    </tr>\n",
       "    <tr>\n",
       "      <th>3</th>\n",
       "      <td>43122</td>\n",
       "      <td>838.186</td>\n",
       "      <td>296.404589</td>\n",
       "      <td>BARBUNYA</td>\n",
       "    </tr>\n",
       "    <tr>\n",
       "      <th>4</th>\n",
       "      <td>43145</td>\n",
       "      <td>799.426</td>\n",
       "      <td>273.402945</td>\n",
       "      <td>BARBUNYA</td>\n",
       "    </tr>\n",
       "    <tr>\n",
       "      <th>...</th>\n",
       "      <td>...</td>\n",
       "      <td>...</td>\n",
       "      <td>...</td>\n",
       "      <td>...</td>\n",
       "    </tr>\n",
       "    <tr>\n",
       "      <th>1839</th>\n",
       "      <td>237270</td>\n",
       "      <td>1921.685</td>\n",
       "      <td>738.144502</td>\n",
       "      <td>BOMBAY</td>\n",
       "    </tr>\n",
       "    <tr>\n",
       "      <th>1840</th>\n",
       "      <td>241322</td>\n",
       "      <td>1895.940</td>\n",
       "      <td>726.373493</td>\n",
       "      <td>BOMBAY</td>\n",
       "    </tr>\n",
       "    <tr>\n",
       "      <th>1841</th>\n",
       "      <td>248424</td>\n",
       "      <td>1884.557</td>\n",
       "      <td>715.053040</td>\n",
       "      <td>BOMBAY</td>\n",
       "    </tr>\n",
       "    <tr>\n",
       "      <th>1842</th>\n",
       "      <td>251432</td>\n",
       "      <td>1919.868</td>\n",
       "      <td>719.125690</td>\n",
       "      <td>BOMBAY</td>\n",
       "    </tr>\n",
       "    <tr>\n",
       "      <th>1843</th>\n",
       "      <td>254616</td>\n",
       "      <td>1985.370</td>\n",
       "      <td>738.860154</td>\n",
       "      <td>BOMBAY</td>\n",
       "    </tr>\n",
       "  </tbody>\n",
       "</table>\n",
       "<p>1844 rows × 4 columns</p>\n",
       "</div>"
      ],
      "text/plain": [
       "        Area  Perimeter  MajorAxisLength     Class\n",
       "0      41487    815.900       299.046841  BARBUNYA\n",
       "1      41488    759.552       283.142777  BARBUNYA\n",
       "2      42012    809.770       266.700396  BARBUNYA\n",
       "3      43122    838.186       296.404589  BARBUNYA\n",
       "4      43145    799.426       273.402945  BARBUNYA\n",
       "...      ...        ...              ...       ...\n",
       "1839  237270   1921.685       738.144502    BOMBAY\n",
       "1840  241322   1895.940       726.373493    BOMBAY\n",
       "1841  248424   1884.557       715.053040    BOMBAY\n",
       "1842  251432   1919.868       719.125690    BOMBAY\n",
       "1843  254616   1985.370       738.860154    BOMBAY\n",
       "\n",
       "[1844 rows x 4 columns]"
      ]
     },
     "execution_count": 217,
     "metadata": {},
     "output_type": "execute_result"
    }
   ],
   "source": [
    "#KNN\n",
    "df_knn=df[['Area','Perimeter','MajorAxisLength','Class']]\n",
    "df_knn\n"
   ]
  },
  {
   "cell_type": "code",
   "execution_count": 218,
   "id": "87990d71",
   "metadata": {},
   "outputs": [
    {
     "data": {
      "text/html": [
       "<div>\n",
       "<style scoped>\n",
       "    .dataframe tbody tr th:only-of-type {\n",
       "        vertical-align: middle;\n",
       "    }\n",
       "\n",
       "    .dataframe tbody tr th {\n",
       "        vertical-align: top;\n",
       "    }\n",
       "\n",
       "    .dataframe thead th {\n",
       "        text-align: right;\n",
       "    }\n",
       "</style>\n",
       "<table border=\"1\" class=\"dataframe\">\n",
       "  <thead>\n",
       "    <tr style=\"text-align: right;\">\n",
       "      <th></th>\n",
       "      <th>Area</th>\n",
       "      <th>Perimeter</th>\n",
       "      <th>MajorAxisLength</th>\n",
       "    </tr>\n",
       "  </thead>\n",
       "  <tbody>\n",
       "    <tr>\n",
       "      <th>0</th>\n",
       "      <td>41487</td>\n",
       "      <td>815.900</td>\n",
       "      <td>299.046841</td>\n",
       "    </tr>\n",
       "    <tr>\n",
       "      <th>1</th>\n",
       "      <td>41488</td>\n",
       "      <td>759.552</td>\n",
       "      <td>283.142777</td>\n",
       "    </tr>\n",
       "    <tr>\n",
       "      <th>2</th>\n",
       "      <td>42012</td>\n",
       "      <td>809.770</td>\n",
       "      <td>266.700396</td>\n",
       "    </tr>\n",
       "    <tr>\n",
       "      <th>3</th>\n",
       "      <td>43122</td>\n",
       "      <td>838.186</td>\n",
       "      <td>296.404589</td>\n",
       "    </tr>\n",
       "    <tr>\n",
       "      <th>4</th>\n",
       "      <td>43145</td>\n",
       "      <td>799.426</td>\n",
       "      <td>273.402945</td>\n",
       "    </tr>\n",
       "    <tr>\n",
       "      <th>...</th>\n",
       "      <td>...</td>\n",
       "      <td>...</td>\n",
       "      <td>...</td>\n",
       "    </tr>\n",
       "    <tr>\n",
       "      <th>1839</th>\n",
       "      <td>237270</td>\n",
       "      <td>1921.685</td>\n",
       "      <td>738.144502</td>\n",
       "    </tr>\n",
       "    <tr>\n",
       "      <th>1840</th>\n",
       "      <td>241322</td>\n",
       "      <td>1895.940</td>\n",
       "      <td>726.373493</td>\n",
       "    </tr>\n",
       "    <tr>\n",
       "      <th>1841</th>\n",
       "      <td>248424</td>\n",
       "      <td>1884.557</td>\n",
       "      <td>715.053040</td>\n",
       "    </tr>\n",
       "    <tr>\n",
       "      <th>1842</th>\n",
       "      <td>251432</td>\n",
       "      <td>1919.868</td>\n",
       "      <td>719.125690</td>\n",
       "    </tr>\n",
       "    <tr>\n",
       "      <th>1843</th>\n",
       "      <td>254616</td>\n",
       "      <td>1985.370</td>\n",
       "      <td>738.860154</td>\n",
       "    </tr>\n",
       "  </tbody>\n",
       "</table>\n",
       "<p>1844 rows × 3 columns</p>\n",
       "</div>"
      ],
      "text/plain": [
       "        Area  Perimeter  MajorAxisLength\n",
       "0      41487    815.900       299.046841\n",
       "1      41488    759.552       283.142777\n",
       "2      42012    809.770       266.700396\n",
       "3      43122    838.186       296.404589\n",
       "4      43145    799.426       273.402945\n",
       "...      ...        ...              ...\n",
       "1839  237270   1921.685       738.144502\n",
       "1840  241322   1895.940       726.373493\n",
       "1841  248424   1884.557       715.053040\n",
       "1842  251432   1919.868       719.125690\n",
       "1843  254616   1985.370       738.860154\n",
       "\n",
       "[1844 rows x 3 columns]"
      ]
     },
     "execution_count": 218,
     "metadata": {},
     "output_type": "execute_result"
    }
   ],
   "source": [
    "X=df_knn.iloc[:,[0,1,2]]\n",
    "X"
   ]
  },
  {
   "cell_type": "code",
   "execution_count": 219,
   "id": "005ce889",
   "metadata": {},
   "outputs": [
    {
     "data": {
      "text/plain": [
       "0       BARBUNYA\n",
       "1       BARBUNYA\n",
       "2       BARBUNYA\n",
       "3       BARBUNYA\n",
       "4       BARBUNYA\n",
       "          ...   \n",
       "1839      BOMBAY\n",
       "1840      BOMBAY\n",
       "1841      BOMBAY\n",
       "1842      BOMBAY\n",
       "1843      BOMBAY\n",
       "Name: Class, Length: 1844, dtype: object"
      ]
     },
     "execution_count": 219,
     "metadata": {},
     "output_type": "execute_result"
    }
   ],
   "source": [
    "Y=df_knn.iloc[:,3]\n",
    "Y"
   ]
  },
  {
   "cell_type": "code",
   "execution_count": 220,
   "id": "7e21c0b6",
   "metadata": {},
   "outputs": [],
   "source": [
    "from sklearn.model_selection import train_test_split\n",
    "X_train,X_test,Y_train,Y_test=train_test_split(X,Y,test_size=0.5,random_state=1512)"
   ]
  },
  {
   "cell_type": "code",
   "execution_count": 223,
   "id": "0c98ca8d",
   "metadata": {},
   "outputs": [
    {
     "data": {
      "text/plain": [
       "KNeighborsClassifier(n_neighbors=3)"
      ]
     },
     "execution_count": 223,
     "metadata": {},
     "output_type": "execute_result"
    }
   ],
   "source": [
    "from sklearn.neighbors import KNeighborsClassifier\n",
    "from sklearn.metrics import accuracy_score\n",
    "model_new=KNeighborsClassifier(n_neighbors=3)\n",
    "model_new.fit(X_train,Y_train)"
   ]
  },
  {
   "cell_type": "code",
   "execution_count": 226,
   "id": "b85c6291",
   "metadata": {},
   "outputs": [],
   "source": [
    "Y_pred=model_new.predict(X_test)"
   ]
  },
  {
   "cell_type": "code",
   "execution_count": 227,
   "id": "45ae4511",
   "metadata": {},
   "outputs": [
    {
     "data": {
      "text/plain": [
       "99.89154013015184"
      ]
     },
     "execution_count": 227,
     "metadata": {},
     "output_type": "execute_result"
    }
   ],
   "source": [
    "accuracy_score(Y_test,Y_pred)*100"
   ]
  },
  {
   "cell_type": "code",
   "execution_count": 230,
   "id": "7e5c4ba9",
   "metadata": {},
   "outputs": [
    {
     "data": {
      "text/plain": [
       "0.9962962962962963"
      ]
     },
     "execution_count": 230,
     "metadata": {},
     "output_type": "execute_result"
    }
   ],
   "source": [
    "#recall_store\n",
    "from sklearn.metrics import recall_score,precision_score\n",
    "recall_score(Y_test,Y_pred,pos_label='BOMBAY',average='binary')\n"
   ]
  },
  {
   "cell_type": "code",
   "execution_count": 231,
   "id": "40852dcd",
   "metadata": {},
   "outputs": [
    {
     "data": {
      "text/plain": [
       "1.0"
      ]
     },
     "execution_count": 231,
     "metadata": {},
     "output_type": "execute_result"
    }
   ],
   "source": [
    "#precision score\n",
    "precision_score(Y_test,Y_pred,pos_label='BOMBAY',average='binary')"
   ]
  },
  {
   "cell_type": "code",
   "execution_count": 234,
   "id": "62aea94f",
   "metadata": {},
   "outputs": [],
   "source": [
    "#randome forest \n",
    "from sklearn.ensemble import RandomForestClassifier"
   ]
  },
  {
   "cell_type": "code",
   "execution_count": 235,
   "id": "130c280c",
   "metadata": {},
   "outputs": [],
   "source": [
    "model = RandomForestClassifier()"
   ]
  },
  {
   "cell_type": "code",
   "execution_count": 236,
   "id": "1803d483",
   "metadata": {},
   "outputs": [
    {
     "data": {
      "text/plain": [
       "RandomForestClassifier()"
      ]
     },
     "execution_count": 236,
     "metadata": {},
     "output_type": "execute_result"
    }
   ],
   "source": [
    "model.fit(X_train,Y_train)"
   ]
  },
  {
   "cell_type": "code",
   "execution_count": 237,
   "id": "88d92776",
   "metadata": {},
   "outputs": [],
   "source": [
    "ypred = model.predict(X_test)"
   ]
  },
  {
   "cell_type": "code",
   "execution_count": 238,
   "id": "8b23ecff",
   "metadata": {},
   "outputs": [
    {
     "data": {
      "text/plain": [
       "array(['BARBUNYA', 'BARBUNYA', 'BARBUNYA', 'BARBUNYA', 'BOMBAY',\n",
       "       'BARBUNYA', 'BARBUNYA', 'BARBUNYA', 'BOMBAY', 'BARBUNYA',\n",
       "       'BARBUNYA', 'BARBUNYA', 'BOMBAY', 'BARBUNYA', 'BARBUNYA',\n",
       "       'BARBUNYA', 'BARBUNYA', 'BARBUNYA', 'BARBUNYA', 'BOMBAY',\n",
       "       'BARBUNYA', 'BARBUNYA', 'BARBUNYA', 'BARBUNYA', 'BOMBAY',\n",
       "       'BARBUNYA', 'BARBUNYA', 'BARBUNYA', 'BOMBAY', 'BOMBAY', 'BOMBAY',\n",
       "       'BARBUNYA', 'BARBUNYA', 'BARBUNYA', 'BOMBAY', 'BARBUNYA', 'BOMBAY',\n",
       "       'BOMBAY', 'BOMBAY', 'BARBUNYA', 'BARBUNYA', 'BOMBAY', 'BARBUNYA',\n",
       "       'BARBUNYA', 'BARBUNYA', 'BOMBAY', 'BOMBAY', 'BARBUNYA', 'BARBUNYA',\n",
       "       'BOMBAY', 'BARBUNYA', 'BARBUNYA', 'BOMBAY', 'BARBUNYA', 'BOMBAY',\n",
       "       'BOMBAY', 'BARBUNYA', 'BOMBAY', 'BARBUNYA', 'BARBUNYA', 'BARBUNYA',\n",
       "       'BARBUNYA', 'BARBUNYA', 'BOMBAY', 'BARBUNYA', 'BOMBAY', 'BOMBAY',\n",
       "       'BARBUNYA', 'BARBUNYA', 'BARBUNYA', 'BARBUNYA', 'BOMBAY', 'BOMBAY',\n",
       "       'BOMBAY', 'BARBUNYA', 'BARBUNYA', 'BOMBAY', 'BARBUNYA', 'BARBUNYA',\n",
       "       'BARBUNYA', 'BOMBAY', 'BARBUNYA', 'BOMBAY', 'BARBUNYA', 'BARBUNYA',\n",
       "       'BARBUNYA', 'BOMBAY', 'BARBUNYA', 'BOMBAY', 'BARBUNYA', 'BOMBAY',\n",
       "       'BOMBAY', 'BARBUNYA', 'BARBUNYA', 'BARBUNYA', 'BOMBAY', 'BARBUNYA',\n",
       "       'BARBUNYA', 'BARBUNYA', 'BARBUNYA', 'BOMBAY', 'BARBUNYA',\n",
       "       'BARBUNYA', 'BARBUNYA', 'BARBUNYA', 'BARBUNYA', 'BARBUNYA',\n",
       "       'BOMBAY', 'BARBUNYA', 'BARBUNYA', 'BARBUNYA', 'BARBUNYA', 'BOMBAY',\n",
       "       'BARBUNYA', 'BARBUNYA', 'BOMBAY', 'BARBUNYA', 'BARBUNYA',\n",
       "       'BARBUNYA', 'BARBUNYA', 'BARBUNYA', 'BOMBAY', 'BARBUNYA',\n",
       "       'BARBUNYA', 'BOMBAY', 'BOMBAY', 'BARBUNYA', 'BARBUNYA', 'BOMBAY',\n",
       "       'BARBUNYA', 'BOMBAY', 'BARBUNYA', 'BARBUNYA', 'BARBUNYA',\n",
       "       'BARBUNYA', 'BARBUNYA', 'BOMBAY', 'BARBUNYA', 'BOMBAY', 'BOMBAY',\n",
       "       'BARBUNYA', 'BARBUNYA', 'BOMBAY', 'BOMBAY', 'BARBUNYA', 'BARBUNYA',\n",
       "       'BARBUNYA', 'BARBUNYA', 'BOMBAY', 'BOMBAY', 'BARBUNYA', 'BARBUNYA',\n",
       "       'BARBUNYA', 'BOMBAY', 'BOMBAY', 'BOMBAY', 'BOMBAY', 'BARBUNYA',\n",
       "       'BARBUNYA', 'BOMBAY', 'BARBUNYA', 'BARBUNYA', 'BARBUNYA',\n",
       "       'BARBUNYA', 'BOMBAY', 'BARBUNYA', 'BARBUNYA', 'BOMBAY', 'BARBUNYA',\n",
       "       'BARBUNYA', 'BOMBAY', 'BOMBAY', 'BOMBAY', 'BARBUNYA', 'BOMBAY',\n",
       "       'BARBUNYA', 'BOMBAY', 'BOMBAY', 'BARBUNYA', 'BARBUNYA', 'BARBUNYA',\n",
       "       'BARBUNYA', 'BARBUNYA', 'BARBUNYA', 'BARBUNYA', 'BARBUNYA',\n",
       "       'BARBUNYA', 'BARBUNYA', 'BOMBAY', 'BARBUNYA', 'BARBUNYA', 'BOMBAY',\n",
       "       'BARBUNYA', 'BARBUNYA', 'BARBUNYA', 'BOMBAY', 'BOMBAY', 'BOMBAY',\n",
       "       'BARBUNYA', 'BARBUNYA', 'BARBUNYA', 'BARBUNYA', 'BARBUNYA',\n",
       "       'BARBUNYA', 'BOMBAY', 'BARBUNYA', 'BARBUNYA', 'BARBUNYA',\n",
       "       'BARBUNYA', 'BARBUNYA', 'BARBUNYA', 'BOMBAY', 'BARBUNYA',\n",
       "       'BARBUNYA', 'BARBUNYA', 'BARBUNYA', 'BARBUNYA', 'BOMBAY',\n",
       "       'BARBUNYA', 'BARBUNYA', 'BARBUNYA', 'BARBUNYA', 'BARBUNYA',\n",
       "       'BARBUNYA', 'BARBUNYA', 'BARBUNYA', 'BARBUNYA', 'BARBUNYA',\n",
       "       'BOMBAY', 'BOMBAY', 'BARBUNYA', 'BARBUNYA', 'BARBUNYA', 'BARBUNYA',\n",
       "       'BOMBAY', 'BOMBAY', 'BARBUNYA', 'BARBUNYA', 'BARBUNYA', 'BOMBAY',\n",
       "       'BARBUNYA', 'BOMBAY', 'BOMBAY', 'BARBUNYA', 'BARBUNYA', 'BARBUNYA',\n",
       "       'BOMBAY', 'BARBUNYA', 'BOMBAY', 'BOMBAY', 'BARBUNYA', 'BOMBAY',\n",
       "       'BARBUNYA', 'BARBUNYA', 'BARBUNYA', 'BARBUNYA', 'BARBUNYA',\n",
       "       'BARBUNYA', 'BARBUNYA', 'BARBUNYA', 'BARBUNYA', 'BOMBAY',\n",
       "       'BARBUNYA', 'BARBUNYA', 'BOMBAY', 'BOMBAY', 'BARBUNYA', 'BARBUNYA',\n",
       "       'BARBUNYA', 'BARBUNYA', 'BARBUNYA', 'BARBUNYA', 'BOMBAY',\n",
       "       'BARBUNYA', 'BARBUNYA', 'BARBUNYA', 'BARBUNYA', 'BARBUNYA',\n",
       "       'BARBUNYA', 'BARBUNYA', 'BARBUNYA', 'BARBUNYA', 'BOMBAY',\n",
       "       'BARBUNYA', 'BOMBAY', 'BARBUNYA', 'BARBUNYA', 'BARBUNYA',\n",
       "       'BARBUNYA', 'BOMBAY', 'BARBUNYA', 'BARBUNYA', 'BARBUNYA',\n",
       "       'BARBUNYA', 'BARBUNYA', 'BARBUNYA', 'BOMBAY', 'BARBUNYA', 'BOMBAY',\n",
       "       'BARBUNYA', 'BARBUNYA', 'BOMBAY', 'BARBUNYA', 'BOMBAY', 'BOMBAY',\n",
       "       'BARBUNYA', 'BARBUNYA', 'BARBUNYA', 'BARBUNYA', 'BARBUNYA',\n",
       "       'BOMBAY', 'BARBUNYA', 'BARBUNYA', 'BARBUNYA', 'BARBUNYA',\n",
       "       'BARBUNYA', 'BARBUNYA', 'BARBUNYA', 'BARBUNYA', 'BARBUNYA',\n",
       "       'BOMBAY', 'BARBUNYA', 'BARBUNYA', 'BARBUNYA', 'BARBUNYA',\n",
       "       'BARBUNYA', 'BARBUNYA', 'BARBUNYA', 'BARBUNYA', 'BOMBAY', 'BOMBAY',\n",
       "       'BARBUNYA', 'BOMBAY', 'BARBUNYA', 'BARBUNYA', 'BARBUNYA',\n",
       "       'BARBUNYA', 'BARBUNYA', 'BOMBAY', 'BARBUNYA', 'BARBUNYA',\n",
       "       'BARBUNYA', 'BARBUNYA', 'BARBUNYA', 'BOMBAY', 'BARBUNYA',\n",
       "       'BARBUNYA', 'BARBUNYA', 'BARBUNYA', 'BARBUNYA', 'BARBUNYA',\n",
       "       'BARBUNYA', 'BOMBAY', 'BARBUNYA', 'BARBUNYA', 'BARBUNYA',\n",
       "       'BARBUNYA', 'BOMBAY', 'BOMBAY', 'BARBUNYA', 'BOMBAY', 'BOMBAY',\n",
       "       'BARBUNYA', 'BARBUNYA', 'BARBUNYA', 'BOMBAY', 'BARBUNYA',\n",
       "       'BARBUNYA', 'BOMBAY', 'BOMBAY', 'BOMBAY', 'BARBUNYA', 'BARBUNYA',\n",
       "       'BARBUNYA', 'BARBUNYA', 'BARBUNYA', 'BARBUNYA', 'BOMBAY', 'BOMBAY',\n",
       "       'BARBUNYA', 'BOMBAY', 'BARBUNYA', 'BARBUNYA', 'BARBUNYA',\n",
       "       'BARBUNYA', 'BOMBAY', 'BARBUNYA', 'BARBUNYA', 'BARBUNYA',\n",
       "       'BARBUNYA', 'BARBUNYA', 'BARBUNYA', 'BARBUNYA', 'BARBUNYA',\n",
       "       'BOMBAY', 'BARBUNYA', 'BOMBAY', 'BARBUNYA', 'BOMBAY', 'BARBUNYA',\n",
       "       'BOMBAY', 'BARBUNYA', 'BARBUNYA', 'BARBUNYA', 'BOMBAY', 'BARBUNYA',\n",
       "       'BOMBAY', 'BARBUNYA', 'BARBUNYA', 'BARBUNYA', 'BOMBAY', 'BARBUNYA',\n",
       "       'BARBUNYA', 'BARBUNYA', 'BOMBAY', 'BARBUNYA', 'BARBUNYA',\n",
       "       'BARBUNYA', 'BARBUNYA', 'BARBUNYA', 'BARBUNYA', 'BARBUNYA',\n",
       "       'BARBUNYA', 'BARBUNYA', 'BARBUNYA', 'BOMBAY', 'BARBUNYA',\n",
       "       'BARBUNYA', 'BARBUNYA', 'BARBUNYA', 'BARBUNYA', 'BARBUNYA',\n",
       "       'BARBUNYA', 'BARBUNYA', 'BOMBAY', 'BARBUNYA', 'BARBUNYA', 'BOMBAY',\n",
       "       'BARBUNYA', 'BARBUNYA', 'BARBUNYA', 'BOMBAY', 'BARBUNYA',\n",
       "       'BARBUNYA', 'BOMBAY', 'BOMBAY', 'BOMBAY', 'BARBUNYA', 'BARBUNYA',\n",
       "       'BARBUNYA', 'BARBUNYA', 'BARBUNYA', 'BARBUNYA', 'BARBUNYA',\n",
       "       'BARBUNYA', 'BOMBAY', 'BOMBAY', 'BOMBAY', 'BOMBAY', 'BOMBAY',\n",
       "       'BARBUNYA', 'BOMBAY', 'BARBUNYA', 'BOMBAY', 'BARBUNYA', 'BOMBAY',\n",
       "       'BOMBAY', 'BOMBAY', 'BOMBAY', 'BOMBAY', 'BARBUNYA', 'BOMBAY',\n",
       "       'BARBUNYA', 'BARBUNYA', 'BARBUNYA', 'BARBUNYA', 'BARBUNYA',\n",
       "       'BARBUNYA', 'BARBUNYA', 'BARBUNYA', 'BARBUNYA', 'BOMBAY',\n",
       "       'BARBUNYA', 'BARBUNYA', 'BARBUNYA', 'BARBUNYA', 'BARBUNYA',\n",
       "       'BOMBAY', 'BOMBAY', 'BARBUNYA', 'BOMBAY', 'BARBUNYA', 'BOMBAY',\n",
       "       'BOMBAY', 'BARBUNYA', 'BARBUNYA', 'BARBUNYA', 'BOMBAY', 'BARBUNYA',\n",
       "       'BARBUNYA', 'BOMBAY', 'BARBUNYA', 'BARBUNYA', 'BARBUNYA',\n",
       "       'BARBUNYA', 'BARBUNYA', 'BARBUNYA', 'BARBUNYA', 'BARBUNYA',\n",
       "       'BARBUNYA', 'BOMBAY', 'BARBUNYA', 'BOMBAY', 'BARBUNYA', 'BARBUNYA',\n",
       "       'BARBUNYA', 'BOMBAY', 'BARBUNYA', 'BARBUNYA', 'BARBUNYA',\n",
       "       'BARBUNYA', 'BARBUNYA', 'BARBUNYA', 'BOMBAY', 'BARBUNYA', 'BOMBAY',\n",
       "       'BARBUNYA', 'BARBUNYA', 'BARBUNYA', 'BARBUNYA', 'BARBUNYA',\n",
       "       'BARBUNYA', 'BOMBAY', 'BARBUNYA', 'BARBUNYA', 'BARBUNYA',\n",
       "       'BARBUNYA', 'BARBUNYA', 'BARBUNYA', 'BARBUNYA', 'BOMBAY', 'BOMBAY',\n",
       "       'BOMBAY', 'BOMBAY', 'BOMBAY', 'BARBUNYA', 'BOMBAY', 'BARBUNYA',\n",
       "       'BOMBAY', 'BARBUNYA', 'BARBUNYA', 'BARBUNYA', 'BOMBAY', 'BARBUNYA',\n",
       "       'BOMBAY', 'BOMBAY', 'BARBUNYA', 'BARBUNYA', 'BARBUNYA', 'BARBUNYA',\n",
       "       'BARBUNYA', 'BARBUNYA', 'BARBUNYA', 'BARBUNYA', 'BOMBAY',\n",
       "       'BARBUNYA', 'BARBUNYA', 'BARBUNYA', 'BARBUNYA', 'BARBUNYA',\n",
       "       'BOMBAY', 'BARBUNYA', 'BOMBAY', 'BARBUNYA', 'BARBUNYA', 'BARBUNYA',\n",
       "       'BARBUNYA', 'BOMBAY', 'BARBUNYA', 'BOMBAY', 'BARBUNYA', 'BOMBAY',\n",
       "       'BARBUNYA', 'BARBUNYA', 'BOMBAY', 'BARBUNYA', 'BARBUNYA',\n",
       "       'BARBUNYA', 'BARBUNYA', 'BARBUNYA', 'BARBUNYA', 'BARBUNYA',\n",
       "       'BARBUNYA', 'BARBUNYA', 'BOMBAY', 'BOMBAY', 'BARBUNYA', 'BARBUNYA',\n",
       "       'BARBUNYA', 'BARBUNYA', 'BARBUNYA', 'BARBUNYA', 'BARBUNYA',\n",
       "       'BARBUNYA', 'BARBUNYA', 'BARBUNYA', 'BOMBAY', 'BARBUNYA',\n",
       "       'BARBUNYA', 'BARBUNYA', 'BARBUNYA', 'BARBUNYA', 'BARBUNYA',\n",
       "       'BARBUNYA', 'BOMBAY', 'BARBUNYA', 'BARBUNYA', 'BARBUNYA', 'BOMBAY',\n",
       "       'BARBUNYA', 'BOMBAY', 'BARBUNYA', 'BARBUNYA', 'BOMBAY', 'BARBUNYA',\n",
       "       'BARBUNYA', 'BARBUNYA', 'BARBUNYA', 'BOMBAY', 'BARBUNYA',\n",
       "       'BARBUNYA', 'BARBUNYA', 'BOMBAY', 'BARBUNYA', 'BARBUNYA', 'BOMBAY',\n",
       "       'BOMBAY', 'BOMBAY', 'BARBUNYA', 'BOMBAY', 'BARBUNYA', 'BARBUNYA',\n",
       "       'BARBUNYA', 'BARBUNYA', 'BARBUNYA', 'BARBUNYA', 'BARBUNYA',\n",
       "       'BOMBAY', 'BARBUNYA', 'BARBUNYA', 'BARBUNYA', 'BOMBAY', 'BOMBAY',\n",
       "       'BARBUNYA', 'BARBUNYA', 'BARBUNYA', 'BOMBAY', 'BARBUNYA', 'BOMBAY',\n",
       "       'BARBUNYA', 'BARBUNYA', 'BARBUNYA', 'BARBUNYA', 'BOMBAY', 'BOMBAY',\n",
       "       'BOMBAY', 'BARBUNYA', 'BOMBAY', 'BARBUNYA', 'BARBUNYA', 'BARBUNYA',\n",
       "       'BOMBAY', 'BOMBAY', 'BARBUNYA', 'BARBUNYA', 'BOMBAY', 'BOMBAY',\n",
       "       'BARBUNYA', 'BARBUNYA', 'BARBUNYA', 'BARBUNYA', 'BARBUNYA',\n",
       "       'BARBUNYA', 'BOMBAY', 'BOMBAY', 'BARBUNYA', 'BARBUNYA', 'BOMBAY',\n",
       "       'BARBUNYA', 'BARBUNYA', 'BARBUNYA', 'BOMBAY', 'BARBUNYA', 'BOMBAY',\n",
       "       'BARBUNYA', 'BARBUNYA', 'BOMBAY', 'BARBUNYA', 'BARBUNYA',\n",
       "       'BARBUNYA', 'BARBUNYA', 'BOMBAY', 'BARBUNYA', 'BARBUNYA',\n",
       "       'BARBUNYA', 'BOMBAY', 'BOMBAY', 'BARBUNYA', 'BOMBAY', 'BARBUNYA',\n",
       "       'BARBUNYA', 'BARBUNYA', 'BARBUNYA', 'BARBUNYA', 'BOMBAY',\n",
       "       'BARBUNYA', 'BOMBAY', 'BARBUNYA', 'BARBUNYA', 'BOMBAY', 'BARBUNYA',\n",
       "       'BARBUNYA', 'BOMBAY', 'BOMBAY', 'BOMBAY', 'BOMBAY', 'BARBUNYA',\n",
       "       'BARBUNYA', 'BARBUNYA', 'BARBUNYA', 'BARBUNYA', 'BARBUNYA',\n",
       "       'BARBUNYA', 'BARBUNYA', 'BOMBAY', 'BOMBAY', 'BARBUNYA', 'BARBUNYA',\n",
       "       'BARBUNYA', 'BARBUNYA', 'BARBUNYA', 'BOMBAY', 'BARBUNYA',\n",
       "       'BARBUNYA', 'BARBUNYA', 'BARBUNYA', 'BARBUNYA', 'BARBUNYA',\n",
       "       'BARBUNYA', 'BARBUNYA', 'BARBUNYA', 'BARBUNYA', 'BARBUNYA',\n",
       "       'BARBUNYA', 'BARBUNYA', 'BOMBAY', 'BARBUNYA', 'BARBUNYA',\n",
       "       'BARBUNYA', 'BARBUNYA', 'BARBUNYA', 'BOMBAY', 'BOMBAY', 'BARBUNYA',\n",
       "       'BOMBAY', 'BARBUNYA', 'BARBUNYA', 'BARBUNYA', 'BARBUNYA',\n",
       "       'BARBUNYA', 'BARBUNYA', 'BARBUNYA', 'BARBUNYA', 'BARBUNYA',\n",
       "       'BARBUNYA', 'BOMBAY', 'BARBUNYA', 'BARBUNYA', 'BOMBAY', 'BARBUNYA',\n",
       "       'BARBUNYA', 'BOMBAY', 'BOMBAY', 'BARBUNYA', 'BARBUNYA', 'BARBUNYA',\n",
       "       'BARBUNYA', 'BARBUNYA', 'BOMBAY', 'BARBUNYA', 'BARBUNYA',\n",
       "       'BARBUNYA', 'BARBUNYA', 'BOMBAY', 'BARBUNYA', 'BARBUNYA',\n",
       "       'BARBUNYA', 'BARBUNYA', 'BOMBAY', 'BARBUNYA', 'BARBUNYA',\n",
       "       'BARBUNYA', 'BOMBAY', 'BARBUNYA', 'BOMBAY', 'BOMBAY', 'BARBUNYA',\n",
       "       'BARBUNYA', 'BARBUNYA', 'BARBUNYA', 'BOMBAY', 'BOMBAY', 'BARBUNYA',\n",
       "       'BARBUNYA', 'BOMBAY', 'BARBUNYA', 'BOMBAY', 'BARBUNYA', 'BOMBAY',\n",
       "       'BOMBAY', 'BOMBAY', 'BOMBAY', 'BARBUNYA', 'BOMBAY', 'BOMBAY',\n",
       "       'BARBUNYA', 'BARBUNYA', 'BOMBAY', 'BOMBAY', 'BOMBAY', 'BOMBAY',\n",
       "       'BARBUNYA', 'BARBUNYA', 'BOMBAY', 'BOMBAY', 'BARBUNYA', 'BARBUNYA',\n",
       "       'BARBUNYA', 'BARBUNYA', 'BARBUNYA', 'BOMBAY', 'BARBUNYA',\n",
       "       'BARBUNYA', 'BARBUNYA', 'BOMBAY', 'BARBUNYA', 'BARBUNYA', 'BOMBAY',\n",
       "       'BARBUNYA', 'BARBUNYA', 'BARBUNYA', 'BARBUNYA', 'BARBUNYA',\n",
       "       'BARBUNYA', 'BARBUNYA', 'BARBUNYA', 'BARBUNYA', 'BARBUNYA',\n",
       "       'BARBUNYA', 'BARBUNYA', 'BOMBAY', 'BOMBAY', 'BARBUNYA', 'BARBUNYA',\n",
       "       'BOMBAY', 'BOMBAY', 'BOMBAY', 'BARBUNYA', 'BARBUNYA', 'BARBUNYA',\n",
       "       'BARBUNYA', 'BARBUNYA', 'BARBUNYA', 'BOMBAY', 'BARBUNYA', 'BOMBAY',\n",
       "       'BARBUNYA', 'BARBUNYA', 'BARBUNYA', 'BARBUNYA', 'BARBUNYA',\n",
       "       'BARBUNYA', 'BARBUNYA', 'BARBUNYA', 'BARBUNYA', 'BARBUNYA',\n",
       "       'BARBUNYA', 'BOMBAY', 'BOMBAY', 'BARBUNYA', 'BARBUNYA', 'BOMBAY',\n",
       "       'BOMBAY', 'BARBUNYA', 'BARBUNYA', 'BOMBAY', 'BARBUNYA', 'BOMBAY',\n",
       "       'BARBUNYA', 'BARBUNYA', 'BARBUNYA', 'BOMBAY', 'BARBUNYA',\n",
       "       'BARBUNYA', 'BOMBAY', 'BOMBAY', 'BARBUNYA', 'BARBUNYA', 'BARBUNYA',\n",
       "       'BARBUNYA', 'BARBUNYA', 'BARBUNYA', 'BARBUNYA', 'BARBUNYA',\n",
       "       'BARBUNYA', 'BARBUNYA', 'BARBUNYA', 'BARBUNYA', 'BARBUNYA',\n",
       "       'BARBUNYA', 'BARBUNYA', 'BARBUNYA'], dtype=object)"
      ]
     },
     "execution_count": 238,
     "metadata": {},
     "output_type": "execute_result"
    }
   ],
   "source": [
    "ypred"
   ]
  },
  {
   "cell_type": "code",
   "execution_count": 239,
   "id": "addb7706",
   "metadata": {},
   "outputs": [
    {
     "data": {
      "text/plain": [
       "99.78308026030369"
      ]
     },
     "execution_count": 239,
     "metadata": {},
     "output_type": "execute_result"
    }
   ],
   "source": [
    "from sklearn import metrics\n",
    "metrics.accuracy_score(Y_test,ypred)*100"
   ]
  },
  {
   "cell_type": "code",
   "execution_count": 240,
   "id": "76519843",
   "metadata": {},
   "outputs": [
    {
     "data": {
      "text/plain": [
       "array([[652,   0],\n",
       "       [  2, 268]], dtype=int64)"
      ]
     },
     "execution_count": 240,
     "metadata": {},
     "output_type": "execute_result"
    }
   ],
   "source": [
    "from sklearn.metrics import confusion_matrix,recall_score\n",
    "cm=confusion_matrix(Y_test,ypred)\n",
    "cm"
   ]
  },
  {
   "cell_type": "code",
   "execution_count": 244,
   "id": "ff029320",
   "metadata": {},
   "outputs": [
    {
     "data": {
      "text/plain": [
       "1.0"
      ]
     },
     "execution_count": 244,
     "metadata": {},
     "output_type": "execute_result"
    }
   ],
   "source": [
    "from sklearn.metrics import recall_score\n",
    "recall_score(Y_test,ypred,pos_label='BARBUNYA',average='binary')"
   ]
  },
  {
   "cell_type": "code",
   "execution_count": 245,
   "id": "31a1b965",
   "metadata": {},
   "outputs": [
    {
     "data": {
      "text/plain": [
       "0.998468606431853"
      ]
     },
     "execution_count": 245,
     "metadata": {},
     "output_type": "execute_result"
    }
   ],
   "source": [
    "precision_score(Y_test,Y_pred,pos_label='BARBUNYA',average='binary')"
   ]
  },
  {
   "cell_type": "code",
   "execution_count": 246,
   "id": "1a043839",
   "metadata": {},
   "outputs": [],
   "source": [
    "#SVM\n",
    "from sklearn.svm import SVC\n"
   ]
  },
  {
   "cell_type": "code",
   "execution_count": 247,
   "id": "242fc8e1",
   "metadata": {},
   "outputs": [],
   "source": [
    "model=SVC(kernel='linear')"
   ]
  },
  {
   "cell_type": "code",
   "execution_count": 248,
   "id": "740ec2a0",
   "metadata": {},
   "outputs": [
    {
     "data": {
      "text/plain": [
       "SVC(kernel='linear')"
      ]
     },
     "execution_count": 248,
     "metadata": {},
     "output_type": "execute_result"
    }
   ],
   "source": [
    "model.fit(X_train,Y_train)"
   ]
  },
  {
   "cell_type": "code",
   "execution_count": 249,
   "id": "b6c8a211",
   "metadata": {},
   "outputs": [
    {
     "data": {
      "text/plain": [
       "array(['BARBUNYA', 'BARBUNYA', 'BARBUNYA', 'BARBUNYA', 'BOMBAY',\n",
       "       'BARBUNYA', 'BARBUNYA', 'BARBUNYA', 'BOMBAY', 'BARBUNYA',\n",
       "       'BARBUNYA', 'BARBUNYA', 'BOMBAY', 'BARBUNYA', 'BARBUNYA',\n",
       "       'BARBUNYA', 'BARBUNYA', 'BARBUNYA', 'BARBUNYA', 'BOMBAY',\n",
       "       'BARBUNYA', 'BARBUNYA', 'BARBUNYA', 'BARBUNYA', 'BOMBAY',\n",
       "       'BARBUNYA', 'BARBUNYA', 'BARBUNYA', 'BOMBAY', 'BOMBAY', 'BOMBAY',\n",
       "       'BARBUNYA', 'BARBUNYA', 'BARBUNYA', 'BOMBAY', 'BARBUNYA', 'BOMBAY',\n",
       "       'BOMBAY', 'BOMBAY', 'BARBUNYA', 'BARBUNYA', 'BOMBAY', 'BARBUNYA',\n",
       "       'BARBUNYA', 'BARBUNYA', 'BOMBAY', 'BOMBAY', 'BARBUNYA', 'BARBUNYA',\n",
       "       'BOMBAY', 'BARBUNYA', 'BARBUNYA', 'BOMBAY', 'BARBUNYA', 'BOMBAY',\n",
       "       'BOMBAY', 'BARBUNYA', 'BOMBAY', 'BARBUNYA', 'BARBUNYA', 'BARBUNYA',\n",
       "       'BARBUNYA', 'BARBUNYA', 'BOMBAY', 'BARBUNYA', 'BOMBAY', 'BOMBAY',\n",
       "       'BARBUNYA', 'BARBUNYA', 'BARBUNYA', 'BARBUNYA', 'BOMBAY', 'BOMBAY',\n",
       "       'BOMBAY', 'BARBUNYA', 'BARBUNYA', 'BOMBAY', 'BARBUNYA', 'BARBUNYA',\n",
       "       'BARBUNYA', 'BOMBAY', 'BARBUNYA', 'BOMBAY', 'BARBUNYA', 'BARBUNYA',\n",
       "       'BARBUNYA', 'BOMBAY', 'BARBUNYA', 'BOMBAY', 'BARBUNYA', 'BOMBAY',\n",
       "       'BOMBAY', 'BARBUNYA', 'BARBUNYA', 'BARBUNYA', 'BOMBAY', 'BARBUNYA',\n",
       "       'BARBUNYA', 'BARBUNYA', 'BARBUNYA', 'BOMBAY', 'BARBUNYA',\n",
       "       'BARBUNYA', 'BARBUNYA', 'BARBUNYA', 'BARBUNYA', 'BARBUNYA',\n",
       "       'BOMBAY', 'BARBUNYA', 'BARBUNYA', 'BARBUNYA', 'BARBUNYA', 'BOMBAY',\n",
       "       'BARBUNYA', 'BARBUNYA', 'BOMBAY', 'BARBUNYA', 'BARBUNYA',\n",
       "       'BARBUNYA', 'BARBUNYA', 'BARBUNYA', 'BOMBAY', 'BARBUNYA',\n",
       "       'BARBUNYA', 'BOMBAY', 'BOMBAY', 'BARBUNYA', 'BARBUNYA', 'BOMBAY',\n",
       "       'BARBUNYA', 'BOMBAY', 'BARBUNYA', 'BARBUNYA', 'BARBUNYA',\n",
       "       'BARBUNYA', 'BARBUNYA', 'BOMBAY', 'BARBUNYA', 'BOMBAY', 'BOMBAY',\n",
       "       'BARBUNYA', 'BARBUNYA', 'BOMBAY', 'BOMBAY', 'BARBUNYA', 'BARBUNYA',\n",
       "       'BARBUNYA', 'BARBUNYA', 'BOMBAY', 'BOMBAY', 'BARBUNYA', 'BARBUNYA',\n",
       "       'BARBUNYA', 'BOMBAY', 'BOMBAY', 'BOMBAY', 'BOMBAY', 'BARBUNYA',\n",
       "       'BARBUNYA', 'BOMBAY', 'BARBUNYA', 'BARBUNYA', 'BARBUNYA',\n",
       "       'BARBUNYA', 'BOMBAY', 'BARBUNYA', 'BARBUNYA', 'BOMBAY', 'BARBUNYA',\n",
       "       'BARBUNYA', 'BOMBAY', 'BOMBAY', 'BOMBAY', 'BARBUNYA', 'BOMBAY',\n",
       "       'BARBUNYA', 'BOMBAY', 'BOMBAY', 'BARBUNYA', 'BARBUNYA', 'BARBUNYA',\n",
       "       'BARBUNYA', 'BARBUNYA', 'BARBUNYA', 'BARBUNYA', 'BARBUNYA',\n",
       "       'BARBUNYA', 'BARBUNYA', 'BOMBAY', 'BARBUNYA', 'BARBUNYA', 'BOMBAY',\n",
       "       'BARBUNYA', 'BARBUNYA', 'BARBUNYA', 'BOMBAY', 'BOMBAY', 'BOMBAY',\n",
       "       'BARBUNYA', 'BARBUNYA', 'BARBUNYA', 'BARBUNYA', 'BARBUNYA',\n",
       "       'BARBUNYA', 'BOMBAY', 'BARBUNYA', 'BARBUNYA', 'BARBUNYA',\n",
       "       'BARBUNYA', 'BARBUNYA', 'BARBUNYA', 'BOMBAY', 'BARBUNYA',\n",
       "       'BARBUNYA', 'BARBUNYA', 'BARBUNYA', 'BARBUNYA', 'BOMBAY',\n",
       "       'BARBUNYA', 'BARBUNYA', 'BARBUNYA', 'BARBUNYA', 'BARBUNYA',\n",
       "       'BARBUNYA', 'BARBUNYA', 'BARBUNYA', 'BARBUNYA', 'BARBUNYA',\n",
       "       'BOMBAY', 'BOMBAY', 'BARBUNYA', 'BARBUNYA', 'BARBUNYA', 'BARBUNYA',\n",
       "       'BOMBAY', 'BOMBAY', 'BARBUNYA', 'BARBUNYA', 'BARBUNYA', 'BOMBAY',\n",
       "       'BARBUNYA', 'BOMBAY', 'BOMBAY', 'BARBUNYA', 'BARBUNYA', 'BARBUNYA',\n",
       "       'BOMBAY', 'BARBUNYA', 'BOMBAY', 'BOMBAY', 'BARBUNYA', 'BOMBAY',\n",
       "       'BARBUNYA', 'BARBUNYA', 'BARBUNYA', 'BARBUNYA', 'BARBUNYA',\n",
       "       'BARBUNYA', 'BARBUNYA', 'BARBUNYA', 'BARBUNYA', 'BOMBAY',\n",
       "       'BARBUNYA', 'BARBUNYA', 'BOMBAY', 'BOMBAY', 'BARBUNYA', 'BARBUNYA',\n",
       "       'BARBUNYA', 'BARBUNYA', 'BARBUNYA', 'BARBUNYA', 'BOMBAY',\n",
       "       'BARBUNYA', 'BARBUNYA', 'BARBUNYA', 'BARBUNYA', 'BARBUNYA',\n",
       "       'BARBUNYA', 'BARBUNYA', 'BARBUNYA', 'BARBUNYA', 'BOMBAY',\n",
       "       'BARBUNYA', 'BOMBAY', 'BARBUNYA', 'BARBUNYA', 'BARBUNYA',\n",
       "       'BARBUNYA', 'BOMBAY', 'BARBUNYA', 'BARBUNYA', 'BARBUNYA',\n",
       "       'BARBUNYA', 'BARBUNYA', 'BARBUNYA', 'BOMBAY', 'BARBUNYA', 'BOMBAY',\n",
       "       'BARBUNYA', 'BARBUNYA', 'BOMBAY', 'BARBUNYA', 'BOMBAY', 'BOMBAY',\n",
       "       'BARBUNYA', 'BARBUNYA', 'BARBUNYA', 'BARBUNYA', 'BARBUNYA',\n",
       "       'BOMBAY', 'BARBUNYA', 'BARBUNYA', 'BARBUNYA', 'BARBUNYA',\n",
       "       'BARBUNYA', 'BARBUNYA', 'BARBUNYA', 'BARBUNYA', 'BARBUNYA',\n",
       "       'BOMBAY', 'BARBUNYA', 'BARBUNYA', 'BARBUNYA', 'BARBUNYA',\n",
       "       'BARBUNYA', 'BARBUNYA', 'BARBUNYA', 'BARBUNYA', 'BOMBAY', 'BOMBAY',\n",
       "       'BARBUNYA', 'BOMBAY', 'BARBUNYA', 'BARBUNYA', 'BARBUNYA',\n",
       "       'BARBUNYA', 'BARBUNYA', 'BOMBAY', 'BARBUNYA', 'BARBUNYA',\n",
       "       'BARBUNYA', 'BARBUNYA', 'BARBUNYA', 'BOMBAY', 'BARBUNYA',\n",
       "       'BARBUNYA', 'BARBUNYA', 'BARBUNYA', 'BARBUNYA', 'BARBUNYA',\n",
       "       'BARBUNYA', 'BOMBAY', 'BARBUNYA', 'BARBUNYA', 'BARBUNYA',\n",
       "       'BARBUNYA', 'BOMBAY', 'BOMBAY', 'BARBUNYA', 'BOMBAY', 'BOMBAY',\n",
       "       'BARBUNYA', 'BARBUNYA', 'BARBUNYA', 'BOMBAY', 'BARBUNYA',\n",
       "       'BARBUNYA', 'BOMBAY', 'BOMBAY', 'BOMBAY', 'BARBUNYA', 'BARBUNYA',\n",
       "       'BARBUNYA', 'BARBUNYA', 'BARBUNYA', 'BARBUNYA', 'BOMBAY', 'BOMBAY',\n",
       "       'BARBUNYA', 'BOMBAY', 'BARBUNYA', 'BARBUNYA', 'BARBUNYA',\n",
       "       'BARBUNYA', 'BOMBAY', 'BARBUNYA', 'BARBUNYA', 'BARBUNYA',\n",
       "       'BARBUNYA', 'BARBUNYA', 'BARBUNYA', 'BARBUNYA', 'BARBUNYA',\n",
       "       'BOMBAY', 'BARBUNYA', 'BOMBAY', 'BARBUNYA', 'BOMBAY', 'BARBUNYA',\n",
       "       'BOMBAY', 'BARBUNYA', 'BARBUNYA', 'BARBUNYA', 'BOMBAY', 'BARBUNYA',\n",
       "       'BOMBAY', 'BARBUNYA', 'BARBUNYA', 'BARBUNYA', 'BOMBAY', 'BARBUNYA',\n",
       "       'BARBUNYA', 'BARBUNYA', 'BOMBAY', 'BARBUNYA', 'BARBUNYA',\n",
       "       'BARBUNYA', 'BARBUNYA', 'BARBUNYA', 'BARBUNYA', 'BARBUNYA',\n",
       "       'BARBUNYA', 'BARBUNYA', 'BARBUNYA', 'BOMBAY', 'BARBUNYA',\n",
       "       'BARBUNYA', 'BARBUNYA', 'BARBUNYA', 'BARBUNYA', 'BARBUNYA',\n",
       "       'BARBUNYA', 'BARBUNYA', 'BOMBAY', 'BARBUNYA', 'BARBUNYA', 'BOMBAY',\n",
       "       'BARBUNYA', 'BARBUNYA', 'BARBUNYA', 'BOMBAY', 'BARBUNYA',\n",
       "       'BARBUNYA', 'BOMBAY', 'BOMBAY', 'BOMBAY', 'BARBUNYA', 'BARBUNYA',\n",
       "       'BARBUNYA', 'BARBUNYA', 'BARBUNYA', 'BARBUNYA', 'BARBUNYA',\n",
       "       'BARBUNYA', 'BOMBAY', 'BOMBAY', 'BOMBAY', 'BOMBAY', 'BOMBAY',\n",
       "       'BARBUNYA', 'BOMBAY', 'BARBUNYA', 'BOMBAY', 'BARBUNYA', 'BOMBAY',\n",
       "       'BOMBAY', 'BOMBAY', 'BOMBAY', 'BOMBAY', 'BARBUNYA', 'BOMBAY',\n",
       "       'BARBUNYA', 'BARBUNYA', 'BARBUNYA', 'BARBUNYA', 'BARBUNYA',\n",
       "       'BARBUNYA', 'BARBUNYA', 'BARBUNYA', 'BARBUNYA', 'BOMBAY',\n",
       "       'BARBUNYA', 'BARBUNYA', 'BARBUNYA', 'BARBUNYA', 'BARBUNYA',\n",
       "       'BOMBAY', 'BOMBAY', 'BARBUNYA', 'BOMBAY', 'BARBUNYA', 'BOMBAY',\n",
       "       'BOMBAY', 'BARBUNYA', 'BARBUNYA', 'BARBUNYA', 'BOMBAY', 'BARBUNYA',\n",
       "       'BARBUNYA', 'BOMBAY', 'BARBUNYA', 'BARBUNYA', 'BARBUNYA',\n",
       "       'BARBUNYA', 'BARBUNYA', 'BARBUNYA', 'BARBUNYA', 'BARBUNYA',\n",
       "       'BARBUNYA', 'BOMBAY', 'BARBUNYA', 'BOMBAY', 'BARBUNYA', 'BARBUNYA',\n",
       "       'BARBUNYA', 'BOMBAY', 'BARBUNYA', 'BARBUNYA', 'BARBUNYA',\n",
       "       'BARBUNYA', 'BARBUNYA', 'BARBUNYA', 'BOMBAY', 'BARBUNYA', 'BOMBAY',\n",
       "       'BARBUNYA', 'BARBUNYA', 'BARBUNYA', 'BARBUNYA', 'BARBUNYA',\n",
       "       'BARBUNYA', 'BOMBAY', 'BARBUNYA', 'BARBUNYA', 'BARBUNYA',\n",
       "       'BARBUNYA', 'BARBUNYA', 'BARBUNYA', 'BARBUNYA', 'BOMBAY', 'BOMBAY',\n",
       "       'BOMBAY', 'BOMBAY', 'BOMBAY', 'BARBUNYA', 'BOMBAY', 'BARBUNYA',\n",
       "       'BOMBAY', 'BARBUNYA', 'BARBUNYA', 'BARBUNYA', 'BOMBAY', 'BARBUNYA',\n",
       "       'BOMBAY', 'BOMBAY', 'BARBUNYA', 'BARBUNYA', 'BARBUNYA', 'BARBUNYA',\n",
       "       'BARBUNYA', 'BARBUNYA', 'BARBUNYA', 'BARBUNYA', 'BOMBAY',\n",
       "       'BARBUNYA', 'BARBUNYA', 'BARBUNYA', 'BARBUNYA', 'BARBUNYA',\n",
       "       'BOMBAY', 'BARBUNYA', 'BOMBAY', 'BARBUNYA', 'BARBUNYA', 'BARBUNYA',\n",
       "       'BARBUNYA', 'BOMBAY', 'BARBUNYA', 'BOMBAY', 'BARBUNYA', 'BOMBAY',\n",
       "       'BARBUNYA', 'BARBUNYA', 'BOMBAY', 'BARBUNYA', 'BARBUNYA',\n",
       "       'BARBUNYA', 'BARBUNYA', 'BARBUNYA', 'BARBUNYA', 'BARBUNYA',\n",
       "       'BARBUNYA', 'BARBUNYA', 'BOMBAY', 'BOMBAY', 'BARBUNYA', 'BARBUNYA',\n",
       "       'BARBUNYA', 'BARBUNYA', 'BARBUNYA', 'BARBUNYA', 'BARBUNYA',\n",
       "       'BARBUNYA', 'BARBUNYA', 'BARBUNYA', 'BOMBAY', 'BARBUNYA',\n",
       "       'BARBUNYA', 'BARBUNYA', 'BARBUNYA', 'BARBUNYA', 'BARBUNYA',\n",
       "       'BARBUNYA', 'BOMBAY', 'BARBUNYA', 'BARBUNYA', 'BARBUNYA', 'BOMBAY',\n",
       "       'BARBUNYA', 'BOMBAY', 'BARBUNYA', 'BARBUNYA', 'BOMBAY', 'BARBUNYA',\n",
       "       'BARBUNYA', 'BARBUNYA', 'BARBUNYA', 'BOMBAY', 'BARBUNYA',\n",
       "       'BARBUNYA', 'BARBUNYA', 'BOMBAY', 'BARBUNYA', 'BARBUNYA', 'BOMBAY',\n",
       "       'BOMBAY', 'BOMBAY', 'BARBUNYA', 'BOMBAY', 'BARBUNYA', 'BARBUNYA',\n",
       "       'BARBUNYA', 'BARBUNYA', 'BARBUNYA', 'BARBUNYA', 'BARBUNYA',\n",
       "       'BOMBAY', 'BARBUNYA', 'BARBUNYA', 'BARBUNYA', 'BOMBAY', 'BOMBAY',\n",
       "       'BARBUNYA', 'BARBUNYA', 'BARBUNYA', 'BOMBAY', 'BARBUNYA', 'BOMBAY',\n",
       "       'BARBUNYA', 'BARBUNYA', 'BARBUNYA', 'BARBUNYA', 'BOMBAY', 'BOMBAY',\n",
       "       'BOMBAY', 'BARBUNYA', 'BOMBAY', 'BARBUNYA', 'BARBUNYA', 'BARBUNYA',\n",
       "       'BOMBAY', 'BOMBAY', 'BARBUNYA', 'BARBUNYA', 'BOMBAY', 'BOMBAY',\n",
       "       'BARBUNYA', 'BARBUNYA', 'BARBUNYA', 'BARBUNYA', 'BARBUNYA',\n",
       "       'BARBUNYA', 'BOMBAY', 'BOMBAY', 'BARBUNYA', 'BARBUNYA', 'BOMBAY',\n",
       "       'BARBUNYA', 'BARBUNYA', 'BARBUNYA', 'BOMBAY', 'BARBUNYA', 'BOMBAY',\n",
       "       'BARBUNYA', 'BARBUNYA', 'BOMBAY', 'BARBUNYA', 'BARBUNYA',\n",
       "       'BARBUNYA', 'BARBUNYA', 'BOMBAY', 'BARBUNYA', 'BARBUNYA',\n",
       "       'BARBUNYA', 'BOMBAY', 'BOMBAY', 'BARBUNYA', 'BOMBAY', 'BARBUNYA',\n",
       "       'BARBUNYA', 'BARBUNYA', 'BARBUNYA', 'BARBUNYA', 'BOMBAY',\n",
       "       'BARBUNYA', 'BOMBAY', 'BARBUNYA', 'BARBUNYA', 'BOMBAY', 'BARBUNYA',\n",
       "       'BARBUNYA', 'BOMBAY', 'BOMBAY', 'BOMBAY', 'BOMBAY', 'BARBUNYA',\n",
       "       'BARBUNYA', 'BARBUNYA', 'BARBUNYA', 'BARBUNYA', 'BARBUNYA',\n",
       "       'BARBUNYA', 'BARBUNYA', 'BOMBAY', 'BOMBAY', 'BARBUNYA', 'BARBUNYA',\n",
       "       'BARBUNYA', 'BARBUNYA', 'BARBUNYA', 'BOMBAY', 'BARBUNYA',\n",
       "       'BARBUNYA', 'BARBUNYA', 'BARBUNYA', 'BARBUNYA', 'BARBUNYA',\n",
       "       'BARBUNYA', 'BARBUNYA', 'BARBUNYA', 'BARBUNYA', 'BARBUNYA',\n",
       "       'BARBUNYA', 'BARBUNYA', 'BOMBAY', 'BARBUNYA', 'BARBUNYA',\n",
       "       'BARBUNYA', 'BARBUNYA', 'BARBUNYA', 'BOMBAY', 'BOMBAY', 'BARBUNYA',\n",
       "       'BOMBAY', 'BARBUNYA', 'BARBUNYA', 'BARBUNYA', 'BARBUNYA',\n",
       "       'BARBUNYA', 'BARBUNYA', 'BARBUNYA', 'BARBUNYA', 'BARBUNYA',\n",
       "       'BARBUNYA', 'BOMBAY', 'BARBUNYA', 'BARBUNYA', 'BOMBAY', 'BARBUNYA',\n",
       "       'BARBUNYA', 'BOMBAY', 'BOMBAY', 'BARBUNYA', 'BARBUNYA', 'BARBUNYA',\n",
       "       'BARBUNYA', 'BARBUNYA', 'BOMBAY', 'BARBUNYA', 'BARBUNYA',\n",
       "       'BARBUNYA', 'BARBUNYA', 'BOMBAY', 'BARBUNYA', 'BARBUNYA',\n",
       "       'BARBUNYA', 'BARBUNYA', 'BOMBAY', 'BARBUNYA', 'BARBUNYA',\n",
       "       'BARBUNYA', 'BOMBAY', 'BARBUNYA', 'BOMBAY', 'BOMBAY', 'BARBUNYA',\n",
       "       'BARBUNYA', 'BARBUNYA', 'BARBUNYA', 'BOMBAY', 'BOMBAY', 'BARBUNYA',\n",
       "       'BARBUNYA', 'BOMBAY', 'BARBUNYA', 'BOMBAY', 'BARBUNYA', 'BOMBAY',\n",
       "       'BOMBAY', 'BOMBAY', 'BOMBAY', 'BARBUNYA', 'BOMBAY', 'BOMBAY',\n",
       "       'BARBUNYA', 'BARBUNYA', 'BOMBAY', 'BOMBAY', 'BOMBAY', 'BOMBAY',\n",
       "       'BARBUNYA', 'BARBUNYA', 'BOMBAY', 'BOMBAY', 'BARBUNYA', 'BARBUNYA',\n",
       "       'BARBUNYA', 'BARBUNYA', 'BARBUNYA', 'BOMBAY', 'BARBUNYA',\n",
       "       'BARBUNYA', 'BARBUNYA', 'BOMBAY', 'BARBUNYA', 'BARBUNYA', 'BOMBAY',\n",
       "       'BARBUNYA', 'BARBUNYA', 'BARBUNYA', 'BARBUNYA', 'BARBUNYA',\n",
       "       'BARBUNYA', 'BARBUNYA', 'BARBUNYA', 'BARBUNYA', 'BARBUNYA',\n",
       "       'BARBUNYA', 'BARBUNYA', 'BOMBAY', 'BOMBAY', 'BARBUNYA', 'BARBUNYA',\n",
       "       'BOMBAY', 'BOMBAY', 'BOMBAY', 'BARBUNYA', 'BARBUNYA', 'BARBUNYA',\n",
       "       'BARBUNYA', 'BARBUNYA', 'BARBUNYA', 'BOMBAY', 'BARBUNYA', 'BOMBAY',\n",
       "       'BARBUNYA', 'BARBUNYA', 'BARBUNYA', 'BARBUNYA', 'BARBUNYA',\n",
       "       'BARBUNYA', 'BARBUNYA', 'BARBUNYA', 'BARBUNYA', 'BARBUNYA',\n",
       "       'BARBUNYA', 'BOMBAY', 'BOMBAY', 'BARBUNYA', 'BARBUNYA', 'BOMBAY',\n",
       "       'BOMBAY', 'BARBUNYA', 'BARBUNYA', 'BOMBAY', 'BARBUNYA', 'BOMBAY',\n",
       "       'BARBUNYA', 'BARBUNYA', 'BARBUNYA', 'BOMBAY', 'BARBUNYA',\n",
       "       'BARBUNYA', 'BOMBAY', 'BOMBAY', 'BARBUNYA', 'BARBUNYA', 'BARBUNYA',\n",
       "       'BARBUNYA', 'BARBUNYA', 'BARBUNYA', 'BARBUNYA', 'BARBUNYA',\n",
       "       'BARBUNYA', 'BARBUNYA', 'BARBUNYA', 'BARBUNYA', 'BARBUNYA',\n",
       "       'BARBUNYA', 'BARBUNYA', 'BARBUNYA'], dtype=object)"
      ]
     },
     "execution_count": 249,
     "metadata": {},
     "output_type": "execute_result"
    }
   ],
   "source": [
    "ypred = model.predict(X_test)\n",
    "ypred"
   ]
  },
  {
   "cell_type": "code",
   "execution_count": 250,
   "id": "dce82a3b",
   "metadata": {},
   "outputs": [
    {
     "data": {
      "text/plain": [
       "99.78308026030369"
      ]
     },
     "execution_count": 250,
     "metadata": {},
     "output_type": "execute_result"
    }
   ],
   "source": [
    "from sklearn import metrics\n",
    "metrics.accuracy_score(Y_test,ypred)*100"
   ]
  },
  {
   "cell_type": "code",
   "execution_count": 251,
   "id": "1b54ac9a",
   "metadata": {},
   "outputs": [
    {
     "data": {
      "text/plain": [
       "0.9925925925925926"
      ]
     },
     "execution_count": 251,
     "metadata": {},
     "output_type": "execute_result"
    }
   ],
   "source": [
    "from sklearn.metrics import recall_score\n",
    "recall_score(Y_test,ypred,pos_label='BOMBAY',average='binary')"
   ]
  },
  {
   "cell_type": "code",
   "execution_count": 253,
   "id": "3e3c3b89",
   "metadata": {},
   "outputs": [
    {
     "data": {
      "text/plain": [
       "1.0"
      ]
     },
     "execution_count": 253,
     "metadata": {},
     "output_type": "execute_result"
    }
   ],
   "source": [
    "precision_score(Y_test,Y_pred,pos_label='BOMBAY',average='binary')"
   ]
  },
  {
   "cell_type": "code",
   "execution_count": null,
   "id": "89c5eba8",
   "metadata": {},
   "outputs": [],
   "source": []
  }
 ],
 "metadata": {
  "kernelspec": {
   "display_name": "Python 3 (ipykernel)",
   "language": "python",
   "name": "python3"
  },
  "language_info": {
   "codemirror_mode": {
    "name": "ipython",
    "version": 3
   },
   "file_extension": ".py",
   "mimetype": "text/x-python",
   "name": "python",
   "nbconvert_exporter": "python",
   "pygments_lexer": "ipython3",
   "version": "3.9.7"
  }
 },
 "nbformat": 4,
 "nbformat_minor": 5
}
