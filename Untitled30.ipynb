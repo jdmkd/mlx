{
 "cells": [
  {
   "cell_type": "code",
   "execution_count": 21,
   "id": "0caaeb4f",
   "metadata": {},
   "outputs": [],
   "source": [
    "import pandas as pd"
   ]
  },
  {
   "cell_type": "code",
   "execution_count": 22,
   "id": "cc9b2620",
   "metadata": {},
   "outputs": [
    {
     "data": {
      "text/html": [
       "<div>\n",
       "<style scoped>\n",
       "    .dataframe tbody tr th:only-of-type {\n",
       "        vertical-align: middle;\n",
       "    }\n",
       "\n",
       "    .dataframe tbody tr th {\n",
       "        vertical-align: top;\n",
       "    }\n",
       "\n",
       "    .dataframe thead th {\n",
       "        text-align: right;\n",
       "    }\n",
       "</style>\n",
       "<table border=\"1\" class=\"dataframe\">\n",
       "  <thead>\n",
       "    <tr style=\"text-align: right;\">\n",
       "      <th></th>\n",
       "      <th>Area</th>\n",
       "      <th>Perimeter</th>\n",
       "      <th>Major_Axis_Length</th>\n",
       "      <th>Minor_Axis_Length</th>\n",
       "      <th>Eccentricity</th>\n",
       "      <th>Convex_Area</th>\n",
       "      <th>Extent</th>\n",
       "      <th>Class</th>\n",
       "    </tr>\n",
       "  </thead>\n",
       "  <tbody>\n",
       "    <tr>\n",
       "      <th>0</th>\n",
       "      <td>15231</td>\n",
       "      <td>525.578979</td>\n",
       "      <td>229.749878</td>\n",
       "      <td>85.093788</td>\n",
       "      <td>0.928882</td>\n",
       "      <td>15617</td>\n",
       "      <td>0.572896</td>\n",
       "      <td>Cammeo</td>\n",
       "    </tr>\n",
       "    <tr>\n",
       "      <th>1</th>\n",
       "      <td>14656</td>\n",
       "      <td>494.311005</td>\n",
       "      <td>206.020065</td>\n",
       "      <td>91.730972</td>\n",
       "      <td>0.895405</td>\n",
       "      <td>15072</td>\n",
       "      <td>0.615436</td>\n",
       "      <td>Cammeo</td>\n",
       "    </tr>\n",
       "    <tr>\n",
       "      <th>2</th>\n",
       "      <td>14634</td>\n",
       "      <td>501.122009</td>\n",
       "      <td>214.106781</td>\n",
       "      <td>87.768288</td>\n",
       "      <td>0.912118</td>\n",
       "      <td>14954</td>\n",
       "      <td>0.693259</td>\n",
       "      <td>Cammeo</td>\n",
       "    </tr>\n",
       "    <tr>\n",
       "      <th>3</th>\n",
       "      <td>13176</td>\n",
       "      <td>458.342987</td>\n",
       "      <td>193.337387</td>\n",
       "      <td>87.448395</td>\n",
       "      <td>0.891861</td>\n",
       "      <td>13368</td>\n",
       "      <td>0.640669</td>\n",
       "      <td>Cammeo</td>\n",
       "    </tr>\n",
       "    <tr>\n",
       "      <th>4</th>\n",
       "      <td>14688</td>\n",
       "      <td>507.166992</td>\n",
       "      <td>211.743378</td>\n",
       "      <td>89.312454</td>\n",
       "      <td>0.906691</td>\n",
       "      <td>15262</td>\n",
       "      <td>0.646024</td>\n",
       "      <td>Cammeo</td>\n",
       "    </tr>\n",
       "    <tr>\n",
       "      <th>...</th>\n",
       "      <td>...</td>\n",
       "      <td>...</td>\n",
       "      <td>...</td>\n",
       "      <td>...</td>\n",
       "      <td>...</td>\n",
       "      <td>...</td>\n",
       "      <td>...</td>\n",
       "      <td>...</td>\n",
       "    </tr>\n",
       "    <tr>\n",
       "      <th>3805</th>\n",
       "      <td>11441</td>\n",
       "      <td>415.858002</td>\n",
       "      <td>170.486771</td>\n",
       "      <td>85.756592</td>\n",
       "      <td>0.864280</td>\n",
       "      <td>11628</td>\n",
       "      <td>0.681012</td>\n",
       "      <td>Osmancik</td>\n",
       "    </tr>\n",
       "    <tr>\n",
       "      <th>3806</th>\n",
       "      <td>11625</td>\n",
       "      <td>421.390015</td>\n",
       "      <td>167.714798</td>\n",
       "      <td>89.462570</td>\n",
       "      <td>0.845850</td>\n",
       "      <td>11904</td>\n",
       "      <td>0.694279</td>\n",
       "      <td>Osmancik</td>\n",
       "    </tr>\n",
       "    <tr>\n",
       "      <th>3807</th>\n",
       "      <td>12437</td>\n",
       "      <td>442.498993</td>\n",
       "      <td>183.572922</td>\n",
       "      <td>86.801979</td>\n",
       "      <td>0.881144</td>\n",
       "      <td>12645</td>\n",
       "      <td>0.626739</td>\n",
       "      <td>Osmancik</td>\n",
       "    </tr>\n",
       "    <tr>\n",
       "      <th>3808</th>\n",
       "      <td>9882</td>\n",
       "      <td>392.296997</td>\n",
       "      <td>161.193985</td>\n",
       "      <td>78.210480</td>\n",
       "      <td>0.874406</td>\n",
       "      <td>10097</td>\n",
       "      <td>0.659064</td>\n",
       "      <td>Osmancik</td>\n",
       "    </tr>\n",
       "    <tr>\n",
       "      <th>3809</th>\n",
       "      <td>11434</td>\n",
       "      <td>404.709992</td>\n",
       "      <td>161.079269</td>\n",
       "      <td>90.868195</td>\n",
       "      <td>0.825692</td>\n",
       "      <td>11591</td>\n",
       "      <td>0.802949</td>\n",
       "      <td>Osmancik</td>\n",
       "    </tr>\n",
       "  </tbody>\n",
       "</table>\n",
       "<p>3810 rows × 8 columns</p>\n",
       "</div>"
      ],
      "text/plain": [
       "       Area   Perimeter  Major_Axis_Length  Minor_Axis_Length  Eccentricity  \\\n",
       "0     15231  525.578979         229.749878          85.093788      0.928882   \n",
       "1     14656  494.311005         206.020065          91.730972      0.895405   \n",
       "2     14634  501.122009         214.106781          87.768288      0.912118   \n",
       "3     13176  458.342987         193.337387          87.448395      0.891861   \n",
       "4     14688  507.166992         211.743378          89.312454      0.906691   \n",
       "...     ...         ...                ...                ...           ...   \n",
       "3805  11441  415.858002         170.486771          85.756592      0.864280   \n",
       "3806  11625  421.390015         167.714798          89.462570      0.845850   \n",
       "3807  12437  442.498993         183.572922          86.801979      0.881144   \n",
       "3808   9882  392.296997         161.193985          78.210480      0.874406   \n",
       "3809  11434  404.709992         161.079269          90.868195      0.825692   \n",
       "\n",
       "      Convex_Area    Extent     Class  \n",
       "0           15617  0.572896    Cammeo  \n",
       "1           15072  0.615436    Cammeo  \n",
       "2           14954  0.693259    Cammeo  \n",
       "3           13368  0.640669    Cammeo  \n",
       "4           15262  0.646024    Cammeo  \n",
       "...           ...       ...       ...  \n",
       "3805        11628  0.681012  Osmancik  \n",
       "3806        11904  0.694279  Osmancik  \n",
       "3807        12645  0.626739  Osmancik  \n",
       "3808        10097  0.659064  Osmancik  \n",
       "3809        11591  0.802949  Osmancik  \n",
       "\n",
       "[3810 rows x 8 columns]"
      ]
     },
     "execution_count": 22,
     "metadata": {},
     "output_type": "execute_result"
    }
   ],
   "source": [
    "df = pd.read_csv(\"Rice_Dataset.csv\")\n",
    "df"
   ]
  },
  {
   "cell_type": "code",
   "execution_count": 23,
   "id": "601a0980",
   "metadata": {},
   "outputs": [
    {
     "data": {
      "text/plain": [
       "array([[15231.        ,   525.5789795 ,   229.7498779 ,    85.09378815],\n",
       "       [14656.        ,   494.3110046 ,   206.0200653 ,    91.73097229],\n",
       "       [14634.        ,   501.1220093 ,   214.106781  ,    87.76828766],\n",
       "       ...,\n",
       "       [12437.        ,   442.4989929 ,   183.5729218 ,    86.80197906],\n",
       "       [ 9882.        ,   392.2969971 ,   161.193985  ,    78.21047974],\n",
       "       [11434.        ,   404.7099915 ,   161.0792694 ,    90.86819458]])"
      ]
     },
     "execution_count": 23,
     "metadata": {},
     "output_type": "execute_result"
    }
   ],
   "source": [
    "x=df.iloc[:,[0,1,2,3]].values\n",
    "x"
   ]
  },
  {
   "cell_type": "code",
   "execution_count": 24,
   "id": "c35c9b0b",
   "metadata": {},
   "outputs": [
    {
     "data": {
      "text/plain": [
       "array(['Cammeo', 'Cammeo', 'Cammeo', ..., 'Osmancik', 'Osmancik',\n",
       "       'Osmancik'], dtype=object)"
      ]
     },
     "execution_count": 24,
     "metadata": {},
     "output_type": "execute_result"
    }
   ],
   "source": [
    "y = df.iloc[:,7].values\n",
    "y"
   ]
  },
  {
   "cell_type": "code",
   "execution_count": 25,
   "id": "32a8e4ca",
   "metadata": {},
   "outputs": [],
   "source": [
    "from sklearn.model_selection import train_test_split\n",
    "X_train,X_test,Y_train,Y_test=train_test_split(x,y,test_size=0.25,random_state=10)"
   ]
  },
  {
   "cell_type": "code",
   "execution_count": 26,
   "id": "b588de2e",
   "metadata": {},
   "outputs": [],
   "source": [
    "from sklearn.ensemble import RandomForestClassifier"
   ]
  },
  {
   "cell_type": "code",
   "execution_count": 27,
   "id": "580368cf",
   "metadata": {},
   "outputs": [],
   "source": [
    "model = RandomForestClassifier()"
   ]
  },
  {
   "cell_type": "code",
   "execution_count": 28,
   "id": "078b5b48",
   "metadata": {},
   "outputs": [
    {
     "data": {
      "text/plain": [
       "RandomForestClassifier()"
      ]
     },
     "execution_count": 28,
     "metadata": {},
     "output_type": "execute_result"
    }
   ],
   "source": [
    "model.fit(X_train,Y_train)"
   ]
  },
  {
   "cell_type": "code",
   "execution_count": 29,
   "id": "92037157",
   "metadata": {},
   "outputs": [],
   "source": [
    "ypred = model.predict(X_test)"
   ]
  },
  {
   "cell_type": "code",
   "execution_count": 30,
   "id": "86ba73fb",
   "metadata": {},
   "outputs": [
    {
     "data": {
      "text/plain": [
       "array(['Cammeo', 'Cammeo', 'Osmancik', 'Cammeo', 'Osmancik', 'Cammeo',\n",
       "       'Osmancik', 'Osmancik', 'Cammeo', 'Cammeo', 'Osmancik', 'Osmancik',\n",
       "       'Osmancik', 'Cammeo', 'Cammeo', 'Osmancik', 'Cammeo', 'Osmancik',\n",
       "       'Osmancik', 'Osmancik', 'Osmancik', 'Osmancik', 'Cammeo', 'Cammeo',\n",
       "       'Osmancik', 'Osmancik', 'Cammeo', 'Osmancik', 'Cammeo', 'Cammeo',\n",
       "       'Cammeo', 'Osmancik', 'Cammeo', 'Osmancik', 'Cammeo', 'Osmancik',\n",
       "       'Osmancik', 'Cammeo', 'Osmancik', 'Osmancik', 'Cammeo', 'Osmancik',\n",
       "       'Cammeo', 'Osmancik', 'Osmancik', 'Cammeo', 'Osmancik', 'Cammeo',\n",
       "       'Cammeo', 'Cammeo', 'Cammeo', 'Cammeo', 'Osmancik', 'Osmancik',\n",
       "       'Osmancik', 'Cammeo', 'Cammeo', 'Osmancik', 'Osmancik', 'Osmancik',\n",
       "       'Cammeo', 'Osmancik', 'Cammeo', 'Osmancik', 'Osmancik', 'Osmancik',\n",
       "       'Osmancik', 'Osmancik', 'Osmancik', 'Cammeo', 'Osmancik',\n",
       "       'Osmancik', 'Cammeo', 'Cammeo', 'Cammeo', 'Osmancik', 'Cammeo',\n",
       "       'Osmancik', 'Cammeo', 'Osmancik', 'Osmancik', 'Osmancik',\n",
       "       'Osmancik', 'Cammeo', 'Osmancik', 'Cammeo', 'Osmancik', 'Cammeo',\n",
       "       'Cammeo', 'Osmancik', 'Osmancik', 'Osmancik', 'Osmancik', 'Cammeo',\n",
       "       'Cammeo', 'Osmancik', 'Osmancik', 'Osmancik', 'Osmancik',\n",
       "       'Osmancik', 'Osmancik', 'Osmancik', 'Cammeo', 'Osmancik', 'Cammeo',\n",
       "       'Osmancik', 'Osmancik', 'Osmancik', 'Cammeo', 'Osmancik', 'Cammeo',\n",
       "       'Osmancik', 'Osmancik', 'Osmancik', 'Osmancik', 'Osmancik',\n",
       "       'Cammeo', 'Osmancik', 'Cammeo', 'Osmancik', 'Cammeo', 'Cammeo',\n",
       "       'Osmancik', 'Cammeo', 'Cammeo', 'Osmancik', 'Cammeo', 'Osmancik',\n",
       "       'Osmancik', 'Cammeo', 'Osmancik', 'Osmancik', 'Osmancik',\n",
       "       'Osmancik', 'Osmancik', 'Osmancik', 'Osmancik', 'Osmancik',\n",
       "       'Osmancik', 'Osmancik', 'Osmancik', 'Osmancik', 'Osmancik',\n",
       "       'Cammeo', 'Osmancik', 'Osmancik', 'Cammeo', 'Osmancik', 'Cammeo',\n",
       "       'Cammeo', 'Cammeo', 'Cammeo', 'Osmancik', 'Cammeo', 'Osmancik',\n",
       "       'Osmancik', 'Osmancik', 'Osmancik', 'Osmancik', 'Osmancik',\n",
       "       'Osmancik', 'Cammeo', 'Osmancik', 'Osmancik', 'Cammeo', 'Osmancik',\n",
       "       'Osmancik', 'Osmancik', 'Osmancik', 'Osmancik', 'Cammeo',\n",
       "       'Osmancik', 'Osmancik', 'Cammeo', 'Osmancik', 'Cammeo', 'Osmancik',\n",
       "       'Cammeo', 'Cammeo', 'Cammeo', 'Cammeo', 'Osmancik', 'Osmancik',\n",
       "       'Osmancik', 'Cammeo', 'Cammeo', 'Cammeo', 'Osmancik', 'Cammeo',\n",
       "       'Cammeo', 'Cammeo', 'Cammeo', 'Osmancik', 'Osmancik', 'Osmancik',\n",
       "       'Cammeo', 'Osmancik', 'Osmancik', 'Osmancik', 'Cammeo', 'Cammeo',\n",
       "       'Osmancik', 'Cammeo', 'Cammeo', 'Osmancik', 'Cammeo', 'Osmancik',\n",
       "       'Cammeo', 'Cammeo', 'Cammeo', 'Osmancik', 'Cammeo', 'Cammeo',\n",
       "       'Cammeo', 'Cammeo', 'Osmancik', 'Osmancik', 'Osmancik', 'Osmancik',\n",
       "       'Osmancik', 'Cammeo', 'Cammeo', 'Osmancik', 'Osmancik', 'Cammeo',\n",
       "       'Osmancik', 'Cammeo', 'Osmancik', 'Osmancik', 'Osmancik', 'Cammeo',\n",
       "       'Osmancik', 'Cammeo', 'Cammeo', 'Osmancik', 'Osmancik', 'Cammeo',\n",
       "       'Cammeo', 'Osmancik', 'Osmancik', 'Cammeo', 'Osmancik', 'Cammeo',\n",
       "       'Osmancik', 'Cammeo', 'Osmancik', 'Cammeo', 'Osmancik', 'Cammeo',\n",
       "       'Cammeo', 'Osmancik', 'Osmancik', 'Osmancik', 'Osmancik', 'Cammeo',\n",
       "       'Osmancik', 'Osmancik', 'Osmancik', 'Osmancik', 'Cammeo', 'Cammeo',\n",
       "       'Cammeo', 'Osmancik', 'Osmancik', 'Osmancik', 'Cammeo', 'Osmancik',\n",
       "       'Cammeo', 'Osmancik', 'Cammeo', 'Osmancik', 'Osmancik', 'Osmancik',\n",
       "       'Osmancik', 'Osmancik', 'Osmancik', 'Osmancik', 'Cammeo', 'Cammeo',\n",
       "       'Osmancik', 'Osmancik', 'Cammeo', 'Cammeo', 'Osmancik', 'Osmancik',\n",
       "       'Cammeo', 'Cammeo', 'Cammeo', 'Cammeo', 'Cammeo', 'Osmancik',\n",
       "       'Cammeo', 'Cammeo', 'Cammeo', 'Cammeo', 'Cammeo', 'Osmancik',\n",
       "       'Cammeo', 'Cammeo', 'Osmancik', 'Osmancik', 'Cammeo', 'Osmancik',\n",
       "       'Cammeo', 'Osmancik', 'Osmancik', 'Osmancik', 'Osmancik', 'Cammeo',\n",
       "       'Cammeo', 'Osmancik', 'Cammeo', 'Cammeo', 'Cammeo', 'Osmancik',\n",
       "       'Osmancik', 'Cammeo', 'Cammeo', 'Cammeo', 'Cammeo', 'Cammeo',\n",
       "       'Osmancik', 'Osmancik', 'Osmancik', 'Cammeo', 'Cammeo', 'Osmancik',\n",
       "       'Osmancik', 'Cammeo', 'Cammeo', 'Osmancik', 'Osmancik', 'Cammeo',\n",
       "       'Osmancik', 'Cammeo', 'Cammeo', 'Osmancik', 'Osmancik', 'Osmancik',\n",
       "       'Cammeo', 'Osmancik', 'Osmancik', 'Cammeo', 'Osmancik', 'Osmancik',\n",
       "       'Osmancik', 'Osmancik', 'Cammeo', 'Osmancik', 'Osmancik', 'Cammeo',\n",
       "       'Osmancik', 'Osmancik', 'Cammeo', 'Cammeo', 'Cammeo', 'Cammeo',\n",
       "       'Osmancik', 'Osmancik', 'Osmancik', 'Cammeo', 'Osmancik',\n",
       "       'Osmancik', 'Osmancik', 'Osmancik', 'Osmancik', 'Cammeo',\n",
       "       'Osmancik', 'Osmancik', 'Osmancik', 'Cammeo', 'Osmancik', 'Cammeo',\n",
       "       'Osmancik', 'Cammeo', 'Cammeo', 'Osmancik', 'Cammeo', 'Cammeo',\n",
       "       'Osmancik', 'Cammeo', 'Cammeo', 'Cammeo', 'Cammeo', 'Osmancik',\n",
       "       'Cammeo', 'Osmancik', 'Osmancik', 'Osmancik', 'Osmancik', 'Cammeo',\n",
       "       'Osmancik', 'Cammeo', 'Osmancik', 'Cammeo', 'Osmancik', 'Osmancik',\n",
       "       'Cammeo', 'Osmancik', 'Cammeo', 'Osmancik', 'Cammeo', 'Cammeo',\n",
       "       'Cammeo', 'Cammeo', 'Cammeo', 'Osmancik', 'Cammeo', 'Osmancik',\n",
       "       'Cammeo', 'Cammeo', 'Osmancik', 'Osmancik', 'Osmancik', 'Osmancik',\n",
       "       'Osmancik', 'Osmancik', 'Osmancik', 'Osmancik', 'Cammeo',\n",
       "       'Osmancik', 'Cammeo', 'Osmancik', 'Osmancik', 'Osmancik',\n",
       "       'Osmancik', 'Osmancik', 'Cammeo', 'Osmancik', 'Osmancik', 'Cammeo',\n",
       "       'Osmancik', 'Osmancik', 'Cammeo', 'Cammeo', 'Osmancik', 'Cammeo',\n",
       "       'Osmancik', 'Cammeo', 'Cammeo', 'Osmancik', 'Osmancik', 'Cammeo',\n",
       "       'Cammeo', 'Osmancik', 'Osmancik', 'Osmancik', 'Osmancik',\n",
       "       'Osmancik', 'Osmancik', 'Osmancik', 'Osmancik', 'Osmancik',\n",
       "       'Cammeo', 'Osmancik', 'Osmancik', 'Osmancik', 'Cammeo', 'Cammeo',\n",
       "       'Cammeo', 'Osmancik', 'Cammeo', 'Osmancik', 'Osmancik', 'Osmancik',\n",
       "       'Osmancik', 'Cammeo', 'Cammeo', 'Cammeo', 'Osmancik', 'Osmancik',\n",
       "       'Osmancik', 'Osmancik', 'Osmancik', 'Osmancik', 'Cammeo',\n",
       "       'Osmancik', 'Cammeo', 'Cammeo', 'Cammeo', 'Cammeo', 'Osmancik',\n",
       "       'Cammeo', 'Cammeo', 'Osmancik', 'Osmancik', 'Osmancik', 'Osmancik',\n",
       "       'Osmancik', 'Osmancik', 'Cammeo', 'Cammeo', 'Osmancik', 'Cammeo',\n",
       "       'Cammeo', 'Cammeo', 'Cammeo', 'Osmancik', 'Cammeo', 'Osmancik',\n",
       "       'Cammeo', 'Osmancik', 'Cammeo', 'Osmancik', 'Cammeo', 'Osmancik',\n",
       "       'Cammeo', 'Osmancik', 'Cammeo', 'Osmancik', 'Cammeo', 'Osmancik',\n",
       "       'Cammeo', 'Cammeo', 'Osmancik', 'Osmancik', 'Osmancik', 'Osmancik',\n",
       "       'Cammeo', 'Cammeo', 'Osmancik', 'Cammeo', 'Cammeo', 'Cammeo',\n",
       "       'Cammeo', 'Cammeo', 'Cammeo', 'Osmancik', 'Osmancik', 'Osmancik',\n",
       "       'Osmancik', 'Osmancik', 'Osmancik', 'Cammeo', 'Osmancik',\n",
       "       'Osmancik', 'Cammeo', 'Cammeo', 'Osmancik', 'Osmancik', 'Osmancik',\n",
       "       'Cammeo', 'Osmancik', 'Cammeo', 'Osmancik', 'Osmancik', 'Cammeo',\n",
       "       'Osmancik', 'Cammeo', 'Cammeo', 'Osmancik', 'Osmancik', 'Cammeo',\n",
       "       'Cammeo', 'Osmancik', 'Cammeo', 'Osmancik', 'Osmancik', 'Cammeo',\n",
       "       'Osmancik', 'Osmancik', 'Osmancik', 'Osmancik', 'Osmancik',\n",
       "       'Osmancik', 'Cammeo', 'Osmancik', 'Osmancik', 'Cammeo', 'Cammeo',\n",
       "       'Cammeo', 'Cammeo', 'Osmancik', 'Osmancik', 'Osmancik', 'Cammeo',\n",
       "       'Osmancik', 'Cammeo', 'Cammeo', 'Cammeo', 'Cammeo', 'Osmancik',\n",
       "       'Osmancik', 'Cammeo', 'Cammeo', 'Osmancik', 'Cammeo', 'Cammeo',\n",
       "       'Cammeo', 'Cammeo', 'Cammeo', 'Osmancik', 'Osmancik', 'Osmancik',\n",
       "       'Osmancik', 'Osmancik', 'Osmancik', 'Cammeo', 'Cammeo', 'Osmancik',\n",
       "       'Osmancik', 'Cammeo', 'Cammeo', 'Osmancik', 'Cammeo', 'Cammeo',\n",
       "       'Osmancik', 'Cammeo', 'Osmancik', 'Osmancik', 'Osmancik', 'Cammeo',\n",
       "       'Osmancik', 'Osmancik', 'Cammeo', 'Osmancik', 'Osmancik',\n",
       "       'Osmancik', 'Osmancik', 'Osmancik', 'Osmancik', 'Cammeo', 'Cammeo',\n",
       "       'Cammeo', 'Osmancik', 'Cammeo', 'Osmancik', 'Osmancik', 'Osmancik',\n",
       "       'Osmancik', 'Osmancik', 'Cammeo', 'Osmancik', 'Cammeo', 'Cammeo',\n",
       "       'Cammeo', 'Cammeo', 'Cammeo', 'Osmancik', 'Cammeo', 'Cammeo',\n",
       "       'Osmancik', 'Cammeo', 'Cammeo', 'Cammeo', 'Cammeo', 'Osmancik',\n",
       "       'Osmancik', 'Osmancik', 'Cammeo', 'Osmancik', 'Cammeo', 'Cammeo',\n",
       "       'Cammeo', 'Osmancik', 'Osmancik', 'Cammeo', 'Osmancik', 'Cammeo',\n",
       "       'Osmancik', 'Osmancik', 'Cammeo', 'Osmancik', 'Osmancik',\n",
       "       'Osmancik', 'Cammeo', 'Cammeo', 'Osmancik', 'Cammeo', 'Cammeo',\n",
       "       'Osmancik', 'Cammeo', 'Cammeo', 'Cammeo', 'Osmancik', 'Osmancik',\n",
       "       'Osmancik', 'Cammeo', 'Cammeo', 'Osmancik', 'Osmancik', 'Osmancik',\n",
       "       'Osmancik', 'Osmancik', 'Osmancik', 'Cammeo', 'Osmancik', 'Cammeo',\n",
       "       'Osmancik', 'Osmancik', 'Cammeo', 'Osmancik', 'Osmancik',\n",
       "       'Osmancik', 'Osmancik', 'Cammeo', 'Cammeo', 'Cammeo', 'Osmancik',\n",
       "       'Osmancik', 'Cammeo', 'Osmancik', 'Cammeo', 'Cammeo', 'Osmancik',\n",
       "       'Osmancik', 'Osmancik', 'Osmancik', 'Cammeo', 'Cammeo', 'Osmancik',\n",
       "       'Osmancik', 'Osmancik', 'Cammeo', 'Cammeo', 'Osmancik', 'Osmancik',\n",
       "       'Osmancik', 'Cammeo', 'Osmancik', 'Osmancik', 'Osmancik', 'Cammeo',\n",
       "       'Osmancik', 'Osmancik', 'Osmancik', 'Osmancik', 'Osmancik',\n",
       "       'Cammeo', 'Cammeo', 'Osmancik', 'Osmancik', 'Osmancik', 'Osmancik',\n",
       "       'Cammeo', 'Cammeo', 'Osmancik', 'Osmancik', 'Osmancik', 'Osmancik',\n",
       "       'Osmancik', 'Cammeo', 'Osmancik', 'Cammeo', 'Osmancik', 'Cammeo',\n",
       "       'Cammeo', 'Cammeo', 'Cammeo', 'Osmancik', 'Osmancik', 'Osmancik',\n",
       "       'Cammeo', 'Osmancik', 'Osmancik', 'Osmancik', 'Cammeo', 'Cammeo',\n",
       "       'Osmancik', 'Cammeo', 'Osmancik', 'Cammeo', 'Cammeo', 'Osmancik',\n",
       "       'Osmancik', 'Osmancik', 'Cammeo', 'Cammeo', 'Osmancik', 'Cammeo',\n",
       "       'Cammeo', 'Cammeo', 'Cammeo', 'Cammeo', 'Osmancik', 'Osmancik',\n",
       "       'Cammeo', 'Osmancik', 'Osmancik', 'Osmancik', 'Cammeo', 'Cammeo',\n",
       "       'Osmancik', 'Cammeo', 'Osmancik', 'Osmancik', 'Osmancik', 'Cammeo',\n",
       "       'Osmancik', 'Cammeo', 'Cammeo', 'Osmancik', 'Osmancik', 'Cammeo',\n",
       "       'Osmancik', 'Cammeo', 'Osmancik', 'Osmancik', 'Osmancik',\n",
       "       'Osmancik', 'Cammeo', 'Osmancik', 'Osmancik', 'Osmancik', 'Cammeo',\n",
       "       'Cammeo', 'Osmancik', 'Osmancik', 'Cammeo', 'Cammeo', 'Cammeo',\n",
       "       'Osmancik', 'Osmancik', 'Cammeo', 'Cammeo', 'Osmancik', 'Cammeo',\n",
       "       'Osmancik', 'Cammeo', 'Cammeo', 'Osmancik', 'Cammeo', 'Osmancik',\n",
       "       'Osmancik', 'Cammeo', 'Osmancik', 'Osmancik', 'Cammeo', 'Cammeo',\n",
       "       'Cammeo', 'Osmancik', 'Osmancik', 'Osmancik', 'Cammeo', 'Osmancik',\n",
       "       'Cammeo', 'Osmancik', 'Osmancik', 'Osmancik', 'Osmancik',\n",
       "       'Osmancik', 'Osmancik', 'Osmancik', 'Cammeo', 'Osmancik',\n",
       "       'Osmancik', 'Cammeo', 'Osmancik', 'Cammeo', 'Osmancik', 'Osmancik',\n",
       "       'Osmancik', 'Osmancik', 'Osmancik', 'Cammeo', 'Osmancik',\n",
       "       'Osmancik', 'Cammeo', 'Cammeo', 'Osmancik', 'Cammeo', 'Osmancik',\n",
       "       'Osmancik', 'Osmancik', 'Cammeo', 'Cammeo', 'Cammeo', 'Osmancik',\n",
       "       'Osmancik', 'Osmancik', 'Osmancik', 'Cammeo', 'Osmancik', 'Cammeo',\n",
       "       'Cammeo', 'Cammeo', 'Cammeo', 'Osmancik', 'Cammeo', 'Cammeo',\n",
       "       'Osmancik', 'Osmancik', 'Cammeo', 'Osmancik', 'Osmancik', 'Cammeo',\n",
       "       'Cammeo', 'Cammeo', 'Cammeo', 'Osmancik', 'Osmancik', 'Osmancik',\n",
       "       'Osmancik', 'Cammeo', 'Osmancik', 'Cammeo', 'Cammeo', 'Cammeo',\n",
       "       'Cammeo', 'Osmancik', 'Osmancik', 'Cammeo', 'Cammeo', 'Osmancik',\n",
       "       'Cammeo', 'Cammeo', 'Osmancik', 'Osmancik', 'Osmancik', 'Cammeo',\n",
       "       'Cammeo', 'Osmancik', 'Osmancik', 'Cammeo', 'Osmancik', 'Osmancik',\n",
       "       'Osmancik', 'Cammeo', 'Osmancik', 'Osmancik', 'Osmancik',\n",
       "       'Osmancik', 'Cammeo', 'Osmancik', 'Cammeo', 'Osmancik', 'Osmancik',\n",
       "       'Osmancik', 'Osmancik', 'Cammeo', 'Osmancik', 'Cammeo', 'Osmancik',\n",
       "       'Osmancik', 'Cammeo', 'Osmancik', 'Osmancik', 'Osmancik',\n",
       "       'Osmancik', 'Osmancik', 'Osmancik', 'Osmancik', 'Osmancik',\n",
       "       'Osmancik', 'Osmancik', 'Osmancik', 'Osmancik', 'Osmancik',\n",
       "       'Osmancik', 'Osmancik', 'Osmancik', 'Osmancik', 'Osmancik'],\n",
       "      dtype=object)"
      ]
     },
     "execution_count": 30,
     "metadata": {},
     "output_type": "execute_result"
    }
   ],
   "source": [
    "ypred"
   ]
  },
  {
   "cell_type": "code",
   "execution_count": 32,
   "id": "1c7d70ad",
   "metadata": {},
   "outputs": [
    {
     "data": {
      "text/plain": [
       "91.08079748163694"
      ]
     },
     "execution_count": 32,
     "metadata": {},
     "output_type": "execute_result"
    }
   ],
   "source": [
    "from sklearn import metrics\n",
    "metrics.accuracy_score(Y_test,ypred)*100"
   ]
  },
  {
   "cell_type": "code",
   "execution_count": 34,
   "id": "83aa3e2e",
   "metadata": {},
   "outputs": [
    {
     "data": {
      "text/plain": [
       "array([[372,  52],\n",
       "       [ 33, 496]], dtype=int64)"
      ]
     },
     "execution_count": 34,
     "metadata": {},
     "output_type": "execute_result"
    }
   ],
   "source": [
    "from sklearn.metrics import confusion_matrix\n",
    "cm=confusion_matrix(Y_test,ypred)\n",
    "cm"
   ]
  },
  {
   "cell_type": "code",
   "execution_count": 35,
   "id": "83b4c993",
   "metadata": {},
   "outputs": [
    {
     "ename": "NameError",
     "evalue": "name 'recall_score' is not defined",
     "output_type": "error",
     "traceback": [
      "\u001b[1;31m---------------------------------------------------------------------------\u001b[0m",
      "\u001b[1;31mNameError\u001b[0m                                 Traceback (most recent call last)",
      "\u001b[1;32mC:\\Users\\ADMINI~1\\AppData\\Local\\Temp/ipykernel_116/2241166768.py\u001b[0m in \u001b[0;36m<module>\u001b[1;34m\u001b[0m\n\u001b[1;32m----> 1\u001b[1;33m \u001b[0mrecall_score\u001b[0m\u001b[1;33m(\u001b[0m\u001b[0mY_test\u001b[0m\u001b[1;33m,\u001b[0m\u001b[0mypred\u001b[0m\u001b[1;33m,\u001b[0m\u001b[0mpos_label\u001b[0m\u001b[1;33m=\u001b[0m\u001b[1;34m'Cammeo'\u001b[0m\u001b[1;33m,\u001b[0m\u001b[0maverage\u001b[0m\u001b[1;33m=\u001b[0m\u001b[1;34m'binary'\u001b[0m\u001b[1;33m)\u001b[0m\u001b[1;33m\u001b[0m\u001b[1;33m\u001b[0m\u001b[0m\n\u001b[0m",
      "\u001b[1;31mNameError\u001b[0m: name 'recall_score' is not defined"
     ]
    }
   ],
   "source": [
    "from \n",
    "recall_score(Y_test,ypred,pos_label='Cammeo',average='binary')"
   ]
  },
  {
   "cell_type": "code",
   "execution_count": null,
   "id": "359f9bd9",
   "metadata": {},
   "outputs": [],
   "source": []
  }
 ],
 "metadata": {
  "kernelspec": {
   "display_name": "Python 3 (ipykernel)",
   "language": "python",
   "name": "python3"
  },
  "language_info": {
   "codemirror_mode": {
    "name": "ipython",
    "version": 3
   },
   "file_extension": ".py",
   "mimetype": "text/x-python",
   "name": "python",
   "nbconvert_exporter": "python",
   "pygments_lexer": "ipython3",
   "version": "3.9.7"
  }
 },
 "nbformat": 4,
 "nbformat_minor": 5
}
